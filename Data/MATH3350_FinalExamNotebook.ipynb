{
 "cells": [
  {
   "cell_type": "markdown",
   "id": "ranging-amplifier",
   "metadata": {},
   "source": [
    "# MATH 3350 Final Exam Notebook\n",
    "\n",
    "This notebook loads data sets you need for the online portion of the final exam; it also provides an area for your work in _R_.  \n",
    "\n",
    "### Complete the analyses below and use your work to answer questions in the D2L Quiz. \n",
    "\n",
    "### For every analysis, you will need to report a test statistic (e.g., z, t, F, $\\chi^2$) and a p-value.\n",
    "\n",
    "#### This notebook will not be graded. **_All scoring will be based on answers you give in the quiz._**\n",
    "\n",
    "#### The online portion of the exam is 30% of your exam grade.\n",
    "\n"
   ]
  },
  {
   "cell_type": "markdown",
   "id": "fuzzy-philip",
   "metadata": {},
   "source": [
    "## Car Features\n",
    "\n",
    "The following code cell loads a data set of 2004 cars with several features.  The first 6 variables are binary indicators (0=false, 1=true) for specific types of car (sport, SUV, etc.) \n",
    "\n",
    "Create each of the linear regression models described below. \n",
    "\n",
    "For EACH model, print a model summary (includes all coefficients, t-statistics, p-values, and $R^2$ values).\n",
    "\n",
    "For **simple regression models** (one predictor), create a scatterplot of the independent and dependent variables. \n",
    "\n",
    "For **multiple regression models** (Models 3, 4, and 5), produce the Residual and Q-Q diagnostic plots. \n",
    "\n",
    "### Models\n",
    "\n",
    "1. A model predicting highway gas mileage (**Highway.MPG**) based on engine size (**EngineSize**) \n",
    "2. A model predicting city gas mileage (**City.MPG**) based on horsepower (**HP**)\n",
    "3. A model predicting horsepower based on engine size and whether the vehicle is a sports car (**sport**)\n",
    "4. A model predicting suggested retail price (**MSRP**) based on variables **Invoice**, **HP**, and **Weight**\n",
    "5. A model predicting engine size based on variables **WheelBase**, **HP**, **Cylinders**, and **Weight**"
   ]
  },
  {
   "cell_type": "code",
   "execution_count": null,
   "id": "binding-platinum",
   "metadata": {},
   "outputs": [],
   "source": [
    "cars <- read.csv(\"04cars_brief.csv\")\n",
    "head(cars)\n"
   ]
  },
  {
   "cell_type": "code",
   "execution_count": null,
   "id": "textile-strain",
   "metadata": {},
   "outputs": [],
   "source": [
    "#Car Features - Model 1"
   ]
  },
  {
   "cell_type": "code",
   "execution_count": null,
   "id": "threatened-tournament",
   "metadata": {},
   "outputs": [],
   "source": [
    "#Car Features - Model 2"
   ]
  },
  {
   "cell_type": "code",
   "execution_count": null,
   "id": "binary-softball",
   "metadata": {},
   "outputs": [],
   "source": [
    "#Car Features - Model 3"
   ]
  },
  {
   "cell_type": "code",
   "execution_count": null,
   "id": "superior-mobility",
   "metadata": {},
   "outputs": [],
   "source": [
    "#Car Features - Model 4"
   ]
  },
  {
   "cell_type": "code",
   "execution_count": null,
   "id": "bridal-blast",
   "metadata": {},
   "outputs": [],
   "source": [
    "#Car Features - Model 5"
   ]
  },
  {
   "cell_type": "markdown",
   "id": "tamil-family",
   "metadata": {},
   "source": [
    "## Titanic Survivors\n",
    "\n",
    "The following table shows passengers of the Titanic by their survival status and by the class of their ticket. Conduct the appropriate statistical test to determine whether survival status and ticket class are independent.\n",
    "\n",
    "Status   | 1st Class | 2nd Class | 3rd Class\n",
    "---------|-----------|-----------|----------\n",
    "Survived | 202\t| 118 | 178\n",
    "Did Not Survive | 123 | 167 | 528\n"
   ]
  },
  {
   "cell_type": "code",
   "execution_count": null,
   "id": "numerical-money",
   "metadata": {},
   "outputs": [],
   "source": [
    "# Work Area: Titanic Survivors\n"
   ]
  },
  {
   "cell_type": "markdown",
   "id": "measured-overview",
   "metadata": {},
   "source": [
    "## Blood Pressure Medication\n",
    "\n",
    "Captopril is a drug designed to lower systolic blood pressure. When subjects were tested with this drug, their systolic blood pressure readings (in mm of mercury) were measure before and after the drug was taken. Use the sample data loaded in the cell below to test the drug company's claim that Captopril _lowers_ blood pressure at the $\\alpha = .01$ significance level. **Pre** represents the reading before the drug was taken; **Post** represents the reading afterward."
   ]
  },
  {
   "cell_type": "code",
   "execution_count": null,
   "id": "supported-summit",
   "metadata": {},
   "outputs": [],
   "source": [
    "bpmed <- read.csv(\"BloodPressureMed.csv\")\n",
    "head(bpmed)"
   ]
  },
  {
   "cell_type": "code",
   "execution_count": null,
   "id": "relative-yield",
   "metadata": {},
   "outputs": [],
   "source": [
    "# Work Area: Blood Pressure Medication\n"
   ]
  },
  {
   "cell_type": "markdown",
   "id": "recognized-briefs",
   "metadata": {},
   "source": [
    "## Felon Rehabilitation Programs\n",
    "\n",
    "A sociologist is researching the effectiveness of four rehabilitation programs for convicted felons in a prison. Felons are randomly assigned to one of the four programs. One is a basic literacy program, one is a vocational training program, one is a community service program, and one is a psychological counseling program. After being in one of the programs for 6 months, each felon is given a behavior improvement score based on daily conduct reports. The improvement scores for felons in each program are given in the data set below. Test whether average improvement differs among the four rehabilitation programs."
   ]
  },
  {
   "cell_type": "code",
   "execution_count": null,
   "id": "current-clearing",
   "metadata": {},
   "outputs": [],
   "source": [
    "rehab <- read.csv(\"FelonRehab.csv\",stringsAsFactors=TRUE)\n",
    "head(rehab)\n",
    "cat(\"Rehab Programs: \")\n",
    "summary(rehab$Group)"
   ]
  },
  {
   "cell_type": "code",
   "execution_count": null,
   "id": "concrete-macro",
   "metadata": {},
   "outputs": [],
   "source": [
    "# Work Area - Felon Rehab Programs\n"
   ]
  },
  {
   "cell_type": "markdown",
   "id": "compliant-anxiety",
   "metadata": {},
   "source": [
    "## Additional Work Area\n",
    "\n",
    "Use the code cell(s) below to perform any additional tasks needed.  \n",
    "\n",
    "_The first cell loads the package for power analysis. **If the package fails to load**, un-comment the first line and run the cell again. Then **comment the line back out** and proceed._\n"
   ]
  },
  {
   "cell_type": "code",
   "execution_count": null,
   "id": "decimal-prime",
   "metadata": {},
   "outputs": [],
   "source": [
    "#install.packages(\"pwr\")   #Run this command AT MOST one time, IF command below fails to load \"pwr\" package\n",
    "library (pwr)\n",
    "\n"
   ]
  },
  {
   "cell_type": "code",
   "execution_count": null,
   "id": "inclusive-triumph",
   "metadata": {},
   "outputs": [],
   "source": [
    "\n",
    "\n"
   ]
  },
  {
   "cell_type": "code",
   "execution_count": null,
   "id": "figured-communication",
   "metadata": {},
   "outputs": [],
   "source": [
    "\n",
    "\n"
   ]
  },
  {
   "cell_type": "code",
   "execution_count": null,
   "id": "interstate-exception",
   "metadata": {},
   "outputs": [],
   "source": [
    "\n",
    "\n"
   ]
  },
  {
   "cell_type": "code",
   "execution_count": null,
   "id": "collect-reflection",
   "metadata": {},
   "outputs": [],
   "source": [
    "\n",
    "\n"
   ]
  }
 ],
 "metadata": {
  "kernelspec": {
   "display_name": "R",
   "language": "R",
   "name": "ir"
  },
  "language_info": {
   "codemirror_mode": "r",
   "file_extension": ".r",
   "mimetype": "text/x-r-source",
   "name": "R",
   "pygments_lexer": "r",
   "version": "4.0.3"
  }
 },
 "nbformat": 4,
 "nbformat_minor": 5
}
