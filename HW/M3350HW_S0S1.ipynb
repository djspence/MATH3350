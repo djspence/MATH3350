{
 "cells": [
  {
   "cell_type": "markdown",
   "id": "ranging-amplifier",
   "metadata": {},
   "source": [
    "# MATH 3350 Homework - Modules S0 and S1\n",
    "\n",
    "#### Use the code and examples shown in the interactive course notes as models to carry out these exercises.\n",
    "### _Remember that all plots should have a title and appropriate axis labels_.\n",
    "\n",
    "## Exercise 1.\n",
    "\n",
    "Perform this exercise in the code cell below.\n",
    "\n",
    "* Generate 500 random observations from an exponential distribution with $ \\lambda = 0.75$\n",
    "* Display the first few observations generated.\n",
    "* Display a histogram of all observations generated."
   ]
  },
  {
   "cell_type": "code",
   "execution_count": null,
   "id": "binding-platinum",
   "metadata": {},
   "outputs": [],
   "source": [
    "# Implement your solution to Exercise 1 here.\n"
   ]
  },
  {
   "cell_type": "markdown",
   "id": "compliant-anxiety",
   "metadata": {},
   "source": [
    "## Exercise 2.\n",
    "\n",
    "Perform this exercise in the code cell below.\n",
    "\n",
    "* Create a graph of the pdf of an exponential distribution with $ \\lambda = 0.75$\n",
    "* Create a second graph of the cdf of the same exponential distribution."
   ]
  },
  {
   "cell_type": "code",
   "execution_count": null,
   "id": "decimal-prime",
   "metadata": {},
   "outputs": [],
   "source": [
    "# Implement your solution to Exercise 2 here.\n",
    "\n"
   ]
  },
  {
   "cell_type": "markdown",
   "id": "sticky-reality",
   "metadata": {},
   "source": [
    "## Exercise 3.\n",
    "\n",
    "Perform this exercise in the code cell below.\n",
    "\n",
    "Use the appropriate R commands to determine the following\n",
    "\n",
    "* Let X be a random variable from an exponential distribution with $ \\lambda = 0.75$; find $ P\\left ( X\\leq 2 \\right ) $\n",
    "* Let X be a random variable from an exponential distribution with $ \\lambda = 0.75$; find $ P\\left ( X\\geq 1 \\right ) $\n",
    "* Find the first quartile, median, and third quartile of an exponential distribution with $ \\lambda = 0.75$ (**NOTE:** This refers to the exact _**theoretical**_ distribution, _not_ a set of random values generated from the distribution. You should be using one of the R commands introduced in Module S0.)"
   ]
  },
  {
   "cell_type": "code",
   "execution_count": null,
   "id": "described-mirror",
   "metadata": {},
   "outputs": [],
   "source": [
    "# Implement your solution to Exercise 3 here.\n",
    "\n"
   ]
  },
  {
   "cell_type": "markdown",
   "id": "collectible-processing",
   "metadata": {},
   "source": [
    "## Exercise 4.\n",
    "\n",
    "Perform this exercise in the code cell below.  \n",
    "\n",
    "* Simulate 2000 rolls of a fair 6-sided die \n",
    "* Show the result of the first 20 rolls\n",
    "* Display a histogram of all 2000 rolls\n"
   ]
  },
  {
   "cell_type": "code",
   "execution_count": null,
   "id": "joined-finder",
   "metadata": {},
   "outputs": [],
   "source": [
    "# Implement your solution to Exercise 4 here.\n",
    "\n"
   ]
  },
  {
   "cell_type": "markdown",
   "id": "subject-tuition",
   "metadata": {},
   "source": [
    "## Exercise 5.\n",
    "\n",
    "Perform this exercise in the code cell below.  \n",
    "The iris data set is built-in with R.  The first line in the code cell shows the first few rows of the data set.\n",
    "\n",
    "* Display a data summary of of the Sepal.Width variable\n",
    "* Create a _horizontal_ boxplot of the Sepal.Width variable; put the title \"Distribution of Sepal Width\" on the plot  \n",
    "* Create a histogram of the Sepal.Width variable\n",
    "* Create a density plot of the Sepal.Width variable\n",
    "* In the Markdown cell AFTER the following code cell, describe the distribution of the Sepal.Width variable"
   ]
  },
  {
   "cell_type": "code",
   "execution_count": null,
   "id": "printable-prague",
   "metadata": {},
   "outputs": [],
   "source": [
    "# Implement your solution to Exercise 5 here.\n",
    "\n",
    "head(iris)\n"
   ]
  },
  {
   "cell_type": "markdown",
   "id": "annoying-stephen",
   "metadata": {},
   "source": [
    "### Exercise 5, continued\n",
    "#### Describe the distribution of the Sepal.Width variable here\n",
    "(Remember: double-click this cell to edit it.)\n"
   ]
  },
  {
   "cell_type": "markdown",
   "id": "assigned-croatia",
   "metadata": {},
   "source": [
    "## Exercise 6.\n",
    "#### Repeat Exercise 5 with the Petal.Width variable."
   ]
  },
  {
   "cell_type": "code",
   "execution_count": null,
   "id": "unusual-butter",
   "metadata": {},
   "outputs": [],
   "source": [
    "# Implement your solution (code portion) to Exercise 6 here.\n"
   ]
  },
  {
   "cell_type": "markdown",
   "id": "prescription-fossil",
   "metadata": {},
   "source": [
    "### Exercise 6, continued\n",
    "#### Describe the distribution of the Petal.Width variable here\n",
    "(Remember: double-click this cell to edit it.)\n"
   ]
  },
  {
   "cell_type": "markdown",
   "id": "native-yellow",
   "metadata": {},
   "source": [
    "## Exercise 7.\n",
    "Your boxplots of the Sepal.Width and Petal.Width variables in the iris data set should show that one of the distributions has outliers, while the other one does not. Use the information given in the data summary for each variable to show mathematically whether outliers exist according to the \"1.5 IQR\" rule. As part of your answer, be sure to identify explicitly the upper and lower cutoff for outliers for each variable.\n",
    "\n",
    "Place your answer below **in this cell**.  (Although it is not required, I will be favorably impressed if your mathematical work is shown using LaTeX.)\n"
   ]
  },
  {
   "cell_type": "markdown",
   "id": "universal-allocation",
   "metadata": {},
   "source": [
    "## Exercise 8.\n",
    "Notice that one of the columns in the iris data set is Species.  For each of the variables we have been examining (Sepal.Width and Petal.Width) create a set of horizontal boxplots BY SPECIES.  "
   ]
  },
  {
   "cell_type": "code",
   "execution_count": null,
   "id": "anonymous-taxation",
   "metadata": {},
   "outputs": [],
   "source": [
    "# Implement your solution to Exercise 8 here.\n"
   ]
  },
  {
   "cell_type": "markdown",
   "id": "educational-sheet",
   "metadata": {},
   "source": [
    "## Exercise 9.\n",
    "Create a scatter plot with Petal.Length as the _x_ variable and Petal.Width as the _y_ variable, with each species displayed using a different color and/or 'marker' (the symbol used to mark the point on the plot)."
   ]
  },
  {
   "cell_type": "code",
   "execution_count": null,
   "id": "alert-liquid",
   "metadata": {},
   "outputs": [],
   "source": [
    "# Implement your solution to Exercise 9 here.\n"
   ]
  },
  {
   "cell_type": "markdown",
   "id": "removable-wholesale",
   "metadata": {},
   "source": [
    "## Exercise 10.\n",
    "Recall the concept of two events being independent in probability.  This idea extends to variables being independent statistically. Consider each pair of variables below.  Based on your work in the previous several questions, indicate whether you believe the two variables named are independent.  Give specific reasons for your answer, using your previous results to support your decision. Type your answer and explanation below each question.\n",
    "\n",
    "1. Are **Sepal.Width** and **Species** independent? \n",
    "\n",
    "2. Are **Petal.Width** and **Species** independent?\n",
    "\n",
    "3. Are **Petal.Length** and **Petal.Width** independent?"
   ]
  }
 ],
 "metadata": {
  "kernelspec": {
   "display_name": "R",
   "language": "R",
   "name": "ir"
  },
  "language_info": {
   "codemirror_mode": "r",
   "file_extension": ".r",
   "mimetype": "text/x-r-source",
   "name": "R",
   "pygments_lexer": "r",
   "version": "4.0.3"
  }
 },
 "nbformat": 4,
 "nbformat_minor": 5
}
