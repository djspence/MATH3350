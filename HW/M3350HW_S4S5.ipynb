{
 "cells": [
  {
   "cell_type": "markdown",
   "id": "ranging-amplifier",
   "metadata": {},
   "source": [
    "# MATH 3350 Homework - Modules S4 and S5\n",
    "\n",
    "#### Note: These exercises make up 50% of the S4-S5 homework.  The S4-S5 online homework quiz makes up the other 50%  \n",
    "\n",
    "#### Use the code and examples shown in the interactive course notes as models to carry out these exercises.\n",
    "### _Remember that all plots should have a title and appropriate axis labels_.\n",
    "\n",
    "## Exercise 1.\n",
    "\n",
    "Perform this exercise in the code cell below.\n",
    "\n",
    "Suppose you are conducting a left-tailed z-test for 1 proportion. You obtain a z-statistic of -1.26. Use the appropriate R command(s) to find the p-value for this test."
   ]
  },
  {
   "cell_type": "code",
   "execution_count": 1,
   "id": "binding-platinum",
   "metadata": {},
   "outputs": [],
   "source": [
    "# Implement your solution to Exercise 1 here.\n"
   ]
  },
  {
   "cell_type": "markdown",
   "id": "compliant-anxiety",
   "metadata": {},
   "source": [
    "## Exercise 2.\n",
    "\n",
    "Perform this exercise in the code cell below.\n",
    "\n",
    "Suppose you are conducting an ANOVA. You obtain an F statistic of 3.45, and your degrees of freedom are 4 and 47 for numerator and denominator, respectively. Use the appropriate R command(s) to find the p-value for this test."
   ]
  },
  {
   "cell_type": "code",
   "execution_count": 2,
   "id": "decimal-prime",
   "metadata": {},
   "outputs": [],
   "source": [
    "# Implement your solution to Exercise 2 here.\n",
    "\n"
   ]
  },
  {
   "cell_type": "markdown",
   "id": "sticky-reality",
   "metadata": {},
   "source": [
    "## Exercise 3.\n",
    "\n",
    "Using the same scenario given in Exercise 2, create a plot of the F distribution with the boundary marked at our F statistic of 3.45 (you may use a vertical line to mark the boundary)."
   ]
  },
  {
   "cell_type": "code",
   "execution_count": 3,
   "id": "described-mirror",
   "metadata": {},
   "outputs": [],
   "source": [
    "# Implement your solution to Exercise 3 here.\n",
    "\n"
   ]
  },
  {
   "cell_type": "markdown",
   "id": "collectible-processing",
   "metadata": {},
   "source": [
    "## Exercise 4.\n",
    "\n",
    "### Perform the appropriate theoretical test to address the following question.\n",
    "A 30-month study was conducted among teenagers who had smoked (tobacco) cigarettes at least once.  A survey was administered to the participants to gauge the extent of the addiction they had developed to nicotine.  Scores on the survey range from 0 to 10, with higher numbers indicating a higher degree of addiction.  The summary statistics for the survey are given by gender below.  Is there evidence that among teens who have tried smoking, males and females differ in their level of nicotine dependence? If so, at what significance level?\n",
    "\n",
    "Group | Sample Size | Mean Score | Standard Deviation\n",
    "------|-------------|------------|-------------------\n",
    "Females|150|2.8|3.6\n",
    "Males|182|1.6|2.9\n",
    "\n",
    "\n",
    "### Complete this exercise in parts.\n",
    "Your answer must include these 3 components in the three cells provided below:\n",
    "* Name the statistical test and state hypotheses\n",
    "* Use R to conduct the test and find the p value\n",
    "* Write a conclusion of your result with a clear interpretation.\n",
    "\n",
    "When writing mathematical text, you are strongly encouraged to use LaTeX; you can construct your expressions in [Code Cogs](https://latex.codecogs.com/eqneditor/editor.php) and copy the LaTeX into your Markdown cells. Remember to begin and end each LaTeX expression with the '$' symbol.\n"
   ]
  },
  {
   "cell_type": "markdown",
   "id": "cathedral-america",
   "metadata": {},
   "source": [
    "### 4a - Test and Hypotheses\n",
    "_(Remember: double-click this cell to add your answers.)_\n",
    "\n",
    "#### Identify the statistical test you are running (e.g., \"2-proportion z-test\")\n",
    "\n",
    "\n",
    "#### State the null and alternative hypotheses below using appropriate mathematical symbols.  \n",
    "_Be sure to define the population parameter(s) that are being investigated._\n",
    "\n",
    "\n",
    "\n"
   ]
  },
  {
   "cell_type": "code",
   "execution_count": 4,
   "id": "joined-finder",
   "metadata": {},
   "outputs": [],
   "source": [
    "# 4b - Implement your statistical test for Exercise 4 here.\n",
    "\n"
   ]
  },
  {
   "cell_type": "markdown",
   "id": "interested-evanescence",
   "metadata": {},
   "source": [
    "### 4c - Conclusion and Interpretation\n",
    "#### State your conclusion and interpretation here.  \n",
    "\n",
    "**_Be sure to include your significance level and an interpretation of your result in the context of the original question._**\n",
    "\n",
    "\n",
    "(Remember: double-click this cell to add your answer.)\n"
   ]
  },
  {
   "cell_type": "markdown",
   "id": "subject-tuition",
   "metadata": {},
   "source": [
    "## Exercise 5.\n",
    "\n",
    "Recall the iris data set that is included with R.  The code in the cell below shows some information about the data set.  \n",
    "\n",
    "Conduct the appropriate theoretical significance test to see if there is statistical evidence that average Sepal.Width differs by Species.\n",
    "\n"
   ]
  },
  {
   "cell_type": "code",
   "execution_count": 5,
   "id": "funky-observer",
   "metadata": {},
   "outputs": [
    {
     "data": {
      "text/html": [
       "<table>\n",
       "<caption>A data.frame: 3 × 5</caption>\n",
       "<thead>\n",
       "\t<tr><th></th><th scope=col>Sepal.Length</th><th scope=col>Sepal.Width</th><th scope=col>Petal.Length</th><th scope=col>Petal.Width</th><th scope=col>Species</th></tr>\n",
       "\t<tr><th></th><th scope=col>&lt;dbl&gt;</th><th scope=col>&lt;dbl&gt;</th><th scope=col>&lt;dbl&gt;</th><th scope=col>&lt;dbl&gt;</th><th scope=col>&lt;fct&gt;</th></tr>\n",
       "</thead>\n",
       "<tbody>\n",
       "\t<tr><th scope=row>1</th><td>5.1</td><td>3.5</td><td>1.4</td><td>0.2</td><td>setosa</td></tr>\n",
       "\t<tr><th scope=row>2</th><td>4.9</td><td>3.0</td><td>1.4</td><td>0.2</td><td>setosa</td></tr>\n",
       "\t<tr><th scope=row>3</th><td>4.7</td><td>3.2</td><td>1.3</td><td>0.2</td><td>setosa</td></tr>\n",
       "</tbody>\n",
       "</table>\n"
      ],
      "text/latex": [
       "A data.frame: 3 × 5\n",
       "\\begin{tabular}{r|lllll}\n",
       "  & Sepal.Length & Sepal.Width & Petal.Length & Petal.Width & Species\\\\\n",
       "  & <dbl> & <dbl> & <dbl> & <dbl> & <fct>\\\\\n",
       "\\hline\n",
       "\t1 & 5.1 & 3.5 & 1.4 & 0.2 & setosa\\\\\n",
       "\t2 & 4.9 & 3.0 & 1.4 & 0.2 & setosa\\\\\n",
       "\t3 & 4.7 & 3.2 & 1.3 & 0.2 & setosa\\\\\n",
       "\\end{tabular}\n"
      ],
      "text/markdown": [
       "\n",
       "A data.frame: 3 × 5\n",
       "\n",
       "| <!--/--> | Sepal.Length &lt;dbl&gt; | Sepal.Width &lt;dbl&gt; | Petal.Length &lt;dbl&gt; | Petal.Width &lt;dbl&gt; | Species &lt;fct&gt; |\n",
       "|---|---|---|---|---|---|\n",
       "| 1 | 5.1 | 3.5 | 1.4 | 0.2 | setosa |\n",
       "| 2 | 4.9 | 3.0 | 1.4 | 0.2 | setosa |\n",
       "| 3 | 4.7 | 3.2 | 1.3 | 0.2 | setosa |\n",
       "\n"
      ],
      "text/plain": [
       "  Sepal.Length Sepal.Width Petal.Length Petal.Width Species\n",
       "1 5.1          3.5         1.4          0.2         setosa \n",
       "2 4.9          3.0         1.4          0.2         setosa \n",
       "3 4.7          3.2         1.3          0.2         setosa "
      ]
     },
     "metadata": {},
     "output_type": "display_data"
    },
    {
     "data": {
      "text/html": [
       "<style>\n",
       ".dl-inline {width: auto; margin:0; padding: 0}\n",
       ".dl-inline>dt, .dl-inline>dd {float: none; width: auto; display: inline-block}\n",
       ".dl-inline>dt::after {content: \":\\0020\"; padding-right: .5ex}\n",
       ".dl-inline>dt:not(:first-of-type) {padding-left: .5ex}\n",
       "</style><dl class=dl-inline><dt>setosa</dt><dd>50</dd><dt>versicolor</dt><dd>50</dd><dt>virginica</dt><dd>50</dd></dl>\n"
      ],
      "text/latex": [
       "\\begin{description*}\n",
       "\\item[setosa] 50\n",
       "\\item[versicolor] 50\n",
       "\\item[virginica] 50\n",
       "\\end{description*}\n"
      ],
      "text/markdown": [
       "setosa\n",
       ":   50versicolor\n",
       ":   50virginica\n",
       ":   50\n",
       "\n"
      ],
      "text/plain": [
       "    setosa versicolor  virginica \n",
       "        50         50         50 "
      ]
     },
     "metadata": {},
     "output_type": "display_data"
    }
   ],
   "source": [
    "# Examine data set...\n",
    "head(iris,3)\n",
    "summary(iris$Species)"
   ]
  },
  {
   "cell_type": "markdown",
   "id": "improved-poultry",
   "metadata": {},
   "source": [
    "\n",
    "### Complete this exercise in parts.\n",
    "Your answer must include these 3 components in the three cells provided below:\n",
    "* Name the statistical test and state hypotheses\n",
    "* Use R to conduct the test and find the p value\n",
    "* Write a conclusion of your result with a clear interpretation.\n",
    "\n",
    "Again, when writing mathematical text, you are strongly encouraged to use LaTeX."
   ]
  },
  {
   "cell_type": "markdown",
   "id": "greenhouse-weapon",
   "metadata": {},
   "source": [
    "### 5a - Test and Hypotheses\n",
    "_(Remember: double-click this cell to add your answers.)_\n",
    "\n",
    "#### Identify the statistical test you are running (e.g., \"2-proportion z-test\")\n",
    "\n",
    "\n",
    "#### State the null and alternative hypotheses below using appropriate mathematical symbols.  \n",
    "_Be sure to define the population parameter(s) that are being investigated._\n",
    "\n",
    "\n",
    "\n"
   ]
  },
  {
   "cell_type": "code",
   "execution_count": 6,
   "id": "printable-prague",
   "metadata": {},
   "outputs": [],
   "source": [
    "# 5b - Implement your statistical test for Exercise 5 here.\n",
    "\n"
   ]
  },
  {
   "cell_type": "markdown",
   "id": "experimental-aberdeen",
   "metadata": {},
   "source": [
    "### 5c - Conclusion and Interpretation\n",
    "#### State your conclusion and interpretation here.  \n",
    "\n",
    "**_Be sure to include your significance level and an interpretation of your result in the context of the original question._**\n",
    "\n"
   ]
  },
  {
   "cell_type": "markdown",
   "id": "separate-switch",
   "metadata": {},
   "source": [
    "## Exercise 6.\n",
    "\n",
    "### Perform the appropriate theoretical test to address the following question.\n",
    "\n",
    "A professor measured the time (in seconds) required to catch a falling meter stick for 12 randomly selected students’ dominant hand and non-dominant hand.  The measurements are given below. Is there evidence that on average the reaction time in an individual’s dominant hand is faster* than the reaction time in the non-dominant hand? \n",
    "(*Caution: Remember that the times below are measured in seconds.  What kind of numbers represent faster reaction times?)\n",
    "\n",
    "\n",
    "Student | 1 | 2 | 3 | 4 | 5 | 6 | 7 | 8 | 9 | 10 | 11 | 12 \n",
    "------|---|---|---|---|---|---|---|---|---|---|---|---\n",
    "Dominant hand | 0.177 | 0.210 | 0.186 | 0.189 | 0.198 | 0.194 | 0.160 | 0.163 | 0.166 | 0.152 | 0.190 | 0.172 \n",
    "Non-dominant hand| 0.179 | 0.202 | 0.208 | 0.184 | 0.215 | 0.193 | 0.194 | 0.160 | 0.209 | 0.164 | 0.210 | 0.197 \n",
    "\n",
    "\n",
    "### Complete this exercise in parts.\n",
    "Your answer must include these 3 components in the three cells provided below:\n",
    "* Name the statistical test and state hypotheses\n",
    "* Use R to conduct the test and find the p value\n",
    "* Write a conclusion of your result with a clear interpretation.\n",
    "\n",
    "Again, when writing mathematical text, you are strongly encouraged to use LaTeX."
   ]
  },
  {
   "cell_type": "markdown",
   "id": "demonstrated-chambers",
   "metadata": {},
   "source": [
    "### 6a - Test and Hypotheses\n",
    "#### Identify the statistical test you are running (e.g., \"2-proportion z-test\")\n",
    "\n",
    "\n",
    "#### State the null and alternative hypotheses below using appropriate mathematical symbols.  \n",
    "_Be sure to define the population parameter(s) that are being investigated._\n",
    "\n",
    "\n",
    "\n"
   ]
  },
  {
   "cell_type": "code",
   "execution_count": 7,
   "id": "unusual-butter",
   "metadata": {},
   "outputs": [],
   "source": [
    "# 6b - Implement your statistical test for Exercise 6 here.\n"
   ]
  },
  {
   "cell_type": "markdown",
   "id": "endangered-andrews",
   "metadata": {},
   "source": [
    "### 6c - Conclusion and Interpretation\n",
    "#### State your conclusion and interpretation here.  \n",
    "\n",
    "**_Be sure to include your significance level and an interpretation of your result in the context of the original question._**\n",
    "\n"
   ]
  },
  {
   "cell_type": "markdown",
   "id": "developed-olympus",
   "metadata": {},
   "source": [
    "## Exercise 7.\n",
    "\n",
    "### Perform the appropriate theoretical test to address the following question.\n",
    "\n",
    "A study examines the personal goals of children in grades 4, 5, and 6.  A random sample of students was selected for each of the grades 4, 5, and 6 from schools in Georgia.  The students received a questionnaire regarding achievement of personal goals.  They were asked what they would most like to do at school: make good grades, be good at sports, or be popular.  Results are presented in the following table by the sex of the child.  Is there evidence of a relationship between school children's biological sex and their goals in school?\n",
    "\n",
    "Goal | Boys | Girls \n",
    "------|-------------|------------\n",
    "Make good grades | 192 | 590 \n",
    "Be popular | 64 | 90 \n",
    "Be good in sports | 188 | 80\n",
    "\n",
    "### Complete this exercise in parts.\n",
    "Your answer must include these 3 components in the three cells provided below:\n",
    "* Name the statistical test and state hypotheses\n",
    "* Use R to conduct the test and find the p value\n",
    "* Write a conclusion of your result with a clear interpretation.\n",
    "\n",
    "Again, when writing mathematical text, you are strongly encouraged to use LaTeX.\n"
   ]
  },
  {
   "cell_type": "markdown",
   "id": "whole-chart",
   "metadata": {},
   "source": [
    "### 7a - Test and Hypotheses\n",
    "#### Identify the statistical test you are running (e.g., \"2-proportion z-test\")\n",
    "\n",
    "\n",
    "#### State the null and alternative hypotheses below using appropriate mathematical symbols.  \n",
    "\n",
    "\n",
    "\n",
    "\n"
   ]
  },
  {
   "cell_type": "code",
   "execution_count": 8,
   "id": "alpine-dispute",
   "metadata": {},
   "outputs": [],
   "source": [
    "# 7b - Implement your statistical test for Exercise 7 here.\n"
   ]
  },
  {
   "cell_type": "markdown",
   "id": "banned-screening",
   "metadata": {},
   "source": [
    "### 7c - Conclusion and Interpretation\n",
    "#### State your conclusion and interpretation here.  \n",
    "\n",
    "**_Be sure to include your significance level and an interpretation of your result in the context of the original question._**\n",
    "\n"
   ]
  },
  {
   "cell_type": "markdown",
   "id": "distinguished-canyon",
   "metadata": {},
   "source": [
    "## Exercise 8.\n",
    "Select **one** of the tests you conducted in **Exercise 6 or 7** and create a plot of the distribution with the boundary marked at your test statistic (you may use a vertical line to mark the boundary). "
   ]
  },
  {
   "cell_type": "code",
   "execution_count": 9,
   "id": "anonymous-taxation",
   "metadata": {},
   "outputs": [],
   "source": [
    "# Implement your solution to Exercise 8 here.\n"
   ]
  }
 ],
 "metadata": {
  "kernelspec": {
   "display_name": "R",
   "language": "R",
   "name": "ir"
  },
  "language_info": {
   "codemirror_mode": "r",
   "file_extension": ".r",
   "mimetype": "text/x-r-source",
   "name": "R",
   "pygments_lexer": "r",
   "version": "4.0.3"
  }
 },
 "nbformat": 4,
 "nbformat_minor": 5
}
