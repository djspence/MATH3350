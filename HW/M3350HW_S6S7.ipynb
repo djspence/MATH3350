{
 "cells": [
  {
   "cell_type": "markdown",
   "id": "ranging-amplifier",
   "metadata": {},
   "source": [
    "# MATH 3350 Homework Bonus Notebook: Modules S6-S7\n",
    "\n",
    "### Note: This notebook is NOT REQUIRED but may be completed for extra credit.  These exercises comprise a 5% BONUS for the S6/S7 homework. Any bonus points earned will be added to the S6/S7 online homework quiz after this notebook is manually scored.  \n",
    "\n",
    "#### Use the code and examples shown in the interactive course notes as models to carry out these exercises.\n",
    "### _Remember that all plots should have a title and appropriate axis labels_.\n",
    "\n",
    "The code below reads a data set of United Airline flights and displays the first 5 rows."
   ]
  },
  {
   "cell_type": "code",
   "execution_count": null,
   "id": "traditional-sport",
   "metadata": {},
   "outputs": [],
   "source": [
    "#Read data set for homework (YOU DON'T NEED TO DO ANYTHING IN THIS CODE CELL)\n",
    "flights <- read.csv(\"united.csv\")\n",
    "head(flights,5)"
   ]
  },
  {
   "cell_type": "markdown",
   "id": "compressed-lodging",
   "metadata": {},
   "source": [
    "This assignment will guide you through the steps of constructing two confidence intervals from this data set: an **_empirical (\"bootstrap\") confidence interval_** and a **_theoretical confidence interval_** .  \n",
    "\n",
    "You'll compute the empirical confidence interval first using randomization (bootstrap method). Much of the code for the empirical interval is completed for you.  After constructing the empirical confidence interval, you will construct a theoretical confidence interval and compare the two intervals.\n",
    "\n",
    "## Empirical (\"Bootstrap\") Confidence Interval\n",
    "\n",
    "Step through the process by executing each code box and examine what is happening.  \n",
    "\n",
    "#### When you see the word 'TASK', follow the instructions to add 1 or more lines of code yourself to complete the step.\n",
    "\n",
    "(The first **TASK** is given in Step 4.)\n",
    "\n",
    "\n",
    "## Step 1.\n",
    "\n",
    "We are only interested in estimating the delay of flights with **Atlanta (ATL)** as the destination. We will create a smaller data set containing only the records with 'ATL' in the destination.  We will call this dataset **Atlanta.**"
   ]
  },
  {
   "cell_type": "code",
   "execution_count": null,
   "id": "binding-platinum",
   "metadata": {},
   "outputs": [],
   "source": [
    "# Code for Step 1 is given here here\n",
    "\n",
    "Atlanta <- flights[flights$Destination == \"ATL\",]   #Get records with destination 'ATL'\n",
    "head(Atlanta) #view result to verify we did this step correctly"
   ]
  },
  {
   "cell_type": "markdown",
   "id": "compliant-anxiety",
   "metadata": {},
   "source": [
    "## Step 2.\n",
    "\n",
    "Determine the sample size of our _Atlanta_ data.  Store this value in the variable **N**.\n"
   ]
  },
  {
   "cell_type": "code",
   "execution_count": null,
   "id": "decimal-prime",
   "metadata": {},
   "outputs": [],
   "source": [
    "# Code for Step 2 is given here.\n",
    "\n",
    "N <- nrow(Atlanta)       #Get number of rows in data set\n",
    "\n",
    "cat(\"Sample size: \", N)\n",
    "?sample"
   ]
  },
  {
   "cell_type": "markdown",
   "id": "sticky-reality",
   "metadata": {},
   "source": [
    "## Step 3.\n",
    "\n",
    "Generate a single 'bootstrap' sample of Delay values from our sample (the Atlanta data set). Remember that a bootstrap sample is a sample **_with replacement_** from our original sample (_Atlanta_). The bootstrap sample will be the **_same size as our original sample_**.  Call the bootstrap sample **bsample**.  "
   ]
  },
  {
   "cell_type": "code",
   "execution_count": null,
   "id": "described-mirror",
   "metadata": {},
   "outputs": [],
   "source": [
    "# Code for Step 3 is given here.\n",
    "\n",
    "#Create one bootstrap sample of Delay times from Atlanta data set\n",
    "bsample <- sample(Atlanta$Delay, size=N, replace=TRUE) #Random sample with replacement (same size as Atlanta data set)\n",
    "\n",
    "head(bsample)  "
   ]
  },
  {
   "cell_type": "markdown",
   "id": "collectible-processing",
   "metadata": {},
   "source": [
    "## Step 4.\n",
    "\n",
    "### TASKS\n",
    "Complete the steps for the following 2 components in the two cells provided below:\n",
    "* Find and display the mean $\\overline{x}$ of your bootstrap sample\n",
    "* Create a histogram of your bootstrap sample\n"
   ]
  },
  {
   "cell_type": "code",
   "execution_count": null,
   "id": "fatal-scott",
   "metadata": {},
   "outputs": [],
   "source": [
    "# Your solution for Step 4: Find and display mean of your bootstrap sample\n"
   ]
  },
  {
   "cell_type": "code",
   "execution_count": null,
   "id": "distinguished-texture",
   "metadata": {},
   "outputs": [],
   "source": [
    "# Your solution for Step 4: Create a histogram of your bootstrap sample\n"
   ]
  },
  {
   "cell_type": "markdown",
   "id": "subject-tuition",
   "metadata": {},
   "source": [
    "## Step 5.\n",
    "\n",
    "Now we will use a loop to create 1000 bootstrap samples.  For _each sample_, we want to find the sample mean $\\overline{x}$ and store that value in the **means** vector. \n",
    "\n",
    "### TASK\n",
    "\n",
    "Complete the line of code to store each sample mean in the vector.  Notice that this line of code will get executed 1000 times (once for each sample)."
   ]
  },
  {
   "cell_type": "code",
   "execution_count": null,
   "id": "neither-tower",
   "metadata": {},
   "outputs": [],
   "source": [
    "# PARTIAL code for Step 5 is provided here\n",
    "# YOUR TASK: Complete the line that computes the mean of each sample and adds it to the 'means' vector\n",
    "\n",
    "#Here's our empty means vector, waiting for sample means\n",
    "means <- c() \n",
    "\n",
    "#We use a loop below to create 1000 bootstrap samples and store the mean of each one in the means vector.\n",
    "for (i in 1:1000) {\n",
    "    bsample <- sample(Atlanta$Delay, size=N, replace=TRUE)\n",
    "    \n",
    "    #***TASK: COMPLETE THE FOLLOWING LINE OF CODE.***\n",
    "    #         It should add the mean of the current bootstrap sample to the vector of means\n",
    "    means[i] <- \n",
    "}\n",
    "\n",
    "\n",
    "head(means)  #Check your result to see if it looks reasonable"
   ]
  },
  {
   "cell_type": "markdown",
   "id": "threatened-summer",
   "metadata": {},
   "source": [
    "## Step 6.\n",
    "\n",
    "Notice that your **means** vector now represents a **_sampling distribution_** of means.  \n",
    "\n",
    "### TASK\n",
    "Create a histogram of all the bootstrap means.  This histogram should give you a sense of how the sample means from the underlying population are distributed.\n"
   ]
  },
  {
   "cell_type": "code",
   "execution_count": null,
   "id": "flying-programming",
   "metadata": {},
   "outputs": [],
   "source": [
    "# Your solution for Step 6: Create a histogram of all your bootstrap means\n"
   ]
  },
  {
   "cell_type": "markdown",
   "id": "sustained-research",
   "metadata": {},
   "source": [
    "## Step 7.\n",
    "\n",
    "If the means are **_sorted_** (e.g., smallest to largest), the **_middle_** 95% of the values will define the boundaries for the confidence interval.  The code below will create a sorted version of your **means** vector called **sorted_means**.  \n"
   ]
  },
  {
   "cell_type": "code",
   "execution_count": null,
   "id": "funky-observer",
   "metadata": {},
   "outputs": [],
   "source": [
    "# Put the means in order from lowest to highest\n",
    "sorted_means <- sort(means)\n",
    "head(sorted_means)"
   ]
  },
  {
   "cell_type": "markdown",
   "id": "missing-round",
   "metadata": {},
   "source": [
    "## Step 8.\n",
    "\n",
    "### TASK\n",
    "Use the **sorted_means** vector to identify the lower and upper bounds of the **_middle 95%_** of the values. Store these in variables **lower_bound** and **upper_bound**, respectively.  \n",
    "\n",
    "(_HINT: There are 1000 values, and they are in order._  You can do this!)\n"
   ]
  },
  {
   "cell_type": "code",
   "execution_count": null,
   "id": "colored-builder",
   "metadata": {},
   "outputs": [],
   "source": [
    "# TASK: Complete the code for Step 8 here.\n",
    "\n",
    "lower_bound <-    #Complete this line to store lower bound of confidence interval \n",
    "upper_bound <-    #Complete this line to store upper bound of confidence interval \n",
    "\n",
    "cat(\"Lower bound: \", lower_bound, \"\\n\")\n",
    "cat(\"Upper bound: \", upper_bound, \"\\n\")"
   ]
  },
  {
   "cell_type": "markdown",
   "id": "median-yeast",
   "metadata": {},
   "source": [
    "## Step 9.\n",
    "\n",
    "### TASK\n",
    "\n",
    "Use R to display your confidence interval in the form $[a,b]$  \n",
    "\n",
    "_(Suggestion: use the 'cat' command.)_\n"
   ]
  },
  {
   "cell_type": "code",
   "execution_count": null,
   "id": "brilliant-frederick",
   "metadata": {},
   "outputs": [],
   "source": [
    "# Your solution for Step 9: Display your confidence interval in [a,b] form\n"
   ]
  },
  {
   "cell_type": "markdown",
   "id": "clinical-tribe",
   "metadata": {},
   "source": [
    "## Step 10.\n",
    "\n",
    "### TASKS\n",
    "\n",
    "Repeat steps 8 and 9 for a **90% confidence interval**.  (_You can use the same **sorted_means** vector; you don't need to create a new one._) \n"
   ]
  },
  {
   "cell_type": "code",
   "execution_count": null,
   "id": "straight-spanking",
   "metadata": {},
   "outputs": [],
   "source": [
    "# Your solution for Step 10: Find and display a 90% confidence interval in [a,b] form\n"
   ]
  },
  {
   "cell_type": "markdown",
   "id": "confidential-federation",
   "metadata": {},
   "source": [
    "##  Step 11. \n",
    "\n",
    "### TASK\n",
    "\n",
    "Display the histogram of your bootstrap sampling distribution (same histogram you created in Step 6) and identify the lower and upper boundaries of your 90% confidence interval on the histogram with a vertical line.\n"
   ]
  },
  {
   "cell_type": "code",
   "execution_count": null,
   "id": "involved-bibliography",
   "metadata": {},
   "outputs": [],
   "source": [
    "# Your solution for Step 11: Show boundaries of your 90% confidence interval on histogram of sampling distribution.\n"
   ]
  },
  {
   "cell_type": "markdown",
   "id": "secure-payroll",
   "metadata": {},
   "source": [
    "## Theoretical Confidence Interval\n",
    "\n",
    "Now create a _**theoretical**_ 95% confidence interval for the true mean delay time for flights arriving in Atlanta.\n",
    "\n",
    "Notes:\n",
    "\n",
    "- You may use any method that produces a valid theoretical confidence interval for the mean (direct calculation or single R command)\n",
    "- You must show your approach in the code cell below\n",
    "- The data needed for this calculation is in the `Atlanta$Delay` vector; the code cell below shows the first few values of this vector"
   ]
  },
  {
   "cell_type": "code",
   "execution_count": null,
   "id": "retained-monkey",
   "metadata": {},
   "outputs": [],
   "source": [
    "head(Atlanta$Delay)"
   ]
  },
  {
   "cell_type": "markdown",
   "id": "varying-tsunami",
   "metadata": {},
   "source": [
    "## Interpretation\n",
    "\n",
    "Interpret the meaning of this interval. Your interpretation should incude: \n",
    "- The upper and lower bounds of the interval \n",
    "- An explanation of the confidence level _and its meaning_ \n",
    "- Specific context (don't refer to \"the mean\" without saying mean _**of what**_!)\n",
    "\n",
    "Edit this cell to type your answer below.\n"
   ]
  },
  {
   "cell_type": "markdown",
   "id": "available-interstate",
   "metadata": {},
   "source": [
    "## Comparison\n",
    "\n",
    "How do your empirical and theoretical 95% confidence intervals compare?  Edit this cell to type your answer below.\n",
    "\n",
    "\n"
   ]
  }
 ],
 "metadata": {
  "kernelspec": {
   "display_name": "R",
   "language": "R",
   "name": "ir"
  },
  "language_info": {
   "codemirror_mode": "r",
   "file_extension": ".r",
   "mimetype": "text/x-r-source",
   "name": "R",
   "pygments_lexer": "r",
   "version": "4.0.3"
  }
 },
 "nbformat": 4,
 "nbformat_minor": 5
}
