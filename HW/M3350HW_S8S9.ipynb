{
 "cells": [
  {
   "cell_type": "markdown",
   "id": "ranging-amplifier",
   "metadata": {},
   "source": [
    "# MATH 3350 Homework - Modules S8 and S9\n",
    "\n",
    "This file is provided to give you a work area for the linear models portion of the homework (S8-S9).  \n",
    "\n",
    "### You do not need to submit this file \n",
    "**_All scoring will be based on answers you give in the quiz._**\n",
    "\n",
    "Some homework exercises will use the housing data set that we used in class.  \n",
    "\n",
    "The first code cell will load the housing data set and display the first few rows for your reference."
   ]
  },
  {
   "cell_type": "code",
   "execution_count": null,
   "id": "binding-platinum",
   "metadata": {},
   "outputs": [],
   "source": [
    "housing <- read.csv(\"HousingBrief.csv\")\n",
    "head(housing)\n"
   ]
  },
  {
   "cell_type": "markdown",
   "id": "compliant-anxiety",
   "metadata": {},
   "source": [
    "## Work Area\n",
    "\n",
    "Use the code cell(s) below to perform any tasks needed to answer the quiz questions.\n"
   ]
  },
  {
   "cell_type": "code",
   "execution_count": null,
   "id": "decimal-prime",
   "metadata": {},
   "outputs": [],
   "source": [
    "\n",
    "\n"
   ]
  },
  {
   "cell_type": "code",
   "execution_count": null,
   "id": "inclusive-triumph",
   "metadata": {},
   "outputs": [],
   "source": [
    "\n",
    "\n"
   ]
  },
  {
   "cell_type": "code",
   "execution_count": null,
   "id": "figured-communication",
   "metadata": {},
   "outputs": [],
   "source": [
    "\n",
    "\n"
   ]
  },
  {
   "cell_type": "code",
   "execution_count": null,
   "id": "interstate-exception",
   "metadata": {},
   "outputs": [],
   "source": [
    "\n",
    "\n"
   ]
  },
  {
   "cell_type": "code",
   "execution_count": null,
   "id": "collect-reflection",
   "metadata": {},
   "outputs": [],
   "source": [
    "\n",
    "\n"
   ]
  }
 ],
 "metadata": {
  "kernelspec": {
   "display_name": "R",
   "language": "R",
   "name": "ir"
  },
  "language_info": {
   "codemirror_mode": "r",
   "file_extension": ".r",
   "mimetype": "text/x-r-source",
   "name": "R",
   "pygments_lexer": "r",
   "version": "4.0.3"
  }
 },
 "nbformat": 4,
 "nbformat_minor": 5
}
