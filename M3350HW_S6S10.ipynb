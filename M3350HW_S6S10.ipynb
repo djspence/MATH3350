{
 "cells": [
  {
   "cell_type": "markdown",
   "id": "ranging-amplifier",
   "metadata": {},
   "source": [
    "# MATH 3350 Homework - Modules S6 and S10\n",
    "\n",
    "#### Note: These exercises make up 20% of the S6/S10 homework.  The S6/S10 online homework quiz makes up the other 80%  \n",
    "\n",
    "#### Use the code and examples shown in the interactive course notes as models to carry out these exercises.\n",
    "### _Remember that all plots should have a title and appropriate axis labels_.\n",
    "\n",
    "The code below reads a data set of United Airline flights and displays the first 5 rows."
   ]
  },
  {
   "cell_type": "code",
   "execution_count": null,
   "id": "traditional-sport",
   "metadata": {},
   "outputs": [],
   "source": [
    "#Read data set for homework (YOU DON'T NEED TO DO ANYTHING IN THIS CODE CELL)\n",
    "flights <- read.csv(\"united.csv\")\n",
    "head(flights,5)"
   ]
  },
  {
   "cell_type": "markdown",
   "id": "compressed-lodging",
   "metadata": {},
   "source": [
    "This assignment will guide you through the steps of constructing a **_bootstrap confidence interval_** from this data set.  \n",
    "\n",
    "We are only interested in estimating the delay of flights with **Atlanta (ATL)** as the destination.\n",
    "\n",
    "## Step 1.\n",
    "\n",
    "Create a smaller data set containing only the records with 'ATL' in the destination.  Call this dataset **Atlanta.**"
   ]
  },
  {
   "cell_type": "code",
   "execution_count": null,
   "id": "binding-platinum",
   "metadata": {},
   "outputs": [],
   "source": [
    "# Complete the code for Step 1 here.\n",
    "\n",
    "Atlanta <-    #finish this line to get records with destination 'ATL'\n",
    "\n",
    "head(Atlanta) #view result to verify you did this step correctly"
   ]
  },
  {
   "cell_type": "markdown",
   "id": "compliant-anxiety",
   "metadata": {},
   "source": [
    "## Step 2.\n",
    "\n",
    "Determine the sample size of your _Atlanta_ data.  Store this value in the variable **N**.\n"
   ]
  },
  {
   "cell_type": "code",
   "execution_count": null,
   "id": "decimal-prime",
   "metadata": {},
   "outputs": [],
   "source": [
    "# Complete the code for Step 2 here.\n",
    "\n",
    "N <-        #complete this line to determine number of data points\n",
    "\n",
    "cat(\"Sample size: \", N)"
   ]
  },
  {
   "cell_type": "markdown",
   "id": "sticky-reality",
   "metadata": {},
   "source": [
    "## Step 3.\n",
    "\n",
    "Generate a single 'bootstrap' sample of Delay values from your data set. Remember that a bootstrap sample is a sample **_with replacement_** from your sample (the Atlanta data set), and the bootstrap sample should be the **_same size as your sample_**.  Call your bootstrap sample **bsample**.  "
   ]
  },
  {
   "cell_type": "code",
   "execution_count": null,
   "id": "described-mirror",
   "metadata": {},
   "outputs": [],
   "source": [
    "# Complete the code for Step 3 here.\n",
    "\n",
    "bsample <-  #complete this line to create one bootstrap sample\n",
    "\n",
    "head(bsample)"
   ]
  },
  {
   "cell_type": "markdown",
   "id": "collectible-processing",
   "metadata": {},
   "source": [
    "## Step 4.\n",
    "\n",
    "Your solution should include these 2 components in the two cells provided below:\n",
    "* Find and display the mean $\\overline{x}$ of your bootstrap sample\n",
    "* Create a histogram of your bootstrap sample\n"
   ]
  },
  {
   "cell_type": "code",
   "execution_count": null,
   "id": "fatal-scott",
   "metadata": {},
   "outputs": [],
   "source": [
    "# Your solution for Step 4: Find and display mean of your bootstrap sample\n"
   ]
  },
  {
   "cell_type": "code",
   "execution_count": null,
   "id": "distinguished-texture",
   "metadata": {},
   "outputs": [],
   "source": [
    "# Your solution for Step 4: Create a histogram of your bootstrap sample\n"
   ]
  },
  {
   "cell_type": "markdown",
   "id": "subject-tuition",
   "metadata": {},
   "source": [
    "## Step 5.\n",
    "\n",
    "Now use a loop to create 1000 bootstrap samples.  For _each sample_, find the sample mean $\\overline{x}$ and store that value in the **means** vector. (Note that the vector is created for you.)\n"
   ]
  },
  {
   "cell_type": "code",
   "execution_count": null,
   "id": "neither-tower",
   "metadata": {},
   "outputs": [],
   "source": [
    "# Complete the code for Step 5 here.\n",
    "\n",
    "means <- c() \n",
    "\n",
    "#Put your loop below to create 1000 bootstrap samples and store the mean of each one in the means vector.\n",
    "\n",
    "\n",
    "head(means)  #Check your result to see if it looks reasonable"
   ]
  },
  {
   "cell_type": "markdown",
   "id": "threatened-summer",
   "metadata": {},
   "source": [
    "## Step 6.\n",
    "\n",
    "Notice that your **means** vector now represents a **_sampling distribution_** of means.  \n",
    "\n",
    "Create a histogram of all the bootstrap means.  This histogram should give you a sense of how the sample means from the underlying population are distributed.\n"
   ]
  },
  {
   "cell_type": "code",
   "execution_count": null,
   "id": "flying-programming",
   "metadata": {},
   "outputs": [],
   "source": [
    "# Your solution for Step 6: Create a histogram of all your bootstrap means\n"
   ]
  },
  {
   "cell_type": "markdown",
   "id": "sustained-research",
   "metadata": {},
   "source": [
    "## Step 7.\n",
    "\n",
    "If the means are **_sorted_** (e.g., smallest to largest), the **_middle_** 95% of the values will define the boundaries for the confidence interval.  The code below will create a sorted version of your **means** vector called **sorted_means**.  \n"
   ]
  },
  {
   "cell_type": "code",
   "execution_count": null,
   "id": "funky-observer",
   "metadata": {},
   "outputs": [],
   "source": [
    "# Setting up for Step 7 (YOU DON'T NEED TO DO ANYTHING IN THIS CELL)\n",
    "sorted_means <- sort(means)\n",
    "head(sorted_means)"
   ]
  },
  {
   "cell_type": "markdown",
   "id": "missing-round",
   "metadata": {},
   "source": [
    "## Step 7 (continued).\n",
    "\n",
    "Use the **sorted_means** vector to identify the lower and upper bounds of the **_middle 95%_** of the values. Store these in variables **lower_bound** and **upper_bound**, respectively.  \n",
    "\n",
    "(_HINT: There are 1000 values, and they are in order._  You can do this!)\n"
   ]
  },
  {
   "cell_type": "code",
   "execution_count": null,
   "id": "colored-builder",
   "metadata": {},
   "outputs": [],
   "source": [
    "# Complete the code for Step 7 here.\n",
    "\n",
    "lower_bound <-    #Complete this line to store lower bound of confidence interval \n",
    "upper_bound <-    #Complete this line to store upper bound of confidence interval \n",
    "\n",
    "cat(\"Lower bound: \", lower_bound, \"\\n\")\n",
    "cat(\"Upper bound: \", upper_bound, \"\\n\")"
   ]
  },
  {
   "cell_type": "markdown",
   "id": "median-yeast",
   "metadata": {},
   "source": [
    "## Step 8.\n",
    "\n",
    "Use R to display your confidence interval in the form $[a,b]$  \n"
   ]
  },
  {
   "cell_type": "code",
   "execution_count": null,
   "id": "brilliant-frederick",
   "metadata": {},
   "outputs": [],
   "source": [
    "# Your solution for Step 8: Display your confidence interval in [a,b] form\n"
   ]
  },
  {
   "cell_type": "markdown",
   "id": "clinical-tribe",
   "metadata": {},
   "source": [
    "## Step 9.\n",
    "\n",
    "Repeat steps 7 and 8 for a 90% confidence interval.  (_You can use the same **sorted_means** vector; you don't need to create a new one._) \n"
   ]
  },
  {
   "cell_type": "code",
   "execution_count": null,
   "id": "straight-spanking",
   "metadata": {},
   "outputs": [],
   "source": [
    "# Your solution for Step 9: Find and display a 90% confidence interval in [a,b] form\n"
   ]
  },
  {
   "cell_type": "markdown",
   "id": "confidential-federation",
   "metadata": {},
   "source": [
    "## BONUS Step. \n",
    "\n",
    "Display the histogram of your bootstrap sampling distribution (same histogram you created in Step 6) and identify the lower and upper boundaries of your 90% confidence interval on the histogram (e.g., with a vertical line).\n"
   ]
  },
  {
   "cell_type": "code",
   "execution_count": null,
   "id": "involved-bibliography",
   "metadata": {},
   "outputs": [],
   "source": [
    "# Your solution for BONUS Step: Show boundaries of your 90% confidence interval on histogram of sampling distribution.\n"
   ]
  }
 ],
 "metadata": {
  "kernelspec": {
   "display_name": "R",
   "language": "R",
   "name": "ir"
  },
  "language_info": {
   "codemirror_mode": "r",
   "file_extension": ".r",
   "mimetype": "text/x-r-source",
   "name": "R",
   "pygments_lexer": "r",
   "version": "4.0.3"
  }
 },
 "nbformat": 4,
 "nbformat_minor": 5
}
