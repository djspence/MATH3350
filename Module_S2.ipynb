{
 "cells": [
  {
   "cell_type": "markdown",
   "id": "ranging-amplifier",
   "metadata": {},
   "source": [
    "# MATH 3350 Course Notes - Module S2\n",
    "\n",
    "## Introduction to Hypothesis Testing: The Lady Tasting Tea, Revisited\n",
    "\n",
    "Recall the scenario where Muriel claimed tea tastes better when the milk is added to the cup before the tea. Muriel was convinced adding the tea first, then the milk, was inferior. She claimed she could taste the difference.\n",
    "We will generate a simulation of the [blind taste test](https://en.wikipedia.org/wiki/Lady_tasting_tea) that Fisher performed, but simplified.  \n",
    "\n",
    "#### The scenario\n",
    "We want to simulate eight cups of tea, where each cup is prepared either by pouring milk first or tea first. Then simulate allowing Muriel to GUESS for each cup whether it was prepared with milk or tea first. Therefore, her probability of guessing correctly for any one cup is 0.5. "
   ]
  },
  {
   "cell_type": "code",
   "execution_count": null,
   "id": "different-powder",
   "metadata": {},
   "outputs": [],
   "source": [
    "guess <- c('Y','N')                        #Define a vector with all possible outcomes (yes = correct guess)\n",
    "results <- sample(guess,8,replace = TRUE)  #Simulates 8 guesses with Yes/No equally likely\n",
    "print(results)                             #Look at our result vector\n",
    "\n",
    "num_correct <- sum(results == 'Y')            #Count number of correct guesses\n",
    "\n",
    "cat('There were',num_correct,'correct out of 8 guesses.')  #Show results in a full sentence  "
   ]
  },
  {
   "cell_type": "markdown",
   "id": "spare-profit",
   "metadata": {},
   "source": [
    "#### Why might we want to repeat the above trial thousands of times?\n",
    "We'll repeat this trial 10000 times and store the result (number of correct guesses) for each trial. **Why would we want to do this?**\n",
    "\n",
    "#### Looking at the results\n",
    "We'll create a histogram to visualize the number of correct guesses (out of 8) over all the trials.  \n",
    "Remember: EACH trial consists of 8 guesses (1 for each cup of tea).  We are interested in the _number of correct guesses_ in each trial."
   ]
  },
  {
   "cell_type": "code",
   "execution_count": null,
   "id": "difficult-genesis",
   "metadata": {},
   "outputs": [],
   "source": [
    "num_correct <- c()           # create a vector to store the number of correct guesses for each trial\n",
    "num_trials = 10000     # set the number of trials\n",
    "\n",
    "for (i in 1:num_trials){\n",
    "    results <- sample(guess,8,replace = TRUE) # create a trial of 8 'cups' and guess for each\n",
    "    num_correct[i] <- sum(results == \"Y\")     # count and store the number of correct guesses in this trial\n",
    "}\n",
    "\n",
    "head(num_correct, 20)        # display results of first 20 trials\n",
    "\n"
   ]
  },
  {
   "cell_type": "code",
   "execution_count": null,
   "id": "apart-lecture",
   "metadata": {},
   "outputs": [],
   "source": [
    "hist(num_correct)        # histogram of all results"
   ]
  },
  {
   "cell_type": "markdown",
   "id": "lightweight-feature",
   "metadata": {},
   "source": [
    "#### How can we use the data we just generated?\n",
    "Using these results, what is the empirical probability that all 8 guesses would be correct?"
   ]
  },
  {
   "cell_type": "code",
   "execution_count": null,
   "id": "annoying-karma",
   "metadata": {},
   "outputs": [],
   "source": [
    "all8right <- num_correct >= 8\n",
    "head(all8right,30)\n"
   ]
  },
  {
   "cell_type": "code",
   "execution_count": null,
   "id": "involved-shore",
   "metadata": {},
   "outputs": [],
   "source": [
    "idx_8right <- which(all8right)   #Show vector index of entries with value TRUE\n",
    "idx_8right\n",
    "\n",
    "\n",
    "    "
   ]
  },
  {
   "cell_type": "code",
   "execution_count": null,
   "id": "sapphire-things",
   "metadata": {},
   "outputs": [],
   "source": [
    "all8right[idx_8right]            #Show entries in all8right with above index values\n",
    "\n",
    "num_correct[idx_8right]          #Show entries in num_correct in the same index values"
   ]
  },
  {
   "cell_type": "code",
   "execution_count": null,
   "id": "naughty-blond",
   "metadata": {},
   "outputs": [],
   "source": [
    "num_correct[all8right]         #Same result with entire logical vector"
   ]
  },
  {
   "cell_type": "code",
   "execution_count": null,
   "id": "alive-mineral",
   "metadata": {},
   "outputs": [],
   "source": [
    "count_all8right <- sum(all8right)  #How many trials had all 8 right?\n",
    "count_all8right\n",
    "\n",
    "length(num_correct[all8right])     #Second way to find same information"
   ]
  },
  {
   "cell_type": "markdown",
   "id": "crucial-session",
   "metadata": {},
   "source": [
    "#### What is the empirical probability of getting all 8 correct, IF she is only guessing?\n",
    "Also, what does this probability suggest?"
   ]
  },
  {
   "cell_type": "code",
   "execution_count": null,
   "id": "speaking-alberta",
   "metadata": {},
   "outputs": [],
   "source": [
    "count_all8right/num_trials"
   ]
  },
  {
   "cell_type": "markdown",
   "id": "separated-function",
   "metadata": {},
   "source": [
    "### Another Method\n",
    "\n",
    "Recall that for known distributions, there is another way to generate a similar set of test data."
   ]
  },
  {
   "cell_type": "code",
   "execution_count": null,
   "id": "seventh-enlargement",
   "metadata": {},
   "outputs": [],
   "source": [
    "successes <- rbinom(num_trials, size=8, prob=0.5)    #10000 trials, 8 teacups, 0.5 chance of guessing correctly\n",
    "hist(successes)"
   ]
  },
  {
   "cell_type": "code",
   "execution_count": null,
   "id": "modular-proxy",
   "metadata": {},
   "outputs": [],
   "source": [
    "# Empirical probability from binomial distribution random values simulation\n",
    "emp_prob <- sum(successes>=8)/num_trials\n",
    "cat(\"Simulation 2: \", emp_prob, \"\\n\")"
   ]
  },
  {
   "cell_type": "markdown",
   "id": "otherwise-population",
   "metadata": {},
   "source": [
    "### Questions\n",
    "\n",
    "1. What is the theoretical probability of getting exactly 8 correct guesses in 8 tries?\n",
    "2. How does the theoretical proabability compare to the empirical probability in the simulations above?\n",
    "\n"
   ]
  },
  {
   "cell_type": "code",
   "execution_count": null,
   "id": "infinite-religion",
   "metadata": {},
   "outputs": [],
   "source": [
    "#1. Theoretical probability of exactly 8 correct in 8 guesses\n",
    "theo <- dbinom(8,size=8,prob=0.5)\n",
    "cat(\"Theoretical: \", theo, \"\\n\")\n",
    "\n"
   ]
  },
  {
   "cell_type": "markdown",
   "id": "ongoing-trouble",
   "metadata": {},
   "source": [
    "## What does it all mean??\n",
    "* Remember that this is a conditional probability-- we assume that she was guessing.\n",
    "* How does the low probability inform your decision about whether our assumption (that she was guessing) is correct?\n",
    "* These are the beginnings of a **hypothesis test**."
   ]
  }
 ],
 "metadata": {
  "kernelspec": {
   "display_name": "R",
   "language": "R",
   "name": "ir"
  },
  "language_info": {
   "codemirror_mode": "r",
   "file_extension": ".r",
   "mimetype": "text/x-r-source",
   "name": "R",
   "pygments_lexer": "r",
   "version": "4.0.3"
  }
 },
 "nbformat": 4,
 "nbformat_minor": 5
}
