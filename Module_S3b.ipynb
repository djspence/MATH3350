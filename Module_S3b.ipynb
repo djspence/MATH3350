{
 "cells": [
  {
   "cell_type": "markdown",
   "id": "ranging-amplifier",
   "metadata": {},
   "source": [
    "# MATH 3350 Course Notes - Module S3\n",
    "\n",
    "## Part II.  The Central Limit Theorem\n",
    "\n",
    "### Introduction\n",
    "Recall that a Normal distribution with mean $ \\mu $ and standard deviation $ \\sigma $ is denoted by $ N(\\mu , \\sigma)$  \n",
    "  \n",
    "The distribution describes some **_population_** and is centered at $ \\mu $ (the **_population mean_**) and the spread of the distribution is proportional to $ \\sigma $ (the **_population standard deviation_**).\n",
    "\n",
    "\n",
    "When we take a **sample** from that population, the _sample mean_ is denoted by $\\overline{x}$.  The sample mean is often used as an _estimate_ of the true population mean $\\mu$.  \n",
    "  \n",
    "Likewise, the _sample standard deviation_ is denoted by $s$ and is used as an estimate of $\\sigma$.\n",
    " "
   ]
  },
  {
   "cell_type": "markdown",
   "id": "unavailable-publisher",
   "metadata": {},
   "source": [
    "#### How do various sample means compare?\n",
    "Let's use the population of ACT Scores, which are approximately normally distributed $ N(21,6) $  \n",
    "  \n",
    "Suppose we simulate a sample of 10 ACT scores by generating 10 values from a $N(21,6)$ distribution.  \n",
    "We can look at the sample values and at the summary, including the sample mean, $\\overline{x}$.\n"
   ]
  },
  {
   "cell_type": "code",
   "execution_count": null,
   "id": "different-powder",
   "metadata": {},
   "outputs": [],
   "source": [
    "mu <- 21\n",
    "sigma <- 6\n",
    "scores <- rnorm(10,mean=mu, sd=sigma)\n",
    "\n",
    "scores\n",
    "\n",
    "summary(scores)\n",
    "\n",
    "hist(scores)\n",
    "\n"
   ]
  },
  {
   "cell_type": "markdown",
   "id": "spare-profit",
   "metadata": {},
   "source": [
    "#### Try the code above several times.  How do the sample means compare to the true mean?\n",
    "  \n",
    "#### What might make the sample mean a better estimate of the true mean?\n",
    "Copy the code above into the code block below.  Then revise the code to get a better estimate of the mean.  Run the revised code several times.\n"
   ]
  },
  {
   "cell_type": "code",
   "execution_count": null,
   "id": "difficult-genesis",
   "metadata": {},
   "outputs": [],
   "source": [
    "#Copy previous code and modify\n",
    "#GOAL: Get a sample mean closer to the true population mean\n"
   ]
  },
  {
   "cell_type": "markdown",
   "id": "objective-insight",
   "metadata": {},
   "source": [
    "### Sampling Distributions \n",
    "\n",
    "A **_sampling distribution _** is a distribution of a sample statistic, such as $\\overline{x}$ or $S$.  In a **_sampling distribution of the mean_**, we can generate many samples and look at how the sample means ($\\overline{x}$'s) from all the samples are distributed."
   ]
  },
  {
   "cell_type": "code",
   "execution_count": null,
   "id": "roman-estonia",
   "metadata": {},
   "outputs": [],
   "source": [
    "all_means <- c()                              #Empty vector to store all the sample means\n",
    "for (count in 1:100){\n",
    "    sample <- rnorm(10,mean=mu, sd=sigma)     #Generate a sample (size n=10)\n",
    "    all_means[count] <- mean(sample)          #Save the mean of this sample in my list\n",
    "}\n",
    "\n",
    "head(all_means)\n",
    "summary(all_means)\n",
    "cat(\"standard deviation of sampling distribution:\", sd(all_means))\n",
    "hist(all_means)"
   ]
  },
  {
   "cell_type": "markdown",
   "id": "under-editing",
   "metadata": {},
   "source": [
    "### Comparing Sampling Distribution Statistics with Population Parameters\n",
    "\n",
    "How does $\\overline{x}$ from the sampling distribution compare with $\\mu$?  \n",
    "  \n",
    "How does $s$ from the sampling distribution compare with $\\sigma$?  \n",
    "  \n",
    "\n",
    "### REMEMBER: The $\\overline{x}$ (estimated mean) and $s$ (estimated standard deviation) of the sampling distribution is NOT the same as $\\overline{x}$ and $s$ of a single _individual sample_. \n",
    "\n",
    "Copy the code above and try modifying the sample size.  Use several different values.  What affect does the sample size  have on $\\overline{x}$ **of the sampling distribution**?  What affect does sample size have on $s$ of the **sampling distribution**?  \n"
   ]
  },
  {
   "cell_type": "code",
   "execution_count": null,
   "id": "official-mention",
   "metadata": {},
   "outputs": [],
   "source": [
    "#Copy previous code and modify\n",
    "#GOAL: Compare sampling distribution statistics with population parameters (mean and standard deviation)\n",
    "#Population distribution:  N(21,6)"
   ]
  },
  {
   "cell_type": "markdown",
   "id": "worth-climb",
   "metadata": {},
   "source": [
    "###   NOTE: The plots and statistics we are generating above are ALSO samples (of ${overline}x$ from many possible samples).  They give us an empirical **_estimate_** of the true 'Sampling Distribution'.\n",
    " \n",
    "## Sampling Distribution of Means\n",
    "#### The theoretical distribution of the **_Sampling Distribution of Means_** is:\n",
    "## <center> $N(\\mu, \\frac{\\sigma}{\\sqrt{n}})$ </center>\n",
    "\n",
    "#### where samples of size $n$ are drawn from a population with distribution $N(\\mu,\\sigma)$. "
   ]
  },
  {
   "cell_type": "markdown",
   "id": "humanitarian-juice",
   "metadata": {},
   "source": [
    "### What about sampling distributions from a population that is _NOT_ normally distributed?\n",
    "\n",
    "Once again, copy the above code, and change the DISTRIBUTION from which the samples are generated. (HINT: We have been using **_rnorm_** to generate random values from a Normal distribution.)  \n",
    "\n",
    "Play with different distributions and different sample sizes."
   ]
  },
  {
   "cell_type": "code",
   "execution_count": null,
   "id": "peaceful-millennium",
   "metadata": {
    "scrolled": true
   },
   "outputs": [],
   "source": [
    "#Copy previous code and modify\n",
    "#GOAL: Compare results from different (non-Normal) distributions and different sample sizes."
   ]
  },
  {
   "cell_type": "markdown",
   "id": "optimum-binding",
   "metadata": {},
   "source": [
    "## Central Limit Theorem\n",
    "#### The theoretical distribution of the **_Sampling Distribution of Means_** is:\n",
    "## <center> $N(\\mu, \\frac{\\sigma}{\\sqrt{n}})$ </center>\n",
    "\n",
    "#### where samples of size $n$ are drawn from ANY population with mean $\\mu$ and standard deviation $\\sigma$, **_regardless of distribution shape_**. \n",
    "\n",
    "### The standard deviation of a sampling distribution (in this case, $\\frac{\\sigma}{\\sqrt{n}}$) is called the _Standard Error_ (SE)."
   ]
  }
 ],
 "metadata": {
  "kernelspec": {
   "display_name": "R",
   "language": "R",
   "name": "ir"
  },
  "language_info": {
   "codemirror_mode": "r",
   "file_extension": ".r",
   "mimetype": "text/x-r-source",
   "name": "R",
   "pygments_lexer": "r",
   "version": "4.0.3"
  }
 },
 "nbformat": 4,
 "nbformat_minor": 5
}
