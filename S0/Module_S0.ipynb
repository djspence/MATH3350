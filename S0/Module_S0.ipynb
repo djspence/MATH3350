{
 "cells": [
  {
   "cell_type": "markdown",
   "id": "ranging-amplifier",
   "metadata": {},
   "source": [
    "# MATH 3350 Course Notes - Module S0\n",
    "\n",
    "# <span style=\"color: blue;\">I. JupyterHub</span>\n",
    "\n",
    "Some course materials for this course will be published as Jupyter notebooks on the University's JupyterHub. JupyterHub is a self contained environment for programming in either R or Python. Students and instructors can access the JupyterHub using any device with a web browser. Any link to a document housed on JupyterHub will take you to the environment. The link below will also connect you to the UNG JupyterHub (though the interface may look slightly different).\n",
    "\n",
    "[UNG JupyterHub](https://datahub.ung.edu)\n",
    "\n",
    "You may be asked to log in using 2 factor authentication.  Use the same UNG login information as you would use to get to your UNG email, D2L, Banner, etc.\n",
    "\n",
    "After you have logged in, you can open existing files by navigating the directory in the left pane of the JupyterHub window, or you can create new files by selecting \"File\", \"New\". Select the \"Python3\" kernel to create a Python based notebook, or select the \"R\" kernel to create an R based notebook. We will be using this Jupyter environment to work with R.\n",
    "\n",
    "While reading through the notes, you will be prompted to try executing R code snippets to see data, statistical results, and graphics (such as plots). "
   ]
  },
  {
   "cell_type": "markdown",
   "id": "compliant-anxiety",
   "metadata": {},
   "source": [
    "# <span style=\"color: blue;\">II. Jupyter Notebooks</span>\n",
    "\n",
    "The document you are reading is a Jupyter notebook. A Jupyter notebook is a \"live\" document that contains both text and working code. The notebook is arranged as a series of cells. Cells that contain code (either R or Python) are called code cells, and cells that contain anything else are called \"Markdown\" cells. Markdown cells may contain formatted text, images, links, tables, etc. This cell is a Markdown cell. You can double click on this cell to edit the contents. Once you have made your changes, click Shift + Enter to run the cell or hit the \"play\" button at the top of this document to see your changes. \n",
    "\n",
    "The cell below is a code cell. Since this notebook was created with an R kernel, the cell contains R code. Select the cell below and hit Shift + Enter to see the output."
   ]
  },
  {
   "cell_type": "code",
   "execution_count": null,
   "id": "decimal-prime",
   "metadata": {},
   "outputs": [],
   "source": [
    "# Here is an example of a code cell (using the R language).\n",
    "\n",
    "for (i in 1:10){\n",
    "    cat(i,' ' )\n",
    "}"
   ]
  },
  {
   "cell_type": "markdown",
   "id": "sticky-reality",
   "metadata": {},
   "source": [
    "# <span style=\"color: blue;\">III.  Introduction to R </span>\n",
    "\n",
    "### Let's play around with some basic R commands and create some plots.\n",
    "\n",
    "#### Generate data from known probability distributions"
   ]
  },
  {
   "cell_type": "code",
   "execution_count": null,
   "id": "described-mirror",
   "metadata": {},
   "outputs": [],
   "source": [
    "# Generate 100 random values from a uniform distribution\n",
    "\n",
    "u_values <- runif(100, min=1, max=5)      #runif is 'random uniform'\n",
    "head(u_values)                            #Shows the first few of the 100 values generated\n",
    "hist(u_values)                            #Creates a histogram of all the values\n"
   ]
  },
  {
   "cell_type": "markdown",
   "id": "collectible-processing",
   "metadata": {},
   "source": [
    "In the example above, u_values is a VECTOR of values.\n",
    "\n",
    "### Tasks\n",
    "- Try running the code cell above multiple times.  Use CTRL-Enter to run the cell without advancing to the next cell.\n",
    "\n",
    "- Notice that the histogram changes each time, because the values being generated are random values.\n",
    "\n",
    "- How do the histograms compare to what you would expect from a uniform distribution?\n",
    "\n",
    "- Now try generating 1000 of these values instead of 100.  What do you notice?\n",
    "\n",
    "- Try again with 5000 values.  What do you notice?"
   ]
  },
  {
   "cell_type": "markdown",
   "id": "subject-tuition",
   "metadata": {},
   "source": [
    "#### What else can we do with this distribution?\n",
    "These functions will allow us to work with the uniform distribution:\n",
    "\n",
    "| Function | Description |\n",
    "|----------|-------------|\n",
    "| runif | Generate random value from uniform distribution |\n",
    "| dunif | Calculate pdf f(x) for given value within uniform distribution |\n",
    "| punif | Calculate cdf F(x) for given value within uniform distribution |\n",
    "| qunif | Identify value at a given quantile of a uniform distribution |\n",
    "\n",
    "#### Let's look at some examples.\n",
    "\n",
    "##### Density (pdf) function: dunif\n",
    "We'll start by using **dunif** to answer the following question:  \n",
    "In the uniform distribution from 1 to 15, what is the height (y-coordinate) of the pdf, f(x), for a particular x?\n"
   ]
  },
  {
   "cell_type": "code",
   "execution_count": null,
   "id": "printable-prague",
   "metadata": {},
   "outputs": [],
   "source": [
    "# If f(x) is the pdf of the uniform distribution from 1 to 15, what is f(5)?\n",
    "\n",
    "dunif(5, min=1, max=15)    #Height of pdf graph at f(5)\n"
   ]
  },
  {
   "cell_type": "code",
   "execution_count": null,
   "id": "european-excellence",
   "metadata": {},
   "outputs": [],
   "source": [
    "# If f(x) is the pdf of the uniform distribution from 1 to 15, what is f(14.8)?\n",
    "\n",
    "dunif(14.8, min=1, max=15) #Height of pdf graph at f(14.8)"
   ]
  },
  {
   "cell_type": "code",
   "execution_count": null,
   "id": "unusual-butter",
   "metadata": {},
   "outputs": [],
   "source": [
    "# If f(x) is the pdf of the uniform distribution from 1 to 15, what is f(17)?\n",
    "\n",
    "dunif(17, min=1, max=15)   #Height of pdf graph at f(17)"
   ]
  },
  {
   "cell_type": "markdown",
   "id": "prescription-fossil",
   "metadata": {},
   "source": [
    "##### CDF probability function: punif\n",
    "Now we'll use **punif** to answer the following question:  \n",
    "In the uniform distribution from 1 to 15, what is the value of the cdf, F(x), for a particular x?  \n",
    "Recall that for random variable **X** in the distribution, F(x) = P(**X** $\\le$ x)"
   ]
  },
  {
   "cell_type": "code",
   "execution_count": null,
   "id": "twelve-active",
   "metadata": {},
   "outputs": [],
   "source": [
    "# If F(x) is the cdf of the uniform distribution from 1 to 15, what is F(5)?\n",
    "\n",
    "punif(5, min=1, max=15)    #P(X < 5)"
   ]
  },
  {
   "cell_type": "code",
   "execution_count": null,
   "id": "verified-roman",
   "metadata": {},
   "outputs": [],
   "source": [
    "# If F(x) is the cdf of the uniform distribution from 1 to 15, what is F(14.8)?\n",
    "\n",
    "punif(14.8, min=1, max=15)    #P(X < 14.8)"
   ]
  },
  {
   "cell_type": "code",
   "execution_count": null,
   "id": "anonymous-taxation",
   "metadata": {},
   "outputs": [],
   "source": [
    "# If F(x) is the cdf of the uniform distribution from 1 to 15, what is F(17)?\n",
    "\n",
    "punif(17, min=1, max=15)    #P(X < 17)"
   ]
  },
  {
   "cell_type": "markdown",
   "id": "educational-sheet",
   "metadata": {},
   "source": [
    "##### Quantile function: qunif\n",
    "Now we'll use **qunif** to answer the following question:  \n",
    "In the uniform distribution from 1 to 15, for what value in the distribution does a given proportion *p* of the distribution lie at or below that value?  \n",
    "\n",
    "Note that the quantile function is $ F^{-1}(x) $, the *inverse* of the cdf"
   ]
  },
  {
   "cell_type": "code",
   "execution_count": null,
   "id": "alert-liquid",
   "metadata": {},
   "outputs": [],
   "source": [
    "# In the uniform distribution from 1 to 15, find the value for which 28% of the values \n",
    "#                                           in the distribution lie at or below that point.\n",
    "# This point is called the 28th percentile.\n",
    "\n",
    "qunif(0.28,min=1,max=15)"
   ]
  },
  {
   "cell_type": "code",
   "execution_count": null,
   "id": "ongoing-saint",
   "metadata": {},
   "outputs": [],
   "source": [
    "# In the uniform distribution from 1 to 15, find the value where 100% of the values \n",
    "#                                           in the distribution lie at or below that point.\n",
    "qunif(1,min=1,max=15)"
   ]
  },
  {
   "cell_type": "code",
   "execution_count": null,
   "id": "retired-elimination",
   "metadata": {},
   "outputs": [],
   "source": [
    "# In the uniform distribution from 1 to 15, what value is at the 25th percentile (aka \"first quartile\")?\n",
    "qunif(0.25,min=1,max=15)"
   ]
  },
  {
   "cell_type": "markdown",
   "id": "promising-german",
   "metadata": {},
   "source": [
    "#### Similar Functions for Other Distributions\n",
    "\n",
    "Some distributions you should recognize have a similar set of functions, as shown in the table below.  \n",
    "**NOTE: Remember that the density (pdf) functions can provide probability P(X=x) _only for DISCRETE distributions_!** \n",
    "\n",
    "\n",
    "| Distribution | Random Value | Density (pdf) | Probability _in tail_ (cdf) | Quantile | Parameters (and default values if applicable) |\n",
    "|----------|-------------|---------|-------|--------|------------|\n",
    "| Binomial | rbinom | dbinom | pbinom | qbinom | size, prob (*n and p; no defaults*) |\n",
    "| Exponential | rexp | dexp | pexp | qexp | rate (1) (*lambda*)|\n",
    "| Geometric | rgeom | dgeom | pgeom | qgeom | prob (*p; no default*)  |\n",
    "| Hypergeoometric | rhyper | dhyper | phyper | qhyper | m, n, k (*see R docs; no defaults*)  |\n",
    "| Negative Binomial | rnbinom | dnbinom | pnbinom | qnbinom |  size, prob (*target #successes & p; no defaults*) |\n",
    "| Normal | rnorm | dnorm | pnorm | qnorm | mean (0), sd (1) |\n",
    "| Poisson | rpois | dpois | ppois | qpois | lambda (*no default*) |\n",
    "| Uniform | runif | dunif | punif | qunif | min (0), max (1) |\n",
    "\n",
    "\n",
    "And these are some additional distributions we will be working with as we explore statistics...\n",
    "\n",
    "| Distribution | Random Value | Density (pdf) | Probability _in tail_ (cdf) | Quantile | Parameters |\n",
    "|----------|-------------|---------|-------|--------|------------|\n",
    "| Chi-Square | rchisq | dchisq | pchisq | qchisq | df (*degrees of freedom; no default*) |\n",
    "| F Distribution | rf | df | pf | qf | df1, df2 (*degrees of freedom; no defaults*) |\n",
    "| t Distribution | rt | dt | pt | qt | df (*degrees of freedom; no default*) |\n",
    "\n",
    "### More Examples\n",
    "#### Example 1. Simple application of binomial distribution"
   ]
  },
  {
   "cell_type": "code",
   "execution_count": null,
   "id": "dense-apparel",
   "metadata": {},
   "outputs": [],
   "source": [
    "#Probability of rolling exactly three 6's in 10 rolls of a fair die\n",
    "dbinom(3, size=10, prob=1/6)\n",
    "\n",
    "#Probability of rolling AT MOST three 6's in 10 rolls of a fair die\n",
    "pbinom(3, size=10, prob=1/6)\n"
   ]
  },
  {
   "cell_type": "code",
   "execution_count": null,
   "id": "different-stock",
   "metadata": {},
   "outputs": [],
   "source": [
    "#Probability of rolling AT LEAST three 6's in 10 rolls of a fair die\n",
    "1 - pbinom(2, size=10, prob=1/6)    # **NOTICE WE NEED 2 HERE INSTEAD OF 3**\n",
    "\n",
    "#Another way to accomplish the same thing\n",
    "pbinom(2, size=10, prob=1/6, lower.tail=FALSE)    "
   ]
  },
  {
   "cell_type": "markdown",
   "id": "julian-consequence",
   "metadata": {},
   "source": [
    "#### Example 2. Generate a plot of a distribution pdf\n",
    "We can create a plot of any distribution by generating many (x,y) points and then plotting them.  \n",
    "\n",
    "**Notes about the example below:** \n",
    "* *xvalues* and *yvalues* are VECTORS of values  \n",
    "* The plot creates (x,y) coordinates by pairing elements from each vector in the order they are given\n",
    "* Notice that the density function (dnorm) computes a y value for EACH x value provided in the vector"
   ]
  },
  {
   "cell_type": "code",
   "execution_count": null,
   "id": "electric-footwear",
   "metadata": {},
   "outputs": [],
   "source": [
    "xvalues <- seq(-3,3,0.1)     # We will generate many points between -3 and 3 for x\n",
    "head(xvalues)\n",
    "\n",
    "yvalues <- dnorm(xvalues)    # Use the density function to generate corresponding y coordinates\n",
    "head(yvalues)\n",
    "\n",
    "plot (xvalues,yvalues)       # Generate plot\n"
   ]
  },
  {
   "cell_type": "markdown",
   "id": "outdoor-threat",
   "metadata": {},
   "source": [
    "##### Here's an improved plot using the same data points"
   ]
  },
  {
   "cell_type": "code",
   "execution_count": null,
   "id": "married-favor",
   "metadata": {},
   "outputs": [],
   "source": [
    "#Change from individual points to a smooth line, add a title, and label the y axis\n",
    "plot (xvalues,yvalues, main=\"PDF of Standard Normal Curve\", ylab=\"Density\", type=\"l\")   # \"l\" stands for line"
   ]
  },
  {
   "cell_type": "markdown",
   "id": "chicken-inventory",
   "metadata": {},
   "source": [
    "#### Example 3. Generate a plot of a distribution cdf\n",
    "This time we need the pnorm function instead of the dnorm (density) function  "
   ]
  },
  {
   "cell_type": "code",
   "execution_count": null,
   "id": "gentle-district",
   "metadata": {},
   "outputs": [],
   "source": [
    "new_yvals <- pnorm(xvalues)     # Calculate cdf F(x) for all of our x coordinates\n",
    "\n",
    "plot (xvalues,new_yvals, main=\"CDF of Standard Normal Curve\", ylab=\"P(X < x)\", type=\"l\")"
   ]
  },
  {
   "cell_type": "markdown",
   "id": "waiting-circuit",
   "metadata": {},
   "source": [
    "### Ways to Simulate a Probability Experiment\n",
    "Let's look at a simple probability experiment using coin tosses.  Consider a scenario of tossing a coin 10 times."
   ]
  },
  {
   "cell_type": "code",
   "execution_count": null,
   "id": "different-powder",
   "metadata": {},
   "outputs": [],
   "source": [
    "coin <- c('H','T')                        #Define a vector with all possible outcomes (heads, tails)\n",
    "flips <- sample(coin,10,replace = TRUE)   #Sample from these outcomes, WITH replacement\n",
    "print(flips)                              #Look at our result vector\n",
    "\n",
    "num_heads <- sum(flips == 'H')            #Count number of heads\n",
    "print(num_heads)\n",
    "\n",
    "cat('There were',num_heads,'heads in 10 flips.')  #Show results in a full sentence  "
   ]
  },
  {
   "cell_type": "markdown",
   "id": "spare-profit",
   "metadata": {},
   "source": [
    "#### What if we repeat the above trial thousands of times ?\n",
    "We'll store the results of each trial and create a histogram to visualize the number of heads over all trials.  \n",
    "Remember: EACH trial consists of 10 coin tosses.  We are interested in the _number of heads_ in each trial."
   ]
  },
  {
   "cell_type": "code",
   "execution_count": null,
   "id": "difficult-genesis",
   "metadata": {},
   "outputs": [],
   "source": [
    "heads <- c()           # create a vector to store the number of heads for each trial\n",
    "num_trials = 10000     # set the number of trials\n",
    "\n",
    "for (i in 1:num_trials){\n",
    "    flips <- sample(coin,10,replace = TRUE) # create a trial of 10 coin flips\n",
    "    heads[i] <- sum(flips == \"H\")           # count and store the number of heads in this trial\n",
    "}\n",
    "\n",
    "head(heads)        # display results of first few trials\n",
    "hist(heads)        # histogram of all results\n"
   ]
  },
  {
   "cell_type": "markdown",
   "id": "separated-function",
   "metadata": {},
   "source": [
    "### Another Method\n",
    "\n",
    "The simulation above is useful because it is concrete and can be explored one step at a time.  \n",
    "For complex simulations, this kind of approach may be the only method available.\n",
    "\n",
    "However, in this scenario, we can also use the binomial distribution to generate a similar set of test data."
   ]
  },
  {
   "cell_type": "code",
   "execution_count": null,
   "id": "seventh-enlargement",
   "metadata": {},
   "outputs": [],
   "source": [
    "successes <- rbinom(num_trials, size=10, prob=0.5)    #10000 trials, 10 tosses, 0.5 chance of 'heads' (success)\n",
    "hist(successes)"
   ]
  },
  {
   "cell_type": "markdown",
   "id": "otherwise-population",
   "metadata": {},
   "source": [
    "### Questions\n",
    "\n",
    "1. What is the theoretical probability of getting exactly 5 heads in 10 flips?\n",
    "2. How does the theoretical proabability compare to the empirical probability in the simulations above?\n",
    "\n",
    "The code below can help answer these questions.\n"
   ]
  },
  {
   "cell_type": "code",
   "execution_count": null,
   "id": "infinite-religion",
   "metadata": {},
   "outputs": [],
   "source": [
    "#1. Theoretical probability of exactly 5 heads in 10 flips\n",
    "theo <- dbinom(5,size=10,prob=0.5)\n",
    "cat(\"Theoretical: \", theo, \"\\n\")\n",
    "\n",
    "#2. Examine empirical results from both methods:\n",
    "\n",
    "# Empirical probability from concrete coin toss simulation\n",
    "emp_prob1 <- sum(heads==5)/num_trials\n",
    "cat(\"Simulation 1: \", emp_prob1, \"\\n\")\n",
    "\n",
    "# Empirical probability from binomial distribution random values simulation\n",
    "emp_prob2 <- sum(successes==5)/num_trials\n",
    "cat(\"Simulation 2: \", emp_prob2, \"\\n\")"
   ]
  }
 ],
 "metadata": {
  "kernelspec": {
   "display_name": "R",
   "language": "R",
   "name": "ir"
  },
  "language_info": {
   "codemirror_mode": "r",
   "file_extension": ".r",
   "mimetype": "text/x-r-source",
   "name": "R",
   "pygments_lexer": "r",
   "version": "4.0.3"
  }
 },
 "nbformat": 4,
 "nbformat_minor": 5
}
