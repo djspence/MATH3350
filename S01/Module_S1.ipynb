{
 "cells": [
  {
   "cell_type": "markdown",
   "id": "ranging-amplifier",
   "metadata": {},
   "source": [
    "# MATH 3350 Course Notes - Module S1\n",
    "# Exploratory Data Analysis: The Basics\n",
    "\n",
    "R has several built-in data sets that can be used to explore and demonstrate different concepts.  \n",
    "\n",
    "We'll examine one below.\n"
   ]
  },
  {
   "cell_type": "code",
   "execution_count": null,
   "id": "after-henry",
   "metadata": {},
   "outputs": [],
   "source": [
    "head(ToothGrowth)   # See the first few rows of ToothGrowth data set\n",
    "?ToothGrowth        # Bring up R documentation that explains this data set"
   ]
  },
  {
   "cell_type": "markdown",
   "id": "atlantic-uncle",
   "metadata": {},
   "source": [
    "# What to explore...\n",
    "\n",
    "## 1. Types of Variables\n",
    "Quantitative vs. Categorical  \n",
    "_Note: In R, categorical variables are called 'factors'_  \n"
   ]
  },
  {
   "cell_type": "markdown",
   "id": "facial-patent",
   "metadata": {},
   "source": [
    "\n",
    "## 2. Size of Data Set\n",
    "How many rows?  How many columns?"
   ]
  },
  {
   "cell_type": "code",
   "execution_count": null,
   "id": "associate-elevation",
   "metadata": {},
   "outputs": [],
   "source": [
    "nrow(ToothGrowth)\n",
    "ncol(ToothGrowth)"
   ]
  },
  {
   "cell_type": "markdown",
   "id": "compliant-anxiety",
   "metadata": {},
   "source": [
    "## 3. Variable Summaries\n",
    "\n",
    "The type of summary will depend on the type of variable"
   ]
  },
  {
   "cell_type": "code",
   "execution_count": null,
   "id": "decimal-prime",
   "metadata": {},
   "outputs": [],
   "source": [
    "summary(ToothGrowth$len)"
   ]
  },
  {
   "cell_type": "code",
   "execution_count": null,
   "id": "catholic-provider",
   "metadata": {},
   "outputs": [],
   "source": [
    "summary(ToothGrowth$supp)"
   ]
  },
  {
   "cell_type": "code",
   "execution_count": null,
   "id": "binary-coordination",
   "metadata": {},
   "outputs": [],
   "source": [
    "summary(ToothGrowth$dose)"
   ]
  },
  {
   "cell_type": "markdown",
   "id": "crazy-silver",
   "metadata": {},
   "source": [
    "### Let's examine a different data set\n",
    "What type of variables do you see?"
   ]
  },
  {
   "cell_type": "code",
   "execution_count": null,
   "id": "thick-cathedral",
   "metadata": {},
   "outputs": [],
   "source": [
    "head(mtcars)\n",
    "?mtcars"
   ]
  },
  {
   "cell_type": "markdown",
   "id": "selected-classification",
   "metadata": {},
   "source": [
    "Notice that variables vs and am have data type 'double' but the documentation describes them as categorical variables."
   ]
  },
  {
   "cell_type": "code",
   "execution_count": null,
   "id": "close-disposition",
   "metadata": {},
   "outputs": [],
   "source": [
    "summary(mtcars$am)"
   ]
  },
  {
   "cell_type": "code",
   "execution_count": null,
   "id": "accomplished-grade",
   "metadata": {},
   "outputs": [],
   "source": [
    "summary(as.factor(mtcars$am))"
   ]
  },
  {
   "cell_type": "markdown",
   "id": "sticky-reality",
   "metadata": {},
   "source": [
    "### Numeric Descriptions of a Quantitative Variable\n",
    "* 5-number summary\n",
    "* Mean and standard deviation"
   ]
  },
  {
   "cell_type": "code",
   "execution_count": null,
   "id": "banner-architect",
   "metadata": {},
   "outputs": [],
   "source": [
    "summary(mtcars$wt)\n",
    "mean(mtcars$wt)\n",
    "sd(mtcars$wt)"
   ]
  },
  {
   "cell_type": "markdown",
   "id": "offshore-voice",
   "metadata": {},
   "source": [
    "### Important Distinction: Population Parameters vs. Sample Statistics\n",
    "\n",
    "These data are for a particular group of cars; the mean and standard deviation above are _sample statistics_, which are sometimes used as **_estimates_** of _population parameters_. The true values of population parameters are often unknown.\n",
    "\n",
    "### Describing the Distribution of a Quantitative Variable\n",
    "* Shape: Symmetry or Skew\n",
    "* Shape: Uniform, Peaks - unimodal, bimodal, others\n",
    "* Center: Mean and Median\n",
    "* Spread: Range, IQR, standard deviation\n",
    "* Outliers\n",
    "\n",
    "#### Run the cell below to see examples of different shape characteristics."
   ]
  },
  {
   "cell_type": "code",
   "execution_count": null,
   "id": "supported-insertion",
   "metadata": {},
   "outputs": [],
   "source": [
    "set.seed(844)\n",
    "setA <- rnorm(500,21,2)\n",
    "setB <- rchisq(500,df=800)\n",
    "setC <- rchisq(500,df=6)\n",
    "setD <- -1*setC+30\n",
    "setE <- runif(5000,min=1,max=6)\n",
    "setF <- c(rnorm(500,21,2),rnorm(500,32,2))\n",
    "\n",
    "par(mfrow=c(2,2))\n",
    "hist(setA,main=\"Approximately Normal\", xlab=\"Data Set A\")\n",
    "hist(setB,main=\"Unimodal and Roughly Symmetric\", xlab=\"Data Set B\")\n",
    "hist(setC,main=\"Unimodal and Skewed RIGHT\", xlab=\"Data Set C\")\n",
    "hist(setD,main=\"Unimodal and Skewed LEFT\", xlab=\"Data Set D\")\n",
    "hist(setE,main=\"Approximately Uniform\", xlab=\"Data Set E\")\n",
    "hist(setF,main=\"Bimodal\", xlab=\"Data Set F\")"
   ]
  },
  {
   "cell_type": "markdown",
   "id": "sustained-ivory",
   "metadata": {},
   "source": [
    "### Appearance of Histogram Depends on Bins\n",
    "\n",
    "The cell below creates a histogram of the _weight_ of the vehicles in the **mtcars** data set.  Look at the histogram and see what you can determine about the shape of the distribution.\n",
    "\n",
    "Note that the histogram's _bin width_ can change the appearance of the histogram, but the underlying distribution is not changing.  Some bin widths make it easier to see certain patterns. The cell below allows you to change the bin width easily to see the effect on the histogram."
   ]
  },
  {
   "cell_type": "code",
   "execution_count": null,
   "id": "described-mirror",
   "metadata": {},
   "outputs": [],
   "source": [
    "# Try this histogram with different binwidth values (e.g., 1, 0.25, 0.5, 0.6, 0.75, 1.25, 1.5, or others if you choose)\n",
    "\n",
    "binwidth <- 1\n",
    "hist(mtcars$wt, breaks=seq(1,6,binwidth), main=\"Distribution of Car Weights (1000 lbs)\")\n"
   ]
  },
  {
   "cell_type": "markdown",
   "id": "final-mississippi",
   "metadata": {},
   "source": [
    "## Box plots\n",
    "\n",
    "Box plots can help visualize other features of a distribution.\n",
    "\n",
    "### What a boxplot DOES show:\n",
    "\n",
    "* minimum value\n",
    "* maximum value\n",
    "* median\n",
    "* quartiles (first and third)\n",
    "* outliers \n",
    "* strong skewness\n",
    "\n",
    "Note that a box plot is a visual representation of the 5-number summary. Based on the values in that summary, a boxplot can also be used to compute measures of spread:\n",
    "* range: maximum - minimum\n",
    "* IQR (interquartile range): Q3 - Q1\n",
    "\n",
    "### What a boxplot does NOT show:\n",
    "\n",
    "* mean\n",
    "* standard deviation\n",
    "* number of peaks\n",
    "* features of specific distributions (e.g., normal or uniform)\n",
    "\n",
    "#### Comparing Information in Box Plots and Histograms \n",
    "The cell below produces box plots for the same 6 data sets that we viewed above as histograms. The titles remind you of the shape that was visible in the histogram, but which features are evident from the box plot? Which features are **not** evident? "
   ]
  },
  {
   "cell_type": "code",
   "execution_count": null,
   "id": "communist-doctrine",
   "metadata": {},
   "outputs": [],
   "source": [
    "par(mfrow=c(2,3))\n",
    "boxplot(setA,main=\"(Approximately Normal)\", xlab=\"Data Set A\")\n",
    "boxplot(setB,main=\"(Unimodal & Symmetric)\", xlab=\"Data Set B\")\n",
    "boxplot(setC,main=\"(Skewed RIGHT)\", xlab=\"Data Set C\")\n",
    "boxplot(setD,main=\"(Skewed LEFT)\", xlab=\"Data Set D\")\n",
    "boxplot(setE,main=\"(Approximately Uniform)\", xlab=\"Data Set E\")\n",
    "boxplot(setF,main=\"(Bimodal)\", xlab=\"Data Set F\")"
   ]
  },
  {
   "cell_type": "markdown",
   "id": "complex-salad",
   "metadata": {},
   "source": [
    "### Making Box Plots Horizontal\n",
    "By default, box plots in R are vertical. It can often be useful to display them horizontally. This is especially true for ease of interpreting the direction of a skew (left versus right).\n",
    "\n",
    "The cell below shows box plots of our 6 sample data sets horizontally."
   ]
  },
  {
   "cell_type": "code",
   "execution_count": null,
   "id": "floral-southwest",
   "metadata": {},
   "outputs": [],
   "source": [
    "par(mfrow=c(3,2))\n",
    "boxplot(setA,horizontal=TRUE,main=\"(Approximately Normal)\", xlab=\"Data Set A\")\n",
    "boxplot(setB,horizontal=TRUE,main=\"(Unimodal & Symmetric)\", xlab=\"Data Set B\")\n",
    "boxplot(setC,horizontal=TRUE,main=\"(Skewed RIGHT)\", xlab=\"Data Set C\")\n",
    "boxplot(setD,horizontal=TRUE,main=\"(Skewed LEFT)\", xlab=\"Data Set D\")\n",
    "boxplot(setE,horizontal=TRUE,main=\"(Approximately Uniform)\", xlab=\"Data Set E\")\n",
    "boxplot(setF,horizontal=TRUE,main=\"(Bimodal)\", xlab=\"Data Set F\")"
   ]
  },
  {
   "cell_type": "markdown",
   "id": "collectible-processing",
   "metadata": {},
   "source": [
    "### Revisiting the Distribution of Weights \n",
    "The cell below shows a horizontal box plot of the weights of cars in the **mtcars** data set. \n",
    "\n",
    "What else can you detect about the distribution based on the box plot?"
   ]
  },
  {
   "cell_type": "code",
   "execution_count": null,
   "id": "organizational-baseline",
   "metadata": {},
   "outputs": [],
   "source": [
    "boxplot(mtcars$wt, main=\"Car Weights (1000 lbs)\", horizontal=TRUE)"
   ]
  },
  {
   "cell_type": "markdown",
   "id": "abandoned-parks",
   "metadata": {},
   "source": [
    "### Outliers\n",
    "Box plots can show outliers, as the plot above does (see points on the right side of the plot.)  \n",
    "\n",
    "We can also verify mathematically whether the data set contains outliers, using the 1.5 IQR rule (also called 'fencing'). For these calculations, we refer again to the values in the 5-number summary: "
   ]
  },
  {
   "cell_type": "code",
   "execution_count": null,
   "id": "manual-boating",
   "metadata": {},
   "outputs": [],
   "source": [
    "summary(mtcars$wt)"
   ]
  },
  {
   "cell_type": "markdown",
   "id": "subject-tuition",
   "metadata": {},
   "source": [
    "### Using IQR to Compute Boundaries for Outliers\n",
    "\n",
    "**IQR** is _Inter-Quartile Range_, representing the distance between Q1 and Q3.\n",
    "\n",
    "$$IQR = 3.61 - 2.581 = 1.029$$\n",
    "\n",
    "$$1.5(IQR) = 1.5 \\times 1.029 = 1.5435$$\n",
    "\n",
    "The \"1.5 IQR\" value is 1.5435; this is the distance _**below Q1**_ and _**above Q3**_ for the outlier boundaries.\n",
    "\n",
    "#### Low boundary: \n",
    "$$Q1 - 1.5435 = 2.581 - 1.5435 = 1.0375$$\n",
    "\n",
    "#### Upper boundary: \n",
    "$$Q3 + 1.5435 = 3.61 + 1.5435 = 5.1535$$\n",
    "\n",
    "From the summary, we can see that the minimum value is 1.513.  Since 1.513 is not below 1.0375, there are no low outliers.\n",
    "\n",
    "From the summary, we can see that the maximum value is 5.424.  Since 5.424 is above 5.1535, there is at least one high outlier. This is consistent with the boxplot, which appears to show 2 outliers.\n",
    "\n",
    "**NOTE:** 'Whiskers' do NOT necessarily extend to the \"boundary\" for outliers.  They extend to the most extreme value **_in the data set_** that is _NOT_ an outlier.\n",
    "\n",
    "### Stacking box plots\n",
    "\n",
    "Box plots are useful for comparing how a variable is distributed when grouped by another variable."
   ]
  },
  {
   "cell_type": "code",
   "execution_count": null,
   "id": "printable-prague",
   "metadata": {},
   "outputs": [],
   "source": [
    "boxplot(mtcars$wt ~ mtcars$am, main=\"Car Weights by Transmission Type\", \n",
    "        xlab=\"Weight (1000 lbs)\", ylab=\"Transmission: Automatic(0) or Manual(1)\", \n",
    "        horizontal=TRUE)\n"
   ]
  },
  {
   "cell_type": "markdown",
   "id": "surgical-designation",
   "metadata": {},
   "source": [
    "### Density Plot\n",
    "The distribution can also be viewed as a density plot."
   ]
  },
  {
   "cell_type": "code",
   "execution_count": null,
   "id": "unusual-butter",
   "metadata": {},
   "outputs": [],
   "source": [
    "plot(density(mtcars$wt), main=\"Density Plot of Car Weights\", xlab=\"Weight (1000 lbs)\")"
   ]
  },
  {
   "cell_type": "markdown",
   "id": "prescription-fossil",
   "metadata": {},
   "source": [
    "### Scatter Plot of 2 Quantitative Variables\n",
    "A scatter plot can help visualize possible relationships between 2 quantitative variables.  "
   ]
  },
  {
   "cell_type": "code",
   "execution_count": null,
   "id": "twelve-active",
   "metadata": {},
   "outputs": [],
   "source": [
    "plot(mtcars$wt,mtcars$mpg,main=\"Mileage vs Car Weight\", xlab=\"Weight (1000 lbs)\", ylab=\"Miles per Gallon\")"
   ]
  },
  {
   "cell_type": "markdown",
   "id": "coated-morocco",
   "metadata": {},
   "source": [
    "Again, a third variable may be part of any relationship that exists. We can visualize that by grouping."
   ]
  },
  {
   "cell_type": "code",
   "execution_count": null,
   "id": "responsible-identification",
   "metadata": {},
   "outputs": [],
   "source": [
    "plot(mtcars$wt,mtcars$mpg,col=(as.factor(mtcars$am)),main=\"Mileage vs Car Weight by Transmission Type\", \n",
    "     xlab=\"Weight (1000 lbs)\", ylab=\"Miles per Gallon\", pch=(mtcars$am+16))\n",
    "\n",
    "# Add legend to plot\n",
    "legend(\"topright\", pch = c(16,17), legend = c('Automatic','Manual'), col = c(\"black\",\"red\"))\n"
   ]
  }
 ],
 "metadata": {
  "kernelspec": {
   "display_name": "R",
   "language": "R",
   "name": "ir"
  },
  "language_info": {
   "codemirror_mode": "r",
   "file_extension": ".r",
   "mimetype": "text/x-r-source",
   "name": "R",
   "pygments_lexer": "r",
   "version": "4.0.3"
  }
 },
 "nbformat": 4,
 "nbformat_minor": 5
}
