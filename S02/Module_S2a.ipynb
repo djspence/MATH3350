{
 "cells": [
  {
   "cell_type": "markdown",
   "id": "ranging-amplifier",
   "metadata": {},
   "source": [
    "# MATH 3350 Course Notes - Module S2\n",
    "\n",
    "## The Normal Distribution\n",
    "\n",
    "A Normal distribution with mean $ \\mu $ and standard deviation $ \\sigma $ is denoted by $ N(\\mu , \\sigma)$  \n",
    "\n",
    "$ f(x) = \\frac{1}{\\sigma\\sqrt{2\\pi}}e^{\\left ( -\\frac{x-\\mu}{\\sigma}\\right )^2}$\n",
    "\n",
    "The distribution is centered at $ \\mu $ and the spread of the distribution is proportional to $ \\sigma $.\n",
    " "
   ]
  },
  {
   "cell_type": "markdown",
   "id": "unavailable-publisher",
   "metadata": {},
   "source": [
    "#### ACT Scores are approximately normally distributed $ N(21,6) $"
   ]
  },
  {
   "cell_type": "code",
   "execution_count": null,
   "id": "different-powder",
   "metadata": {},
   "outputs": [],
   "source": [
    "ACT_mu <- 21\n",
    "ACT_sigma <- 6\n",
    "x <- seq(ACT_mu-3*ACT_sigma, ACT_mu+3*ACT_sigma,length.out = 100) # \"empirical rule\" - 3 sigmas\n",
    "d <- dnorm(x, mean = ACT_mu, sd = ACT_sigma)\n",
    "# \n",
    "plot(x,d, ylab = \"density\", type = 'l')\n",
    "title('Distribution of ACT Scores', xlab = 'Score')"
   ]
  },
  {
   "cell_type": "markdown",
   "id": "spare-profit",
   "metadata": {},
   "source": [
    "#### If you scored a 27 on the ACT, what is your percentile ? (what percentage of scores are at or below your score?)\n",
    "This is equivalent to finding the area under the distribution below the boundary _x=27_.\n"
   ]
  },
  {
   "cell_type": "code",
   "execution_count": null,
   "id": "seasonal-watts",
   "metadata": {},
   "outputs": [],
   "source": [
    "plot(x,d, type = 'l', ylab='Density',xlab='Score', main=\"ACT Score Distribution\")\n",
    "abline(v=27,col=\"red\",lwd=2)"
   ]
  },
  {
   "cell_type": "markdown",
   "id": "other-carbon",
   "metadata": {},
   "source": [
    "The **`pnorm`** command will compute this area.  Note that by default, this computes the area to the LEFT of the boundary.\n",
    "\n",
    "Note that the area will be between 0 and 1 (a proportion of the entire curve).  Multiply by 100 to express as a percentage."
   ]
  },
  {
   "cell_type": "code",
   "execution_count": null,
   "id": "difficult-genesis",
   "metadata": {},
   "outputs": [],
   "source": [
    "left_area <- pnorm(27,ACT_mu,ACT_sigma)   # pnorm(score, mu, sigma)\n",
    "cat(\"Proportion:\", left_area, \"\\n\")\n",
    "cat(\"Percent:\", 100*left_area, \"\\n\")"
   ]
  },
  {
   "cell_type": "markdown",
   "id": "objective-insight",
   "metadata": {},
   "source": [
    "#### SAT scores are approximately normally distributed $ N(1060 , 217) $\n",
    "#### If you are at the 70th percentile on the SAT, what is your score?\n",
    "This is the **_reverse_** of the function above.  We are given the area to the left of the boundary, and we need to find the boundary. \n",
    "\n",
    "The **`qnorm`** command will compute this boundary.  We will round to the nearest whole number, since SAT scores are always whole numbers."
   ]
  },
  {
   "cell_type": "code",
   "execution_count": null,
   "id": "roman-estonia",
   "metadata": {},
   "outputs": [],
   "source": [
    "SAT_mu <- 1060\n",
    "SAT_sigma <- 217\n",
    "\n",
    "round(qnorm(.70, mean = SAT_mu,  sd = SAT_sigma))"
   ]
  },
  {
   "cell_type": "markdown",
   "id": "under-editing",
   "metadata": {},
   "source": [
    "#### Comparing Scores\n",
    "\n",
    "Which is the better score?  A 27 on the ACT -- $ N(21 , 6) $\n",
    "\n",
    "or \n",
    "\n",
    "a 1300 on the SAT -- $ N(1060 , 217) $ ?"
   ]
  },
  {
   "cell_type": "code",
   "execution_count": null,
   "id": "official-mention",
   "metadata": {},
   "outputs": [],
   "source": [
    "ACT_score <- 27\n",
    "SAT_score <- 1300\n",
    "\n",
    "p_ACT <- pnorm(ACT_score, ACT_mu, ACT_sigma)\n",
    "cat('The ACT Score is at the ', p_ACT *100, ' percentile \\n')\n",
    "\n",
    "p_SAT <- pnorm(SAT_score, SAT_mu, SAT_sigma)\n",
    "cat('The SAT Score is at the ', p_SAT *100, ' percentile')"
   ]
  },
  {
   "cell_type": "markdown",
   "id": "worth-climb",
   "metadata": {},
   "source": [
    "####   How many standard deviations above the mean is an ACT score of 27? \n",
    "\n",
    "We can visualize the answer by examining the plots for each distribution.  The dashed vertical lines show the boundaries at 1, 2, and 3 standard deviations above the mean. The blue triangle marker shows the location (on x axis) of ACT score 27."
   ]
  },
  {
   "cell_type": "code",
   "execution_count": null,
   "id": "polish-battery",
   "metadata": {},
   "outputs": [],
   "source": [
    "#ACT plot with standard deviations\n",
    "x <- seq(ACT_mu-3.2*ACT_sigma, ACT_mu+3.2*ACT_sigma,length.out = 100) #Extend just past 3 sigmas\n",
    "d <- dnorm(x, mean = ACT_mu, sd = ACT_sigma)\n",
    "plot(x,d, type = 'l', main='ACT Scores', xlab = 'Score')\n",
    "abline(v=ACT_mu,col=\"red\")\n",
    "abline(v=ACT_mu+ACT_sigma,lty=2,col=\"grey\")\n",
    "abline(v=ACT_mu+2*ACT_sigma,lty=2,col=\"grey\")\n",
    "abline(v=ACT_mu+3*ACT_sigma,lty=2,col=\"grey\")\n",
    "points(x=ACT_score,y=-0.001,col=\"blue\",pch=17,cex=2)"
   ]
  },
  {
   "cell_type": "markdown",
   "id": "lovely-poster",
   "metadata": {},
   "source": [
    "This is a particularly easy case, because the score is exactly one standard deviation (6 points) above the mean.\n",
    "\n",
    "####   How many standard deviations above the mean is an SAT score of  1300?\n",
    "\n",
    "We take a similar approach to visualize this scenario below.  However, this time, the score does not coincide neatly with a whole number of standard deviations."
   ]
  },
  {
   "cell_type": "code",
   "execution_count": null,
   "id": "celtic-andrews",
   "metadata": {},
   "outputs": [],
   "source": [
    "#SAT plot with standard deviations\n",
    "x <- seq(SAT_mu-3.2*SAT_sigma, SAT_mu+3.2*SAT_sigma,length.out = 100) #Extend just past 3 sigmas\n",
    "d <- dnorm(x, mean = SAT_mu, sd = SAT_sigma)\n",
    "plot(x,d, type = 'l', main='SAT Scores', xlab = 'Score')\n",
    "abline(v=SAT_mu,col=\"red\")\n",
    "abline(v=SAT_mu+SAT_sigma,lty=2,col=\"grey\")\n",
    "abline(v=SAT_mu+2*SAT_sigma,lty=2,col=\"grey\")\n",
    "abline(v=SAT_mu+3*SAT_sigma,lty=2,col=\"grey\")\n",
    "points(x=SAT_score,y=-0.00002,col=\"blue\",pch=17,cex=2)"
   ]
  },
  {
   "cell_type": "markdown",
   "id": "wired-working",
   "metadata": {},
   "source": [
    "Clearly, the SAT score is a little more than 1 standard deviation above the mean.\n",
    " \n",
    "Since the score is 1300, and the mean is 1060, the score is 240 points above the mean. One standard deviation is 217 points, so this score is one standard deviation PLUS an additional 23 points.  As a fraction of one standard deviation, this is $\\frac {23}{217} \\approx 0.106$, making the total number of standard deviations approximately 1.106.\n",
    "\n",
    "This can be shown succinctly in the following equation:\n",
    "   \n",
    " SAT standard deviations above mean $ =  \\frac{1300-1060}{217} \\approx{1.11} $\n",
    " \n",
    "This value (number of standard deviations from the mean is called a **_z-score_**, and the calculation we performed follows the formula:\n",
    "\n",
    "## <center>$z=\\frac{x-\\mu}{\\sigma} $</center>\n",
    " \n",
    "Note that the formula could also be used to find our earlier result for the ACT score (but we didn't really need the formula to figure it out!)\n",
    "\n",
    " ACT standard deviations above mean $ =  \\frac{27-21}{6} = 1 $  \n",
    " \n",
    "The code below shows how this formula is computed in _**R**_."
   ]
  },
  {
   "cell_type": "code",
   "execution_count": null,
   "id": "peaceful-millennium",
   "metadata": {
    "scrolled": true
   },
   "outputs": [],
   "source": [
    "ACT_z <- (ACT_score - ACT_mu)/ACT_sigma\n",
    "SAT_z <- (SAT_score - SAT_mu)/SAT_sigma\n",
    "cat('The ACT score is ', ACT_z,' standard deviation(s) away from the mean \\n')\n",
    "cat('The SAT score is ', SAT_z,' standard deviation(s) away from the mean \\n')"
   ]
  },
  {
   "cell_type": "markdown",
   "id": "governing-cleanup",
   "metadata": {},
   "source": [
    "#### Note that z-scores can be negative.  What would this mean?\n",
    "\n",
    "_What ACT score would have a z-score of -1.5?_"
   ]
  },
  {
   "cell_type": "markdown",
   "id": "coupled-family",
   "metadata": {},
   "source": [
    "### The Standard Normal Distribution $ N(0,1)$\n",
    "\n",
    "Recall that the **Standard Normal Distribution** has $\\mu=0$ and $\\sigma=1$.  This means that 1 standard deviation corresponds to exactly 1 unit. \n",
    "\n"
   ]
  },
  {
   "cell_type": "code",
   "execution_count": null,
   "id": "third-joint",
   "metadata": {},
   "outputs": [],
   "source": [
    "#Plot the Standard Normal Distribution with standard deviation boundaries\n",
    "\n",
    "x <- seq(-3.2, 3.2, length.out = 100)  #Extend just past 3 sigmas\n",
    "d <- dnorm(x)                          #Default mean is 0; default sd is 1\n",
    "plot(x,d, type = 'l', main='Standard Normal Distribution', xlab = \"\",ylab=\"Density\")\n",
    "abline(v=0,col=\"red\")\n",
    "abline(v=-3,lty=2,col=\"grey\")\n",
    "abline(v=-2,lty=2,col=\"grey\")\n",
    "abline(v=-1,lty=2,col=\"grey\")\n",
    "abline(v=1,lty=2,col=\"grey\")\n",
    "abline(v=2,lty=2,col=\"grey\")\n",
    "abline(v=3,lty=2,col=\"grey\")"
   ]
  },
  {
   "cell_type": "markdown",
   "id": "ceramic-valley",
   "metadata": {},
   "source": [
    "#### The 'Empirical Rule'\n",
    "The behavior of ALL Normal distributions is consistent with the following characteristics:\n",
    "\n",
    "- Approximately 68% of observations lie within 1 standard deviation ($-1 \\le z.score \\le +1$)\n",
    "- Approximately 95% of observations lie within 2 standard deviations ($-2 \\le z.score \\le +2$)\n",
    "- Approximately 99.7% of observations lie within 3 standard deviations ($-3 \\le z.score \\le +3$)\n",
    "\n",
    "This can be visualized in the plot above as the area under the curve within the specified bands."
   ]
  },
  {
   "cell_type": "code",
   "execution_count": null,
   "id": "professional-stuff",
   "metadata": {},
   "outputs": [],
   "source": [
    "#Area in tails (note left tail is used by default)\n",
    "right_tail <- pnorm(1,lower.tail=FALSE)   #Proportion more than 1 standard deviation above\n",
    "left_tail <- pnorm(-1)                    #Proportion more than 1 standard deviation below\n",
    "\n",
    "within_1sd <- 1 - (left_tail + right_tail)\n",
    "\n",
    "cat(\"Left tail:\",left_tail,\"\\n\")\n",
    "cat(\"Right tail:\", right_tail,\"\\n\")\n",
    "cat(\"Within 1 SD:\", within_1sd,\"\\n\")\n"
   ]
  }
 ],
 "metadata": {
  "kernelspec": {
   "display_name": "R",
   "language": "R",
   "name": "ir"
  },
  "language_info": {
   "codemirror_mode": "r",
   "file_extension": ".r",
   "mimetype": "text/x-r-source",
   "name": "R",
   "pygments_lexer": "r",
   "version": "4.0.3"
  }
 },
 "nbformat": 4,
 "nbformat_minor": 5
}
