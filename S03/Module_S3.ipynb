{
 "cells": [
  {
   "cell_type": "markdown",
   "id": "ranging-amplifier",
   "metadata": {},
   "source": [
    "# MATH 3350 Course Notes - Module S3\n",
    "\n",
    "## Introduction to Hypothesis Testing: The Lady Tasting Tea\n",
    "\n",
    "Recall the scenario where Muriel claimed tea tastes better when the milk is added to the cup before the tea. Muriel was convinced adding the tea first, then the milk, was inferior. She claimed she could taste the difference.\n",
    "We will generate a simulation of the [blind taste test](https://en.wikipedia.org/wiki/Lady_tasting_tea) that Fisher performed, but simplified.  \n",
    "\n",
    "### The Scenario as a Simulation\n",
    "We want to simulate eight cups of tea, where each cup is prepared either by pouring milk first or tea first. Then simulate allowing Muriel to GUESS for each cup whether it was prepared with milk or tea first. Therefore, her probability of guessing correctly for any one cup is 0.5. \n",
    "\n",
    "#### Model 1:  A Coin Toss\n",
    "Since the probability of a correct guess (assuming Muriel is guessing) is 0.5, so we can simulate each guess with a coin toss. \n",
    "\n",
    "- Let 'HEADS' represent a correct guess\n",
    "- Let 'TAILS' represent a wrong guess\n",
    "\n",
    "Define one **TRIAL** as 8 coin tosses. (_Why?_)\n",
    "\n",
    "Toss your coin 8 times and count the number of heads.  Write this number down.  What does it represent?\n",
    "\n",
    "Repeat the trial (8 tosses) 5 more times and record your result each time.  Now we have several simulated trials of Muriel guessing (8 guesses per trial).  We can use the data we have collected to make a histogram."
   ]
  },
  {
   "cell_type": "code",
   "execution_count": null,
   "id": "tested-cutting",
   "metadata": {},
   "outputs": [],
   "source": [
    "#Complete with number of results for each category\n",
    "count0 <- rep(0,0 )\n",
    "count1 <- rep(1,0 )\n",
    "count2 <- rep(2,0 )\n",
    "count3 <- rep(3,0 )\n",
    "count4 <- rep(4,0 )\n",
    "count5 <- rep(5,0 )\n",
    "count6 <- rep(6,0 )\n",
    "count7 <- rep(7,0 )\n",
    "count8 <- rep(8,0 )\n",
    "\n",
    "#Put all results in one vector\n",
    "all_results <- c(count0,count1,count2,count3,count4,count5,count6,count7,count8)\n",
    "hist(all_results,breaks=c(-1,0,1,2,3,4,5,6,7,8,9))\n"
   ]
  },
  {
   "cell_type": "markdown",
   "id": "printable-macedonia",
   "metadata": {},
   "source": [
    "#### Model 2:  Random Outcome Generator\n",
    "\n",
    "We can simulate coin tosses (as in Module S0).  Similarly, instead of Heads/Tails, we can simulate YES/NO outcomes for whether the guess is correct.  _**Remember that this is a model to simulate Muriel GUESSING,**_ and we are assuming she has a 50-50 chance of guessing correctly.\n",
    "\n",
    "- 'Y' (for YES) means the guess is correct\n",
    "- 'N' (for NO) means the guess is not correct"
   ]
  },
  {
   "cell_type": "code",
   "execution_count": null,
   "id": "different-powder",
   "metadata": {},
   "outputs": [],
   "source": [
    "guess <- c('Y','N')                        #Define a vector with all possible outcomes (yes = correct guess)\n",
    "results <- sample(guess,8,replace = TRUE)  #Simulates 8 guesses with Yes/No equally likely\n",
    "print(results)                             #Look at our result vector\n",
    "\n",
    "num_correct <- sum(results == 'Y')            #Count number of correct guesses\n",
    "\n",
    "cat('There were',num_correct,'correct out of 8 guesses.')  #Show results in a full sentence  "
   ]
  },
  {
   "cell_type": "markdown",
   "id": "spare-profit",
   "metadata": {},
   "source": [
    "#### Why might we want to repeat the above trial thousands of times?\n",
    "We'll repeat this trial 10000 times and store the result (number of correct guesses) for each trial. **Why would we want to do this?**\n",
    "\n",
    "#### Looking at the results\n",
    "We'll create a histogram to visualize the number of correct guesses (out of 8) over all the trials.  \n",
    "Remember: EACH trial consists of 8 guesses (1 for each cup of tea).  We are interested in the _number of correct guesses_ in each trial."
   ]
  },
  {
   "cell_type": "code",
   "execution_count": null,
   "id": "difficult-genesis",
   "metadata": {},
   "outputs": [],
   "source": [
    "num_correct <- c()           # create a vector to store the number of correct guesses for each trial\n",
    "num_trials = 10000     # set the number of trials\n",
    "\n",
    "for (i in 1:num_trials){\n",
    "    results <- sample(guess,8,replace = TRUE) # create a trial of 8 'cups' and guess for each\n",
    "    num_correct[i] <- sum(results == \"Y\")     # count and store the number of correct guesses in this trial\n",
    "}\n",
    "\n",
    "head(num_correct, 20)        # display results of first 20 trials\n",
    "\n"
   ]
  },
  {
   "cell_type": "code",
   "execution_count": null,
   "id": "apart-lecture",
   "metadata": {},
   "outputs": [],
   "source": [
    "hist(num_correct)        # histogram of all results"
   ]
  },
  {
   "cell_type": "markdown",
   "id": "lightweight-feature",
   "metadata": {},
   "source": [
    "#### How can we use the data we just generated?\n",
    "Using these results, what is the **empirical probability** that all 8 guesses would be correct?"
   ]
  },
  {
   "cell_type": "code",
   "execution_count": null,
   "id": "annoying-karma",
   "metadata": {},
   "outputs": [],
   "source": [
    "all8right <- num_correct >= 8\n",
    "head(all8right,30)\n"
   ]
  },
  {
   "cell_type": "code",
   "execution_count": null,
   "id": "involved-shore",
   "metadata": {},
   "outputs": [],
   "source": [
    "idx_8right <- which(all8right)   #Show vector index of entries with value TRUE\n",
    "idx_8right\n",
    "\n",
    "\n",
    "    "
   ]
  },
  {
   "cell_type": "code",
   "execution_count": null,
   "id": "sapphire-things",
   "metadata": {},
   "outputs": [],
   "source": [
    "all8right[idx_8right]            #Show entries in all8right with above index values\n",
    "\n",
    "num_correct[idx_8right]          #Show entries in num_correct in the same index values"
   ]
  },
  {
   "cell_type": "code",
   "execution_count": null,
   "id": "naughty-blond",
   "metadata": {},
   "outputs": [],
   "source": [
    "num_correct[all8right]         #Same result with entire logical vector"
   ]
  },
  {
   "cell_type": "code",
   "execution_count": null,
   "id": "alive-mineral",
   "metadata": {},
   "outputs": [],
   "source": [
    "count_all8right <- sum(all8right)  #How many trials had all 8 right?\n",
    "count_all8right\n",
    "\n",
    "length(num_correct[all8right])     #Second way to find same information"
   ]
  },
  {
   "cell_type": "markdown",
   "id": "crucial-session",
   "metadata": {},
   "source": [
    "#### What is the empirical probability of getting all 8 correct, IF she is only guessing?\n",
    "Also, what does this probability suggest?"
   ]
  },
  {
   "cell_type": "code",
   "execution_count": null,
   "id": "speaking-alberta",
   "metadata": {},
   "outputs": [],
   "source": [
    "count_all8right/num_trials"
   ]
  },
  {
   "cell_type": "markdown",
   "id": "separated-function",
   "metadata": {},
   "source": [
    "#### Model 3:  Random Outcomes from Known Distribution\n",
    "\n",
    "You may recognize the first 2 models as equivalent to random outcomes in a binomial distribution. Recall that for known distributions, there is another way to generate random outcomes.  We can use this to create a similar set of test data."
   ]
  },
  {
   "cell_type": "code",
   "execution_count": null,
   "id": "seventh-enlargement",
   "metadata": {},
   "outputs": [],
   "source": [
    "successes <- rbinom(num_trials, size=8, prob=0.5)    #10000 trials, 8 teacups, 0.5 chance of guessing correctly\n",
    "hist(successes)"
   ]
  },
  {
   "cell_type": "code",
   "execution_count": null,
   "id": "modular-proxy",
   "metadata": {},
   "outputs": [],
   "source": [
    "# Empirical probability from binomial distribution random values simulation\n",
    "emp_prob <- sum(successes>=8)/num_trials\n",
    "cat(\"Simulation 2: \", emp_prob, \"\\n\")"
   ]
  },
  {
   "cell_type": "markdown",
   "id": "otherwise-population",
   "metadata": {},
   "source": [
    "### Theoretical Approach\n",
    "\n",
    "The three methods above all use simulations and/or randomly generated values to find an **empirical probability** based on data we generated. Given what we know about how some distributions behave, we can also directly find the **theoretical probability**.\n",
    "\n",
    "#### Questions\n",
    "\n",
    "1. What is the _theoretical probability_ of getting exactly 8 correct guesses in 8 tries?\n",
    "2. How does the theoretical proabability compare to the empirical probability in the simulations above?\n",
    "\n"
   ]
  },
  {
   "cell_type": "code",
   "execution_count": null,
   "id": "infinite-religion",
   "metadata": {},
   "outputs": [],
   "source": [
    "# Theoretical probability of exactly 8 correct in 8 guesses\n",
    "theo <- dbinom(8,size=8,prob=0.5)\n",
    "cat(\"Theoretical probability: \", theo, \"\\n\")\n",
    "\n"
   ]
  },
  {
   "cell_type": "markdown",
   "id": "ongoing-trouble",
   "metadata": {},
   "source": [
    "### What does it all mean??\n",
    "* Remember that this is a _**conditional probability**_-- we assume that she was guessing.\n",
    "* How does the low probability inform your decision about whether our assumption (that she was guessing) is correct?\n",
    "* These are the beginnings of a **hypothesis test**.\n",
    "\n",
    "## Hypothesis Tests\n",
    "These are the steps to conducting a hypothesis test:  \n",
    "1. Identify a population parameter and state null and alternative hypotheses about the parameter.<br>These should be stated in such a way that the _**null**_ hypothesis is the \"default\" assumption unless there is sufficiently strong evidence in favor of the _**alternative**_ hypothesis.\n",
    "    \n",
    "    \n",
    "2. Create a model consistent with the NULL HYPOTHESIS.<br>This could be a _theoretical_ model (e.g., an exact probability distribution) or an _empirical_ model (e.g., a simulation).\n",
    "    \n",
    "    \n",
    "3. Use the model to determine the probability that results as extreme as those we observed would occur purely by random chance IF the null hypothesis were true. (This probability is called a p-value.)\n",
    "\n",
    "\n",
    "4. Based on the p-value, decide whether to reject the null hypothesis in favor of the alternative.\n",
    "\n",
    "\n",
    "5. Draw a conclusion in the context of the scenario given.  \n",
    "\n",
    "\n",
    "**_To complete a hypothesis test, you must carry out steps 4 and 5 after the p-value is found._**  \n",
    "\n",
    "Below, we will examine how we carried out each of these steps.\n",
    "\n",
    "### Step 1: Identifying a Parameter and Hypotheses\n",
    "\n",
    "- Our parameter is the proportion of times (in the long run, or \"on average\") that Muriel will correctly identify the order that milk and tea were poured.\n",
    "- Our NULL hypothesis is our default assumption unless there is strong evidence to the contrary<br>**NULL Hypothesis:** Muriel is guessing, so in the long run, the proportion identified correctly is one half, or $p = \\frac{1}{2}$\n",
    "    \n",
    "- Our ALTERNATIVE hypothesis is the other possibility we are exploring<br>**ALTERNATIVE Hypothesis:** Muriel can actually detect a difference, so the proportion identified correctly is better than one half, or $p > \\frac{1}{2}$\n",
    "\n",
    "### Step 2: Creating the Model of the Null Hypothesis\n",
    "\n",
    "We explored two methods of creating a model of the null hypothesis:\n",
    "\n",
    "1. Use simulation/randomization to create an empirical model and find a p-value.\n",
    "2. Use a theoretical distribution to find a p-value. (There is sometimes more than one suitable theoretical distribution.)\n",
    "\n",
    "### Step 3: Use the Model to Find a p-Value\n",
    "\n",
    "We found a p-value for each model.  The p-value is interpreted as the following _conditional probability_:<br>\n",
    "_**If we assume that the null hypothesis is true**, the p-value is the probability that we would see results as extreme as the ones we have observed, just by random chance alone._\n",
    "\n",
    "### Step 4: Decide Whether Evidence is Sufficient to Reject Null Hypothesis\n",
    "\n",
    "Based on our p-values, is there strong evidence for the alternative hypothesis instead of the null hypothesis?  If so, we reject the null hypothesis.  Today's scenario may seem decisive, but we will discuss in future lessons how to decide whether our evidence is strong enough.\n",
    "\n",
    "### Step 5: Conclusion\n",
    "\n",
    "The decsion made in step 4 implies that we have drawn a conclusion about the original question we were investigating. \n",
    "\n",
    "- What was our original question?\n",
    "- What is our conclusion?"
   ]
  }
 ],
 "metadata": {
  "kernelspec": {
   "display_name": "R",
   "language": "R",
   "name": "ir"
  },
  "language_info": {
   "codemirror_mode": "r",
   "file_extension": ".r",
   "mimetype": "text/x-r-source",
   "name": "R",
   "pygments_lexer": "r",
   "version": "4.0.3"
  }
 },
 "nbformat": 4,
 "nbformat_minor": 5
}
