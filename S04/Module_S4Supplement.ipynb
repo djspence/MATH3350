{
 "cells": [
  {
   "cell_type": "markdown",
   "id": "ranging-amplifier",
   "metadata": {},
   "source": [
    "# MATH 3350 Course Notes - Module S4 Supplement\n",
    "\n",
    "## Using R to create simulations\n",
    "\n",
    "Recall our two 'families' of options for creating a model of the null hypothesis for a statistical test:\n",
    "1. Use simulation/randomization to create an empirical model and find a p-value.\n",
    "2. Use a theoretical distribution to find a p-value. \n",
    "\n",
    "The notes below show examples of R code for **_simulating_** outcomes that would occur if the null hypothesis is true."
   ]
  },
  {
   "cell_type": "markdown",
   "id": "capable-cincinnati",
   "metadata": {},
   "source": [
    "### Significance Test for _One Proportion_:  The Lady Tasting Tea\n",
    "Our hypothesis is about the lady's \"true\" proportion of correctly identified ways that tea was prepared. We are calling this true proportion _p_. (**Note:** p represents her true proportion in the long run, not just in the 8 attempts that were conducted.)  Regardless of which method above we choose to generate our p-value, our hypotheses are as follows.\n",
    "<center>\n",
    "$H_{0}: p = 0.5$  \n",
    "</center>\n",
    "<center>\n",
    "$H_{a}: p > 0.5$\n",
    "</center>\n",
    "\n",
    "#### Empirical p-value through simulation/randomization\n",
    "We can simulate coin tosses (as in Module S0).  Similarly, instead of Heads/Tails, we can simulate YES/NO outcomes for whether the guess is correct.  _**Remember that this is a model to simulate Muriel GUESSING,**_ and we are assuming she has a 50-50 chance of guessing correctly.\n",
    "\n",
    "- 'Y' (for YES) means the guess is correct\n",
    "- 'N' (for NO) means the guess is not correct"
   ]
  },
  {
   "cell_type": "code",
   "execution_count": null,
   "id": "annual-injury",
   "metadata": {},
   "outputs": [],
   "source": [
    "guess <- c('Y','N')                        #Define a vector with all possible outcomes (yes = correct guess)\n",
    "results <- sample(guess,8,replace = TRUE)  #Simulates 8 guesses with Yes/No equally likely\n",
    "print(results)                             #Look at our result vector\n",
    "\n",
    "num_correct <- sum(results == 'Y')            #Count number of correct guesses\n",
    "\n",
    "cat('There were',num_correct,'correct out of 8 guesses.')  #Show results in a full sentence  "
   ]
  },
  {
   "cell_type": "markdown",
   "id": "descending-louisiana",
   "metadata": {},
   "source": [
    "#### Why might we want to repeat the above trial thousands of times?\n",
    "We'll repeat this trial 10000 times and store the result (number of correct guesses) for each trial. **Why would we want to do this?**\n",
    "\n",
    "#### Looking at the results\n",
    "We'll create a histogram to visualize the number of correct guesses (out of 8) over all the trials.  \n",
    "Remember: EACH trial consists of 8 guesses (1 for each cup of tea).  We are interested in the _number of correct guesses_ in each trial."
   ]
  },
  {
   "cell_type": "code",
   "execution_count": null,
   "id": "cleared-satisfaction",
   "metadata": {},
   "outputs": [],
   "source": [
    "num_correct <- c()     # create a vector to store the number of correct guesses for each trial\n",
    "num_trials = 10000     # set the number of trials\n",
    "\n",
    "for (i in 1:num_trials){\n",
    "    results <- sample(guess,8,replace = TRUE) # create a trial of 8 'cups' and guess for each\n",
    "    num_correct[i] <- sum(results == \"Y\")     # count and store the number of correct guesses in this trial\n",
    "}\n",
    "\n",
    "head(num_correct, 20)        # display results of first 20 trials"
   ]
  },
  {
   "cell_type": "code",
   "execution_count": null,
   "id": "pressed-liver",
   "metadata": {},
   "outputs": [],
   "source": [
    "hist(num_correct,breaks=seq(-0.5,8.5,1))        # histogram of all results"
   ]
  },
  {
   "cell_type": "markdown",
   "id": "authentic-barbados",
   "metadata": {},
   "source": [
    "#### How can we use the data we just generated?\n",
    "Using these results, what is the **empirical probability** that all 8 guesses would be correct?"
   ]
  },
  {
   "cell_type": "code",
   "execution_count": null,
   "id": "declared-arctic",
   "metadata": {},
   "outputs": [],
   "source": [
    "all8right <- num_correct >= 8\n",
    "\n",
    "count_all8right <- sum(all8right)  #How many trials had all 8 right?\n",
    "count_all8right"
   ]
  },
  {
   "cell_type": "markdown",
   "id": "earlier-pilot",
   "metadata": {},
   "source": [
    "#### What is the empirical probability of getting all 8 correct, IF she is only guessing?\n",
    "Also, what does this probability suggest?"
   ]
  },
  {
   "cell_type": "code",
   "execution_count": null,
   "id": "impressive-vector",
   "metadata": {},
   "outputs": [],
   "source": [
    "count_all8right/num_trials"
   ]
  },
  {
   "cell_type": "markdown",
   "id": "unavailable-publisher",
   "metadata": {},
   "source": [
    "### Significance Test for _Two Proportions_:  Dolphin Therapy\n",
    "Our hypothesis is about the \"true\" proportion of individuals who would improve if they received dolphin therapy ($p_1$), compared to the \"true\" proportion of those who would improve if dolphins were not introduced into their treatment ($p_2$). (**Note:** these parameters, $p_1$ and $p_2$, represent these true proportions across all possible patients, not just the 30 patients in the study.)  Regardless of which method above we choose to generate our p-value, our hypotheses are as follows.\n",
    "<center>\n",
    "$H_{0}: p_1 = p_2$  \n",
    "</center>\n",
    "<center>\n",
    "$H_{a}: p_1 > p_2$\n",
    "</center>\n",
    "\n",
    "Notice that another way to write these hypotheses is to focus on the **_difference_** between the proportions:  \n",
    "<center>\n",
    "$H_{0}: p_1 - p_2 = 0$  \n",
    "</center>\n",
    "<center>\n",
    "$H_{a}: p_1 - p_2 > 0$\n",
    "</center>\n",
    "\n",
    "#### Our Sample \n",
    "In the experiment, 10 of the 15 participants in the ('dolphin') treatment group improved, and 3 of the 15 participants in the control group improved. This gives us the following sample statistics:\n",
    "<center>\n",
    "    $\\widehat{p_1}=\\frac{10}{15}=0.667$\n",
    "</center>\n",
    "<center>\n",
    "    $\\widehat{p_2}=\\frac{3}{15}=0.2$\n",
    "</center>\n",
    "\n",
    "And the following _difference in sample proportions:_  \n",
    "\n",
    "<center>\n",
    "    $\\widehat{p_1} - \\widehat{p_2}=0.667-0.2=0.467$\n",
    "</center>\n",
    "\n",
    "The hypothesis test is intended to help us decide if this difference is _statistically significant_.\n",
    "\n",
    "#### Empirical p-value through simulation/randomization\n",
    "If the null hypothesis is true, the only explanation for the difference in results between the two groups in the experiment is that the individual's improvement had nothing to do with their treatment group. In other words, it was just random chance that the individuals who improved were in the 'dolphin' group.  \n",
    "\n",
    "Below, we show a repeated simulation of assigning the individuals randomly to treatment groups, assuming that their outcome is NOT related to their treatment group. This is our way of modeling $H_0$."
   ]
  },
  {
   "cell_type": "code",
   "execution_count": null,
   "id": "different-powder",
   "metadata": {},
   "outputs": [],
   "source": [
    "#Create array of all outcomes in study (all 30 participants), regardless of treatment group\n",
    "#Y=Participant who improved; N=Participant who did not improve\n",
    "num_improved <- 13\n",
    "num_not_improved <- 17\n",
    "\n",
    "participants <- c(rep('Y', num_improved),rep('N', num_not_improved))\n",
    "participants"
   ]
  },
  {
   "cell_type": "code",
   "execution_count": null,
   "id": "dress-finding",
   "metadata": {},
   "outputs": [],
   "source": [
    "#Mimic a treatment group of size 15 being randomly selected from these 30 participants\n",
    "tgroup <- sample(participants,15,replace=FALSE)\n",
    "tgroup\n",
    "\n",
    "#How many individuals who improved were randomly placed in this group (with dolphins)?\n",
    "count1 <- sum(tgroup=='Y')\n",
    "p_hat1 <- count1/15\n",
    "\n",
    "#The remaining participants were in the other (control) group\n",
    "count2 <- num_improved - count1\n",
    "p_hat2 <- count2/15\n",
    "\n",
    "diff <- p_hat1 - p_hat2\n",
    "\n",
    "cat(\"Dolphin Group: \", count1,\" improved - sample proportion = \", p_hat1)\n",
    "cat(\"\\n\")  #new line\n",
    "cat(\"Control Group: \", count2,\" improved - sample proportion = \", p_hat2)\n",
    "cat(\"\\n\")  \n",
    "cat(\"Difference in sample proportions: \",diff)\n"
   ]
  },
  {
   "cell_type": "code",
   "execution_count": null,
   "id": "silent-affair",
   "metadata": {},
   "outputs": [],
   "source": [
    "#Repeat random sampling from the participants many times \n",
    "num_trials <- 10000\n",
    "\n",
    "#This vector will hold the difference in proportions for each randomized assignment\n",
    "differences <- c()          \n",
    "\n",
    "#Create a model of the number of differences we would expect for a \n",
    "#                  random group assignment IF THE NULL HYPOTHESIS IS TRUE\n",
    "for (i in 1:num_trials){\n",
    "    tgroup <- sample(participants,15,replace=FALSE)\n",
    "    count1 <- sum(tgroup=='Y')\n",
    "    count2 <- num_improved - count1\n",
    "    differences[i] <- (count1/15 - count2/15)\n",
    "}\n",
    "\n",
    "#Visualize our model\n",
    "hist(differences, main=\"Difference in Proportion of Improved Participants (Null Model)\", breaks=8)"
   ]
  },
  {
   "cell_type": "code",
   "execution_count": null,
   "id": "patient-completion",
   "metadata": {},
   "outputs": [],
   "source": [
    "#Compute p-value from above empirical model\n",
    "sample_diff <- (10/15 - 3/15)\n",
    "\n",
    "cat(\"Finding differences of \", sample_diff, \"or greater...\\n\")\n",
    "\n",
    "emp_p <- sum(differences>=sample_diff)/num_trials\n",
    "cat(\"Empirical p-value:\", emp_p)"
   ]
  }
 ],
 "metadata": {
  "kernelspec": {
   "display_name": "R",
   "language": "R",
   "name": "ir"
  },
  "language_info": {
   "codemirror_mode": "r",
   "file_extension": ".r",
   "mimetype": "text/x-r-source",
   "name": "R",
   "pygments_lexer": "r",
   "version": "4.0.3"
  }
 },
 "nbformat": 4,
 "nbformat_minor": 5
}
