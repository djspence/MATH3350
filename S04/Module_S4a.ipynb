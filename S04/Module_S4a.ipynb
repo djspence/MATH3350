{
 "cells": [
  {
   "cell_type": "markdown",
   "id": "ranging-amplifier",
   "metadata": {},
   "source": [
    "# MATH 3350 Course Notes - Module S4 (Part I)\n",
    "\n",
    "## Hypothesis Testing for Single Proportions\n",
    "\n",
    "Recall the steps to conducting a hypothesis test:  \n",
    "1. Identify a population parameter and state null and alternative hypotheses about the parameter\n",
    "2. Create a model consistent with the NULL HYPOTHESIS\n",
    "3. Use the model to determine a p-value (the probability that results as extreme as those we observed would occur by random chance IF the null hypothesis were true)\n",
    "4. Based on the p-value, decide whether to reject the null hypothesis in favor of the alternative\n",
    "5. Draw a conclusion in the context of the scenario given  \n",
    "\n",
    "In the notes below, we will focus on how to accomplish STEPS 1-3 above using _R_.  \n",
    "\n",
    "**_Remember that to complete a hypothesis test, you should proceed to steps 4 and 5 after the p-value is found._**  \n",
    "\n",
    "### Creating the Model of the Null Hypothesis\n",
    "In most hypothesis test scenarios, we have two 'families' of options for steps 2-3 (creating the model and finding the p-value):\n",
    "1. Use simulation/randomization to create an empirical model and find a p-value.\n",
    "2. Use a theoretical distribution to find a p-value. (There is sometimes more than one suitable theoretical distribution.)\n"
   ]
  },
  {
   "cell_type": "markdown",
   "id": "unavailable-publisher",
   "metadata": {},
   "source": [
    "### Example 1.  Lady Tasting Tea\n",
    "Our hypothesis is about the lady's \"true\" proportion of correctly identified ways that tea was prepared. We are calling this true proportion _p_. (**Note:** p represents her true proportion in the long run, not just in the 8 attempts that were conducted.)  Regardless of which method above we choose to generate our p-value, our hypotheses are as follows.\n",
    "<center>\n",
    "$H_{0}: p = 0.5$  \n",
    "</center>\n",
    "<center>\n",
    "$H_{a}: p > 0.5$\n",
    "</center>\n",
    "\n",
    "#### Method 1 - Empirical p-value through simulation/randomization \n",
    "There are several ways to conduct a simulation for our empirical model. \n",
    "* One is shown in the ISI applets (using simulated coin tosses and plotting results)\n",
    "* An equivalent simulation written in R is shown in the Module S4 _**Supplement Notes**_.\n",
    "* The model below illustrates a simulation using _random values directly from the binomial distribution_. This approach is short and efficient, while still relying on **_\"random\" results consistent with the null hypothesis_**."
   ]
  },
  {
   "cell_type": "code",
   "execution_count": null,
   "id": "different-powder",
   "metadata": {},
   "outputs": [],
   "source": [
    "num_trials <- 10000\n",
    "\n",
    "#Create a model of the number of 'successes' we would expect in 8 attempts IF THE NULL HYPOTHESIS IS TRUE:\n",
    "null_model <- rbinom(num_trials, size=8, prob=0.5)\n",
    "\n",
    "#Visualize our model\n",
    "hist(null_model, main=\"Expected Number of Successes in 8 Attempts (Null Model)\")\n"
   ]
  },
  {
   "cell_type": "code",
   "execution_count": null,
   "id": "patient-completion",
   "metadata": {},
   "outputs": [],
   "source": [
    "#Compute p-value from above empirical model\n",
    "emp_p <- sum(null_model==8)/num_trials\n",
    "cat(\"Empirical p-value:\", emp_p)"
   ]
  },
  {
   "cell_type": "markdown",
   "id": "spare-profit",
   "metadata": {},
   "source": [
    "#### Method 2 - Theoretical Distribution (Option A)\n",
    "\n",
    "We should recognize this scenario as a binomial distribution. We can compute the probability directly of 8 successes in 8 attempts if the true proportion of success is 0.5.  This is done below. "
   ]
  },
  {
   "cell_type": "code",
   "execution_count": null,
   "id": "difficult-genesis",
   "metadata": {},
   "outputs": [],
   "source": [
    "theory_p_A <- dbinom(8,size=8,prob=0.5)\n",
    "cat(\"Theoretical p-value using binomial distribution: \", theory_p_A)\n"
   ]
  },
  {
   "cell_type": "markdown",
   "id": "objective-insight",
   "metadata": {},
   "source": [
    "#### Method 2 - Theoretical Distribution (Option B)\n",
    "R will also perform a test based the binomial distribution.  This is done below."
   ]
  },
  {
   "cell_type": "code",
   "execution_count": null,
   "id": "roman-estonia",
   "metadata": {},
   "outputs": [],
   "source": [
    "#Binomial hypothesis test:\n",
    "#binom.test(x, n, p = 0.5, alternative = \"two.sided\")\n",
    "#    x = observed number of successes\n",
    "#    n = number of attempts \n",
    "#    p = probability of success\n",
    "#    alternative = direction of alternative hypothesis\n",
    "binom.test(8, 8, p = 0.5, alternative = \"greater\")"
   ]
  },
  {
   "cell_type": "markdown",
   "id": "under-editing",
   "metadata": {},
   "source": [
    "#### Z-Test Option\n",
    "\n",
    "There is a Normal approximation for binomial results; this _sometimes_ allows us to use a z-Test instead of a binomial test.  However, our sample size (8) is too small for the Normal approximation to be a valid method. Some common rules of thumb regarding the z-Test (Normal approximation) option:\n",
    "\n",
    "1. Sample size $n$ should be at least 30\n",
    "2. $\\widehat{p}n$ should be at least 10\n",
    "3. $(1-\\widehat{p})n$ should be at least 10\n",
    "\n",
    "Note that in this example, $\\widehat{p}$ is 1.0 (100%) but $\\widehat{p}n = (1.0)(8) = 8$  \n",
    "Similarly, $(1-\\widehat{p})n = (0)(8) = 0$  \n",
    "\n",
    "Therefore, in this scenario, all three conditions fail.  We cannot reliably use the z-Test for proportions this time."
   ]
  },
  {
   "cell_type": "markdown",
   "id": "pleased-patch",
   "metadata": {},
   "source": [
    "### Example 2.  Alex the Parrot\n",
    "Recall in this example that Alex (a parrot) identified 6 of 8 objects correctly by color, with 4 colors to choose from.  This time, our hypotheses are as follows.\n",
    "<center>\n",
    "$H_{0}: p = 0.25$  \n",
    "</center>\n",
    "<center>\n",
    "$H_{a}: p > 0.25$\n",
    "</center>\n",
    "\n",
    "Our approaches will be similar, but our p-value won't be based on the probability of getting EXACTLY 6 correct.  They must be based on the probability of getting AT LEAST 6 correct. (Clearly, getting 7 or 8 would be even better. We want the probability of a result AT LEAST as extreme as the one we have observed.)\n",
    "\n",
    "#### Method 1 - Empirical p-value through simulation/randomization\n",
    "Again, for our empirical model, we generate simulated random results that are consistent with the null hypothesis. "
   ]
  },
  {
   "cell_type": "code",
   "execution_count": null,
   "id": "official-mention",
   "metadata": {},
   "outputs": [],
   "source": [
    "num_trials <- 10000\n",
    "\n",
    "#Create a model of the number of 'successes' we would expect in 8 attempts IF THE NULL HYPOTHESIS IS TRUE:\n",
    "null_model <- rbinom(num_trials, size=8, prob=0.25)\n",
    "\n",
    "#Visualize our model\n",
    "hist(null_model, main=\"Expected Number of Successes in 8 Attempts (Null Model)\")"
   ]
  },
  {
   "cell_type": "code",
   "execution_count": null,
   "id": "institutional-pathology",
   "metadata": {},
   "outputs": [],
   "source": [
    "#Compute p-value from above empirical model\n",
    "emp_p <- sum(null_model>=6)/num_trials\n",
    "cat(\"Empirical p-value:\", emp_p)"
   ]
  },
  {
   "cell_type": "markdown",
   "id": "worth-climb",
   "metadata": {},
   "source": [
    "#### Method 2 - Theoretical Distribution (Option A)\n",
    "\n",
    "Again, we recognize this scenario as a binomial distribution. We can compute the probability directly of AT LEAST 6 successes in 8 attempts if the true proportion of success is 0.25.  This is done below in two different ways. Both give the same result.\n"
   ]
  },
  {
   "cell_type": "code",
   "execution_count": null,
   "id": "peaceful-millennium",
   "metadata": {
    "scrolled": true
   },
   "outputs": [],
   "source": [
    "#Find RIGHT-tailed probability in binomial distribution\n",
    "\n",
    "#NOTE that P(AT LEAST 6) is 1 - P(AT MOST 5)\n",
    "theory_p_A1 <- 1 - pbinom(5, size=8, prob=0.25)\n",
    "cat(\"Theoretical p-value using binomial distribution - first way: \") \n",
    "theory_p_A1\n",
    "\n",
    "#Another way to get same result\n",
    "theory_p_A2 <- pbinom(5, size=8, prob=0.25, lower.tail=FALSE)\n",
    "cat(\"Theoretical p-value using binomial distribution - second way: \")\n",
    "theory_p_A2\n"
   ]
  },
  {
   "cell_type": "markdown",
   "id": "latest-brother",
   "metadata": {},
   "source": [
    "#### Method 2 - Theoretical Distribution (Option B)\n",
    "Again, we use R to perform a test based on the binomial distribution.  \n",
    "(Also note that once again, conditions for the Normal approximation (z-Test) are not met in this example.)"
   ]
  },
  {
   "cell_type": "code",
   "execution_count": null,
   "id": "greek-stuart",
   "metadata": {},
   "outputs": [],
   "source": [
    "#Binomial hypothesis test:\n",
    "#binom.test(x, n, p = 0.5, alternative = \"two.sided\")\n",
    "#    x = observed number of successes\n",
    "#    n = number of attempts \n",
    "#    p = probability of success\n",
    "#    alternative = direction of alternative hypothesis\n",
    "binom.test(6, 8, p = 0.25, alternative = \"greater\")"
   ]
  },
  {
   "cell_type": "markdown",
   "id": "optimum-binding",
   "metadata": {},
   "source": [
    "### Example 3.  Halloween Treats\n",
    "This example is based on a study that was done to determine whether children have a preference for receiving candy or toys when they are Trick or Treating. Children were offered a chance to take one item from a platter (a toy or candy). Of the 283 children observed, 148 chose candy.  \n",
    "**NOTE** that the alternative hypothesis depends on how the research question is framed:  \n",
    "##### Research Question: Do children have a stronger preference for candy? (Is a child more than 50% likely to choose the candy, in general?)\n",
    "<center>\n",
    "$H_{0}: p = 0.5$  \n",
    "</center>\n",
    "<center>\n",
    "$H_{a}: p > 0.5$\n",
    "</center>\n",
    "\n",
    "##### Research Question: Is there a difference in likelihood that children trick-or-treating will choose a toy versus candy? (Is a child's probability of choosing candy DIFFERENT than 50%, in general?)\n",
    "<center>\n",
    "$H_{0}: p = 0.5$  \n",
    "</center>\n",
    "<center>\n",
    "$H_{a}: p \\neq 0.5$\n",
    "</center>\n",
    "\n",
    "The top variation is called a \"one-tailed\" test; the second is a \"two-tailed\" test.  In fact, the researchers conducted a two-tailed test (testing for ANY preference in EITHER direction).\n",
    "\n",
    "#### Method 1 - Empirical p-value through simulation/randomization\n",
    "Again, for our empirical model, we generate simulated random results that are consistent with the null hypothesis. We will call choosing candy a 'success'. "
   ]
  },
  {
   "cell_type": "code",
   "execution_count": null,
   "id": "afraid-grounds",
   "metadata": {},
   "outputs": [],
   "source": [
    "num_trials <- 10000\n",
    "\n",
    "#Create a model of the number of 'successes' we would expect in 283 attempts IF THE NULL HYPOTHESIS IS TRUE:\n",
    "null_model <- rbinom(num_trials, size=283, prob=0.5)\n",
    "\n",
    "#Visualize our model\n",
    "hist(null_model, main=\"Expected Number (of 283 Children) Choosing Candy (Null Model)\")"
   ]
  },
  {
   "cell_type": "code",
   "execution_count": null,
   "id": "thorough-plymouth",
   "metadata": {},
   "outputs": [],
   "source": [
    "#Compute p-value from above empirical model\n",
    "#Note that for a 2-tailed test, we are interested in anything AS FAR AWAY from 50% as our observed results\n",
    "#This means 148 or higher OR 135 or lower\n",
    "emp_p <- (sum(null_model>=148) + sum(null_model<=135))/num_trials\n",
    "cat(\"Empirical p-value:\", emp_p)"
   ]
  },
  {
   "cell_type": "markdown",
   "id": "prescribed-perception",
   "metadata": {},
   "source": [
    "#### Method 2 - Theoretical Distribution (Option A)\n",
    "\n",
    "Again, we recognize this scenario as a binomial distribution. We can compute the probability directly of AT LEAST 148 successes OR AT MOST 135 successes (in 283 attempts) if the true proportion of success is 0.5.  This is done below in one way. Can you think of another way?"
   ]
  },
  {
   "cell_type": "code",
   "execution_count": null,
   "id": "latest-florence",
   "metadata": {},
   "outputs": [],
   "source": [
    "#Find TWO-tailed probability in binomial distribution\n",
    "\n",
    "#NOTE that P(AT LEAST 148) is 1 - P(AT MOST 147)\n",
    "theory_p_A <- pbinom(147, size=283, prob=0.5, lower.tail=FALSE) + pbinom(135, size=283, prob=0.5)\n",
    "cat(\"Theoretical p-value using binomial distribution: \", theory_p_A)\n"
   ]
  },
  {
   "cell_type": "markdown",
   "id": "flush-prisoner",
   "metadata": {},
   "source": [
    "#### Method 2 - Theoretical Distribution (Option B)\n",
    "Again, we use R to perform a test based on the binomial distribution. Note that 'two-tailed' is the DEFAULT direction for this test in R (see the 'alternative=' argument in the function.)"
   ]
  },
  {
   "cell_type": "code",
   "execution_count": null,
   "id": "quiet-conducting",
   "metadata": {},
   "outputs": [],
   "source": [
    "#Binomial hypothesis test:\n",
    "#binom.test(x, n, p = 0.5, alternative = \"two.sided\")\n",
    "#    x = observed number of successes\n",
    "#    n = number of attempts \n",
    "#    p = probability of success\n",
    "#    alternative = direction of alternative hypothesis\n",
    "binom.test(148, 283)"
   ]
  },
  {
   "cell_type": "markdown",
   "id": "italic-strength",
   "metadata": {},
   "source": [
    "Notice that the example code above did not provide values for the last 2 arguments (p and 'alternative'). Therefore, the default values were used (p=0.5 and alternative = \"two.sided\").  The following code produces an identical result."
   ]
  },
  {
   "cell_type": "code",
   "execution_count": null,
   "id": "announced-productivity",
   "metadata": {},
   "outputs": [],
   "source": [
    "#Binomial hypothesis test with all arguments explicitly given\n",
    "binom.test(148, 283, p=0.5, alternative=\"two.sided\")\n"
   ]
  },
  {
   "cell_type": "markdown",
   "id": "coupled-family",
   "metadata": {},
   "source": [
    "#### Method 2 - Theoretical Distribution (Option C)\n",
    "Note that our sample statistic is $\\widehat{p}= \\frac{148}{283} = 0.523$  \n",
    "\n",
    "We use $p_0=0.5$ to represent our null hypothesis value for the true proportion $p$. \n",
    "\n",
    "In this example, all three of the conditions for using the Normal approximation (z-Test for a proportion) are met:\n",
    "1. $n=283>30$\n",
    "2. $\\widehat{p}n = 148 \\geq 10$ \n",
    "3. $(1-\\widehat{p})n = 135 \\geq 10$ \n",
    "\n",
    "Therefore, we will conduct the z-test for proportions.  The z-statistic for this approximation is:  \n",
    "<center>\n",
    "$z = \\frac{\\widehat{p}-p_0}{\\sqrt{\\frac{p_0(1-p_0)}{n}}}$\n",
    "</center>\n",
    "\n",
    "Therefore, we can compute the z-statistic directly:  \n",
    "<center>\n",
    "$z = \\frac{0.523-0.5}{\\sqrt{\\frac{(0.5)(0.5)}{283}}}$\n",
    "</center>\n"
   ]
  },
  {
   "cell_type": "code",
   "execution_count": null,
   "id": "marine-rabbit",
   "metadata": {},
   "outputs": [],
   "source": [
    "#Compute z-statistic for proportion by hand\n",
    "z <- (0.523-0.5)/sqrt(0.5*0.5/283)\n",
    "cat(\"z-statistic: \", z)"
   ]
  },
  {
   "cell_type": "markdown",
   "id": "educated-delight",
   "metadata": {},
   "source": [
    "#### Converting z to a p-value\n",
    "Now we can use the standard normal distribution to find the probability of having a z-score this far from the 'expected value'. Two options are shown below for accomplishing this.  Notice that because the normal distribution is symmetric, it makes the 2-tailed test very easy. Also note that the pnorm function uses the standard normal distribution by default (default of $\\mu=0$ and $\\sigma=1$)"
   ]
  },
  {
   "cell_type": "code",
   "execution_count": null,
   "id": "private-aspect",
   "metadata": {},
   "outputs": [],
   "source": [
    "#Option 1: Add P(z>0.7747) and P(z<-0.7747) to account for both tails\n",
    "theory_p_z1 <- pnorm(-z)+pnorm(z,lower.tail=FALSE)\n",
    "cat(\"Theoretical p-value using normal distribution - first way: \") \n",
    "theory_p_z1\n",
    "\n",
    "#Option 2: Find the probability that z is greater than our z-value, then double it for 2-tailed  \n",
    "theory_p_z2 <- 2 * pnorm(z,lower.tail=FALSE)\n",
    "cat(\"Theoretical p-value using normal distribution - second way: \") \n",
    "theory_p_z2"
   ]
  },
  {
   "cell_type": "markdown",
   "id": "perceived-personality",
   "metadata": {},
   "source": [
    "#### Method 2 - Theoretical Distribution (Option D)\n",
    "Once again, R has a specific function for a 1-proportion test.  The test statistic generated is actually the $\\chi$-squared statistic, but it is often described as R's '1-proportion z-test'.  You will see that the p-value is similar (but not identical) to what we obtained when computing the z-statistic manually and using the standard normal distribution."
   ]
  },
  {
   "cell_type": "code",
   "execution_count": null,
   "id": "quarterly-watch",
   "metadata": {},
   "outputs": [],
   "source": [
    "#Conduct 2-tailed 1-proportion test\n",
    "#prop.test(x, n, p = 0.5, alternative = \"two.sided\", correct = TRUE)\n",
    "#    x = observed number of successes\n",
    "#    n = number of attempts \n",
    "#    p = probability of success\n",
    "#    alternative = direction of alternative hypothesis\n",
    "#    correct = whether to apply a correction factor \n",
    "\n",
    "#Here we use the default values for p, alternative, but turn off the correction factor\n",
    "prop.test(148,283,correct=FALSE)"
   ]
  }
 ],
 "metadata": {
  "kernelspec": {
   "display_name": "R",
   "language": "R",
   "name": "ir"
  },
  "language_info": {
   "codemirror_mode": "r",
   "file_extension": ".r",
   "mimetype": "text/x-r-source",
   "name": "R",
   "pygments_lexer": "r",
   "version": "4.0.3"
  }
 },
 "nbformat": 4,
 "nbformat_minor": 5
}
