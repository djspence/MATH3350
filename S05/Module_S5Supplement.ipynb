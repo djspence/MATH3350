{
 "cells": [
  {
   "cell_type": "markdown",
   "id": "ranging-amplifier",
   "metadata": {},
   "source": [
    "# MATH 3350 Course Notes - Module S5 Supplement\n",
    "\n",
    "## Using R to create simulations\n",
    "\n",
    "Recall our two 'families' of options for creating a model of the null hypothesis for a statistical test:\n",
    "1. Use simulation/randomization to create an empirical model and find a p-value.\n",
    "2. Use a theoretical distribution to find a p-value. \n",
    "\n",
    "The notes below show examples of R code for **_simulating_** outcomes that would occur if the null hypothesis is true.\n"
   ]
  },
  {
   "cell_type": "markdown",
   "id": "everyday-compound",
   "metadata": {},
   "source": [
    "### Example 2. Guinea Pig Tooth Growth (Two Means)¶\n",
    "\n",
    "The full ToothGrowth data set includes data for two different treatments: Orange Juice (OJ) and a Vitamin C supplement (VC). We want to know if there is a significant **difference** between the true mean odontoblast length of guinea pigs receiving these two treatments.\n",
    "\n",
    "Hypotheses are as follows.\n",
    "<center>\n",
    "$H_{0}: \\mu_J = \\mu_V$  \n",
    "</center>\n",
    "<center>\n",
    "$H_{a}: \\mu_J \\neq \\mu_V$\n",
    "</center>\n",
    "\n",
    "First we gather our sample data:"
   ]
  },
  {
   "cell_type": "code",
   "execution_count": null,
   "id": "palestinian-lesson",
   "metadata": {},
   "outputs": [],
   "source": [
    "OJ_sampleData <- ToothGrowth[ToothGrowth$supp=='OJ',]$len\n",
    "VC_sampleData <- ToothGrowth[ToothGrowth$supp=='VC',]$len\n",
    "\n",
    "summary(OJ_sampleData)\n",
    "summary(VC_sampleData)\n",
    "\n",
    "sample_meanDiff <- mean(OJ_sampleData) - mean(VC_sampleData)\n",
    "sample_meanDiff"
   ]
  },
  {
   "cell_type": "markdown",
   "id": "angry-rescue",
   "metadata": {},
   "source": [
    "#### Method 1 - Empirical p-value through simulation/randomization\n",
    "This randomization is similar to the one we performed for the 2-proportion hypothesis test."
   ]
  },
  {
   "cell_type": "code",
   "execution_count": null,
   "id": "controversial-journalism",
   "metadata": {},
   "outputs": [],
   "source": [
    "#Mimic 2 treatment groups of size 30 being randomly selected from the 60 guinea pigs in the study\n",
    "random_groups <- sample(ToothGrowth$len,60,replace=FALSE)\n",
    "OJ_group <- random_groups[1:30]\n",
    "VC_group <- random_groups[31:60]\n",
    "\n",
    "#Find mean cell length for each group and then find difference between the means\n",
    "xbar_OJ <- mean(OJ_group)\n",
    "xbar_VC <- mean(VC_group)\n",
    "\n",
    "diff <- xbar_OJ - xbar_VC\n",
    "\n",
    "cat(\"OJ Group mean: \", xbar_OJ)\n",
    "cat(\"\\n\")  #new line\n",
    "cat(\"Vitamin C Group mean: \", xbar_VC)\n",
    "cat(\"\\n\")  \n",
    "cat(\"Difference in sample means: \",diff)\n"
   ]
  },
  {
   "cell_type": "code",
   "execution_count": null,
   "id": "unlimited-qualification",
   "metadata": {},
   "outputs": [],
   "source": [
    "#Repeat random sampling process many times \n",
    "num_trials <- 10000\n",
    "\n",
    "#This vector will hold the difference in means for each randomized assignment\n",
    "differences <- c()          \n",
    "\n",
    "#Create a model of the mean differences we would expect for a \n",
    "#                  random group assignment IF THE NULL HYPOTHESIS IS TRUE\n",
    "for (i in 1:num_trials){\n",
    "    random_groups <- sample(ToothGrowth$len,60,replace=FALSE)\n",
    "    OJ_group <- random_groups[1:30]\n",
    "    VC_group <- random_groups[31:60]\n",
    "    xbar_OJ <- mean(OJ_group)\n",
    "    xbar_VC <- mean(VC_group)\n",
    "    differences[i] <- xbar_OJ - xbar_VC\n",
    "}\n",
    "\n",
    "#Visualize our model\n",
    "hist(differences, main=\"Differences in Mean Odontoblast Length by Treatment (Null Model)\")"
   ]
  },
  {
   "cell_type": "code",
   "execution_count": null,
   "id": "patient-completion",
   "metadata": {},
   "outputs": [],
   "source": [
    "#Compute p-value from above empirical model\n",
    "\n",
    "cat(\"Finding mean differences at least as extreme as \", sample_meanDiff, \"...\\n\")\n",
    "\n",
    "emp_p <- sum(abs(differences)>=sample_meanDiff)/num_trials\n",
    "cat(\"Empirical p-value:\", emp_p)"
   ]
  }
 ],
 "metadata": {
  "kernelspec": {
   "display_name": "R",
   "language": "R",
   "name": "ir"
  },
  "language_info": {
   "codemirror_mode": "r",
   "file_extension": ".r",
   "mimetype": "text/x-r-source",
   "name": "R",
   "pygments_lexer": "r",
   "version": "4.0.3"
  }
 },
 "nbformat": 4,
 "nbformat_minor": 5
}
