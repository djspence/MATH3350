{
 "cells": [
  {
   "cell_type": "markdown",
   "id": "ranging-amplifier",
   "metadata": {},
   "source": [
    "# MATH 3350 Course Notes - Module S5 (Part I)\n",
    "\n",
    "## Hypothesis Testing for Means\n",
    "\n",
    "Recall the steps to conducting a hypothesis test:  \n",
    "1. Identify a population parameter and state null and alternative hypotheses about the parameter\n",
    "2. Create a model consistent with the NULL HYPOTHESIS\n",
    "3. Use the model to determine a p-value (the probability that results as extreme as those we observed would occur by random chance IF the null hypothesis were true)\n",
    "4. Based on the p-value, decide whether to reject the null hypothesis in favor of the alternative\n",
    "5. Draw a conclusion in the context of the scenario given  \n",
    "\n",
    "In the notes below, we will focus on how to accomplish STEPS 1-3 above using _R_.  \n",
    "\n",
    "**_Remember that to complete a hypothesis test, you should proceed to steps 4 and 5 after the p-value is found._**  \n",
    "\n",
    "### Creating the Model of the Null Hypothesis\n",
    "Recall our two 'families' of options for steps 2-3 (creating the model and finding the p-value):\n",
    "1. Use simulation/randomization to create an empirical model and find a p-value.\n",
    "2. Use a theoretical distribution to find a p-value. (There is sometimes more than one suitable theoretical distribution.)\n"
   ]
  },
  {
   "cell_type": "markdown",
   "id": "unavailable-publisher",
   "metadata": {},
   "source": [
    "### Example 1.  Guinea Pig Tooth Growth (Single Mean)\n",
    "\n",
    "Recall the 'ToothGrowth' data set available in R. The data set gives the length of cells responsible for tooth growth (\"odontoblasts\") in guinea pigs. We will work with a subset of the data to focus only on those guinea pigs who were given orange juice. We will assume that the average length of these cells among guinea pigs in general is 18.5 picometers (pm). Scientists treating guinea pigs with orange juice hypothesized that it would result in longer odontoblasts. Our hypothesis is about $\\mu$, the \"true\" mean odontoblast length of guinea pigs whose diet is supplemented with orange juice. (Remember, the parameter $\\mu$ represents the true mean across all guinea pigs who are given orange juice, not just those in the study.)  \n",
    "\n",
    "Hypotheses are as follows.\n",
    "<center>\n",
    "$H_{0}: \\mu = 18.5$  \n",
    "</center>\n",
    "<center>\n",
    "$H_{a}: \\mu > 18.5$\n",
    "</center>\n",
    "\n",
    "Below we restrict the data set to only those guinea pigs receiving orange juice."
   ]
  },
  {
   "cell_type": "code",
   "execution_count": null,
   "id": "different-powder",
   "metadata": {},
   "outputs": [],
   "source": [
    "#Have a look at format of data set\n",
    "head(ToothGrowth,3)\n",
    "\n",
    "#Reduce data set to contain only records with 'OJ' supplement\n",
    "OJ_only <- ToothGrowth[ToothGrowth$supp=='OJ',]\n",
    "head(OJ_only,3)\n",
    "\n",
    "#Get statistics for odontoblast length in this sample \n",
    "summary(OJ_only$len)\n"
   ]
  },
  {
   "cell_type": "markdown",
   "id": "round-directory",
   "metadata": {},
   "source": [
    "\n",
    "#### Our Sample \n",
    "We can see that the sample mean is $\\overline{x}=20.66$ \n",
    "\n",
    "The sample mean is greater than the overall population mean, but our hypothesis tests should help us decide if the difference we are seeing is _statistically significant_.\n",
    "\n",
    "#### Creating a Null Model\n",
    "To create a model of the null hypothesis, we need to model a _sampling distribution_ of sample means where sample size is the same as our sample (30) and the sampling distribution has the same mean as our null hypothesis; we also need our model sampling distribution to have a standard error that is as close as possible to $\\frac{\\sigma}{\\sqrt{n}}$ (where $\\sigma^{2}$ is the true population variance. We don't know the true population variance, so we must estimate it with the sample variance of our data; we use $s$ instead of $\\sigma$.\n",
    "\n",
    "#### Method 1 - Empirical p-value through simulation/randomization\n",
    "The process for simulating randomized samples for the null model described above is implemented in some statistical programs (such as StatKey), but we won't attempt to use R to re-create that process here. \n",
    "\n",
    "#### Method 2 - Theoretical Distribution\n",
    "This scenario is a candidate for the **1-sample t-test**. The _t_ distribution (also called \"_Student's t_\") is a family of distributions. The shape of a given _t_ distribution is governed by _degrees of freedom_, which is typically related to the size of the sample from which the _t_ statistic is calculated.  \n",
    "\n",
    "Below are the plots of a few _t_ distributions, along with the Standard Normal distribution for comparison.  The plots demonstrate that as the degrees of freedom increase, the _t_ distribution gets closer to a Normal distribution.  "
   ]
  },
  {
   "cell_type": "code",
   "execution_count": null,
   "id": "automotive-riverside",
   "metadata": {},
   "outputs": [],
   "source": [
    "#Create plot of 3 t distributions and Standard Normal distribution\n",
    "xvalues <- seq(-4,4,0.1)     # Generate x-values\n",
    "z <- dnorm(xvalues)          # Standard Normal y coordinates\n",
    "t1 <- dt(xvalues, df=1)      # t Distribution y coordinates for df=1, 3, and 10\n",
    "t3 <- dt(xvalues, df=3)\n",
    "t10 <- dt(xvalues, df=10)\n",
    "\n",
    "plot (xvalues,z, main=\"t Distributions and Standard Normal Curve\", ylab=\"Density\", xlab=\"Statistic (t or z)\", \n",
    "      type=\"l\", lwd=4, col=\"red\")\n",
    "lines(xvalues,t1, lty=2, lwd=4, col=\"grey\")\n",
    "lines(xvalues,t3, lty=3, lwd=3, col=\"blue\")\n",
    "lines(xvalues,t10, lty=4, lwd=3, col=\"darkgreen\")\n",
    "\n",
    "legend(\"topleft\", lty = c(2,3,4,1), legend = c('t, df=1','t, df=3', 't,df=10', 'Std Normal'), \n",
    "       lwd=c(4,3,3,4), col = c('grey','blue','darkgreen','red') )"
   ]
  },
  {
   "cell_type": "markdown",
   "id": "extended-lender",
   "metadata": {},
   "source": [
    "##### Conditions for the t-Test\n",
    "\n",
    "Below are the conditions for the t-test:\n",
    "1. Sampling distribution being modeled should be a **Normal distribution** (Note: this means either the underlying population distribution is close to normal **_or_** the sample size is large enough to compensate*. _Regardless of underlying distribution shape, we consider this condition met when sample size $n \\geq 40$._\n",
    "2. All observations in the sample should be independent.  \n",
    "\n",
    "*Due to the Central Limit Theorem, sample sizes of 40 and greater have sampling distributions sufficiently close to normal for the t-test to work well. Our sample size is 30, so we should examine the sample to check for any extreme outliers. A boxplot is sufficient for sample sizes of 15 or more. For even smaller sample sizes($n < 15$), a histogram would be appropriate to ensure no major departures from normality. We'll check our sample below with a boxplot."
   ]
  },
  {
   "cell_type": "code",
   "execution_count": null,
   "id": "understood-certificate",
   "metadata": {},
   "outputs": [],
   "source": [
    "boxplot(OJ_only$len, horizontal=TRUE)"
   ]
  },
  {
   "cell_type": "markdown",
   "id": "through-interference",
   "metadata": {},
   "source": [
    "Our sample of size 30 has no outliers and the skew is not terribly strong, so we can be confident that the normality condition is satisfied.\n",
    "\n",
    "#### Conducting 1-Sample t-test: Method 1 - Calculate t-statistic and Find Tail Area\n",
    "\n",
    "The t statistic is computed as follows:  \n",
    "\n",
    "<center>\n",
    "$t = \\frac {\\overline{x} - \\mu}{\\frac{s}{\\sqrt{n}}} $\n",
    "</center>\n",
    "\n",
    "where $\\mu$ refers to the mean specified in the _null hypothesis_.  \n",
    "\n",
    "The code below performs this calculation."
   ]
  },
  {
   "cell_type": "code",
   "execution_count": null,
   "id": "brown-calibration",
   "metadata": {},
   "outputs": [],
   "source": [
    "#Calculate t statistic\n",
    "\n",
    "null_mu <- 18.5\n",
    "xbar <- mean(OJ_only$len)\n",
    "s <- sd(OJ_only$len)\n",
    "n <- length(OJ_only$len)\n",
    "\n",
    "t <- (xbar - null_mu)/(s/sqrt(n))\n",
    "t"
   ]
  },
  {
   "cell_type": "markdown",
   "id": "blocked-hunger",
   "metadata": {},
   "source": [
    "Now that we have a t statistic, the p-value is found using the right tail of the appropriate t distribution.  The t distribution is governed by _degrees of freedom_.  For a 1-sample t-test, $df = n-1$.  In this example, $df=29$. We find the p-value below."
   ]
  },
  {
   "cell_type": "code",
   "execution_count": null,
   "id": "matched-compact",
   "metadata": {},
   "outputs": [],
   "source": [
    "#Determine right-tailed p-value for this sample.\n",
    "#Note we are using variables t and n from previous calculation\n",
    "\n",
    "pval <- pt(t, df=n-1, lower.tail = FALSE)\n",
    "cat(\"p-value: \", pval)"
   ]
  },
  {
   "cell_type": "markdown",
   "id": "current-devices",
   "metadata": {},
   "source": [
    "#### Conducting 1-Sample t-test: Method 2 \n",
    "R has a t.test function that will perform the t-test.  This is shown below."
   ]
  },
  {
   "cell_type": "code",
   "execution_count": null,
   "id": "executive-charlotte",
   "metadata": {},
   "outputs": [],
   "source": [
    "#Use R's t.test function\n",
    "# t.test(x, mu = 0, alternative = \"two.sided\")\n",
    "# x = vector of sample values\n",
    "# mu = null hypothesis mean (default is zero)\n",
    "# alternative = direction of alternative hypothesis (default is 2-tailed)\n",
    "\n",
    "t.test(OJ_only$len, mu = 18.5, alternative = \"greater\")"
   ]
  },
  {
   "cell_type": "markdown",
   "id": "everyday-compound",
   "metadata": {},
   "source": [
    "### Example 2. Guinea Pig Tooth Growth (Two Means)¶\n",
    "\n",
    "The full ToothGrowth data set includes data for two different treatments: Orange Juice (OJ) and a Vitamin C supplement (VC). We want to know if there is a significant **difference** between the true mean odontoblast length of guinea pigs receiving these two treatments.\n",
    "\n",
    "Hypotheses are as follows.\n",
    "<center>\n",
    "$H_{0}: \\mu_J = \\mu_V$  \n",
    "</center>\n",
    "<center>\n",
    "$H_{a}: \\mu_J \\neq \\mu_V$\n",
    "</center>\n",
    "\n",
    "First we gather our sample data:"
   ]
  },
  {
   "cell_type": "code",
   "execution_count": null,
   "id": "palestinian-lesson",
   "metadata": {},
   "outputs": [],
   "source": [
    "OJ_sampleData <- ToothGrowth[ToothGrowth$supp=='OJ',]$len\n",
    "VC_sampleData <- ToothGrowth[ToothGrowth$supp=='VC',]$len\n",
    "\n",
    "summary(OJ_sampleData)\n",
    "summary(VC_sampleData)\n",
    "\n",
    "sample_meanDiff <- mean(OJ_sampleData) - mean(VC_sampleData)\n",
    "sample_meanDiff"
   ]
  },
  {
   "cell_type": "markdown",
   "id": "angry-rescue",
   "metadata": {},
   "source": [
    "#### Method 1 - Empirical p-value through simulation/randomization\n",
    "This randomization is similar to the one we performed for the 2-proportion hypothesis test."
   ]
  },
  {
   "cell_type": "code",
   "execution_count": null,
   "id": "controversial-journalism",
   "metadata": {},
   "outputs": [],
   "source": [
    "#Mimic 2 treatment groups of size 30 being randomly selected from the 60 guinea pigs in the study\n",
    "random_groups <- sample(ToothGrowth$len,60,replace=FALSE)\n",
    "OJ_group <- random_groups[1:30]\n",
    "VC_group <- random_groups[31:60]\n",
    "\n",
    "#Find mean cell length for each group and then find difference between the means\n",
    "xbar_OJ <- mean(OJ_group)\n",
    "xbar_VC <- mean(VC_group)\n",
    "\n",
    "diff <- xbar_OJ - xbar_VC\n",
    "\n",
    "cat(\"OJ Group mean: \", xbar_OJ)\n",
    "cat(\"\\n\")  #new line\n",
    "cat(\"Vitamin C Group mean: \", xbar_VC)\n",
    "cat(\"\\n\")  \n",
    "cat(\"Difference in sample means: \",diff)\n"
   ]
  },
  {
   "cell_type": "code",
   "execution_count": null,
   "id": "unlimited-qualification",
   "metadata": {},
   "outputs": [],
   "source": [
    "#Repeat random sampling process many times \n",
    "num_trials <- 10000\n",
    "\n",
    "#This vector will hold the difference in means for each randomized assignment\n",
    "differences <- c()          \n",
    "\n",
    "#Create a model of the mean differences we would expect for a \n",
    "#                  random group assignment IF THE NULL HYPOTHESIS IS TRUE\n",
    "for (i in 1:num_trials){\n",
    "    random_groups <- sample(ToothGrowth$len,60,replace=FALSE)\n",
    "    OJ_group <- random_groups[1:30]\n",
    "    VC_group <- random_groups[31:60]\n",
    "    xbar_OJ <- mean(OJ_group)\n",
    "    xbar_VC <- mean(VC_group)\n",
    "    differences[i] <- xbar_OJ - xbar_VC\n",
    "}\n",
    "\n",
    "#Visualize our model\n",
    "hist(differences, main=\"Differences in Mean Odontoblast Length by Treatment (Null Model)\")"
   ]
  },
  {
   "cell_type": "code",
   "execution_count": null,
   "id": "patient-completion",
   "metadata": {},
   "outputs": [],
   "source": [
    "#Compute p-value from above empirical model\n",
    "\n",
    "cat(\"Finding mean differences at least as extreme as \", sample_meanDiff, \"...\\n\")\n",
    "\n",
    "emp_p <- sum(abs(differences)>=sample_meanDiff)/num_trials\n",
    "cat(\"Empirical p-value:\", emp_p)"
   ]
  },
  {
   "cell_type": "markdown",
   "id": "spare-profit",
   "metadata": {},
   "source": [
    "#### Method 2 - Theoretical Distribution\n",
    "\n",
    "#### 2-Sample t-test\n",
    "\n",
    "The conditions for a t-test still include the two we reviewed previously, plus a third condition:  \n",
    "\n",
    "1. Sampling distribution being modeled should be a Normal distribution. \n",
    "2. All observations in the sample should be independent.  \n",
    "3. Variance of sub-populations should be equal or very close to equal (_or the test should account for unequal variance_).\n",
    "\n",
    "##### Calculating the t Statistic\n",
    "There are 2 versions of the 2-sample t-statistic :  \n",
    "* Student's t-statistic: Assumes both populations have same variance and uses \"pooled\" variance ($s^{2}$) of both samples combined\n",
    "* Welch t-statistic: Computes t statistic with separate variances for each sample, $s_1^{2}$ and $s_2^{2}$\n",
    "\n",
    "Using $n_1$ and $n_2$ for the sample sizes of the two sample groups and $s_1$ and $s_2$ as the standard deviation of the two samples, the two t-statistics described above are computed as follows.  \n",
    "\n",
    "**Student's t-Statistic (\"Classical\" t-test):**  \n",
    "\n",
    "<center>\n",
    "$t=\\frac{\\overline{x}_1 - \\overline{x}_2}{\\sqrt{\\frac{s^{2}}{n_1} + \\frac{s^{2}}{n_2}}}$\n",
    "</center>\n",
    "\n",
    "where pooled variance $s^{2}$ is defined as  \n",
    "\n",
    "<center>\n",
    "$s^{2}=\\frac{(n_1-1)s_1^{2}+(n_2-1)s_2^{2}}{n_1 + n_2 - 2}$\n",
    "</center>\n",
    "\n",
    "The degrees of freedom for the classic t-test (pooled) are: \n",
    "<center>\n",
    "$df = n_1 + n_2 -2$\n",
    "</center>\n",
    "<br>\n",
    "\n",
    "**Welch t-Statistic:**  \n",
    "\n",
    "<center>\n",
    "$t=\\frac{\\overline{x}_1 - \\overline{x}_2}{\\sqrt{\\frac{s_1^{2}}{n_1} + \\frac{s_2^{2}}{n_2}}}$\n",
    "</center>\n",
    " \n",
    "\n",
    "The degrees of freedom for the Welch t-test (not pooled) are: \n",
    "\n",
    "&nbsp; &nbsp; &nbsp; &nbsp; &nbsp; &nbsp; &nbsp; &nbsp; &nbsp; &nbsp; &nbsp; &nbsp; &nbsp; &nbsp; &nbsp; &nbsp; &nbsp; &nbsp; &nbsp; &nbsp; &nbsp; &nbsp; &nbsp; &nbsp; **_df=_**  \n",
    "\n",
    "<center>   \n",
    "$\\underline { \\left ( \\frac{s_1^{2}}{n_1}+\\frac{s_2^{2}}{n_2} \\right )^{2} }$\n",
    "</center>\n",
    "\n",
    "<center>\n",
    "     $\\frac{(s_1^{2}/n_1)^{2}}{n_1-1} + \\frac{(s_2^{2}/n_2)^{2}}{n_2-1}$\n",
    "</center>\n",
    "<br>\n",
    "\n",
    "To decide which t-test to use, we can check the spread of each sub-group using the boxplots below."
   ]
  },
  {
   "cell_type": "code",
   "execution_count": null,
   "id": "normal-package",
   "metadata": {},
   "outputs": [],
   "source": [
    "#Examine distribution of sub-populations\n",
    "boxplot(ToothGrowth$len ~ ToothGrowth$supp, horizontal=TRUE)"
   ]
  },
  {
   "cell_type": "markdown",
   "id": "becoming-conflict",
   "metadata": {},
   "source": [
    "The boxplots suggest the two populations may not have the same variance.  If ever in doubt when planning a t-test, it is best to err on the side of caution and assume variances are NOT equal (choose unpooled option)."
   ]
  },
  {
   "cell_type": "code",
   "execution_count": null,
   "id": "least-phrase",
   "metadata": {},
   "outputs": [],
   "source": [
    "#Perform Welch's t-test\n",
    "xbar1 <- mean(OJ_sampleData)\n",
    "xbar2 <- mean(VC_sampleData)\n",
    "s1 <- sd(OJ_sampleData)\n",
    "s2 <- sd(VC_sampleData)\n",
    "n1 <- length(OJ_sampleData)\n",
    "n2 <- length(VC_sampleData)\n",
    "\n",
    "welch_t <- (xbar1 - xbar2)/sqrt(s1^2/n1 + s2^2/n2)\n",
    "cat(\"t statistic: \", welch_t)"
   ]
  },
  {
   "cell_type": "code",
   "execution_count": null,
   "id": "assumed-humanity",
   "metadata": {},
   "outputs": [],
   "source": [
    "#Find degrees of freedom\n",
    "welch_df <- ((s1^2/n1 + s2^2/n2)^2) / ( ((s1^2/n1)^2)/(n1-1) + ((s2^2/n2)^2)/(n2-1) )\n",
    "cat(\"Degrees of freedom: \", welch_df)"
   ]
  },
  {
   "cell_type": "code",
   "execution_count": null,
   "id": "electoral-personality",
   "metadata": {},
   "outputs": [],
   "source": [
    "#Visualize where our statistic falls on this t distribution\n",
    "\n",
    "xvalues <- seq(-4,4,0.1)     # Generate x-values\n",
    "tvalues <- dt(xvalues, df=welch_df)\n",
    "\n",
    "plot (xvalues,tvalues, main=\"t Distribution with df = 55.3\", ylab=\"Density\", xlab=\"t Statistic\", type=\"l\", lwd=4)\n",
    "abline(v=welch_t, col=\"red\", lty=2)"
   ]
  },
  {
   "cell_type": "code",
   "execution_count": null,
   "id": "twenty-astrology",
   "metadata": {},
   "outputs": [],
   "source": [
    "#Find 2-tailed p-value with above statistic and degrees of freedom\n",
    "#NOTES: \n",
    "#   1) positive t is in upper tail\n",
    "#   2) the upper tail p-value must be doubled for 2-tailed test\n",
    "\n",
    "p_val <- pt(welch_t, df=welch_df, lower=FALSE) * 2\n",
    "cat(\"p value: \", p_val)"
   ]
  },
  {
   "cell_type": "markdown",
   "id": "noted-country",
   "metadata": {},
   "source": [
    "#### t-Test Option B (packaged t-test in R)  \n",
    "\n",
    "The t.test function in R will perform Student's t-test if var.equal is set to TRUE, and it will perform Welch's t-test if var.equal is set to FALSE (the default).  \n",
    "\n",
    "We will use R's straightforward t.test below: "
   ]
  },
  {
   "cell_type": "code",
   "execution_count": null,
   "id": "difficult-genesis",
   "metadata": {},
   "outputs": [],
   "source": [
    "#2-Sample t-Test\n",
    "#t.test(x, y, alternative = \"two.sided\", var.equal = FALSE)\n",
    "\n",
    "t.test(OJ_sampleData, VC_sampleData, alternative = \"two.sided\", var.equal = FALSE)"
   ]
  },
  {
   "cell_type": "code",
   "execution_count": null,
   "id": "talented-award",
   "metadata": {},
   "outputs": [],
   "source": [
    "t.test(len ~ supp, data=ToothGrowth)"
   ]
  },
  {
   "cell_type": "markdown",
   "id": "hollywood-vermont",
   "metadata": {},
   "source": [
    "### Practice Exercise\n",
    "\n",
    "We will investigate features of the different species of iris represented in the `iris` data set."
   ]
  },
  {
   "cell_type": "code",
   "execution_count": null,
   "id": "powerful-kinase",
   "metadata": {},
   "outputs": [],
   "source": [
    "head(iris)\n",
    "summary(iris$Species)"
   ]
  },
  {
   "cell_type": "markdown",
   "id": "unlimited-chile",
   "metadata": {},
   "source": [
    "First let's examine the Petal.Length variable across the entire data set."
   ]
  },
  {
   "cell_type": "code",
   "execution_count": null,
   "id": "altered-neighborhood",
   "metadata": {},
   "outputs": [],
   "source": [
    "summary(iris$Petal.Length)"
   ]
  },
  {
   "cell_type": "markdown",
   "id": "metallic-nightmare",
   "metadata": {},
   "source": [
    "#### Examine the data\n",
    "\n",
    "1. How do the values of Petal.Length in the first 6 rows compare with the data summary shown?\n",
    "2. What clue(s) do you see in the first 6 rows of data that might explain any differences you see?\n",
    "3. In the cell below, create a boxplot of Petal.Length **_by Species_**. "
   ]
  },
  {
   "cell_type": "code",
   "execution_count": null,
   "id": "regional-classics",
   "metadata": {},
   "outputs": [],
   "source": []
  },
  {
   "cell_type": "markdown",
   "id": "identified-tracker",
   "metadata": {},
   "source": [
    "#### Follow up\n",
    "\n",
    "Does your plot give you reason to believe that one of the Species has different petal lengths than the others?  \n",
    "\n",
    "Notice that the t-test is only able to compare **two** groups.  Because we have 3 different species, the following command will not work.  (Try it and read the error message that results.)"
   ]
  },
  {
   "cell_type": "code",
   "execution_count": null,
   "id": "regulation-second",
   "metadata": {},
   "outputs": [],
   "source": [
    "t.test(iris$Petal.Length ~ iris$Species)"
   ]
  },
  {
   "cell_type": "markdown",
   "id": "criminal-advertising",
   "metadata": {},
   "source": [
    "##### A Simple Work-Around\n",
    "\n",
    "We need a variable that only has 2 values. We can easily create one as shown below.  It is a logical variable that we can set to TRUE when species is setosa, and FALSE for all others.\n"
   ]
  },
  {
   "cell_type": "code",
   "execution_count": null,
   "id": "recent-mission",
   "metadata": {},
   "outputs": [],
   "source": [
    "iris$Setosa <- (iris$Species==\"setosa\")\n",
    "head(iris)\n",
    "summary(iris$Setosa)"
   ]
  },
  {
   "cell_type": "markdown",
   "id": "enormous-architecture",
   "metadata": {},
   "source": [
    "Notice that the new variable has only 2 values, so it is suitable to use as the 'group' for a 2-sample test.\n",
    "\n",
    "\n",
    "#### Statistical Test\n",
    "\n",
    "In the code cell below, you will conduct a t-test to determine whether the average petal length of setosa is **significantly different from** the average petal length of other iris species.  Before you conduct the test, you should fill in the answers to the following. (Double-click this cell and type your answers below.)\n",
    "\n",
    "1. What are the **_parameters_** we are testing for?  Give symbols and state what they represent.\n",
    "\n",
    "\n",
    "\n",
    "2. Based on the question above, will this be a one-sided or a two-sided test?\n",
    "\n",
    "\n",
    "\n",
    "3. Based on the boxplot we created earlier, should we assume equal variance is TRUE or FALSE?\n",
    "\n",
    "\n",
    "\n",
    "4. State the null and alternative hypotheses.\n",
    "\n",
    "    $H_0:$\n",
    "\n",
    "    $H_a:$"
   ]
  },
  {
   "cell_type": "code",
   "execution_count": null,
   "id": "italic-empty",
   "metadata": {},
   "outputs": [],
   "source": [
    "# Conduct your t-test here\n"
   ]
  },
  {
   "cell_type": "markdown",
   "id": "greatest-canon",
   "metadata": {},
   "source": [
    "#### Interpret your results\n",
    "\n",
    "(Double-click and type your response in this cell.)"
   ]
  }
 ],
 "metadata": {
  "kernelspec": {
   "display_name": "R",
   "language": "R",
   "name": "ir"
  },
  "language_info": {
   "codemirror_mode": "r",
   "file_extension": ".r",
   "mimetype": "text/x-r-source",
   "name": "R",
   "pygments_lexer": "r",
   "version": "4.0.3"
  }
 },
 "nbformat": 4,
 "nbformat_minor": 5
}
