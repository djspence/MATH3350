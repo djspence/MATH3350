{
 "cells": [
  {
   "cell_type": "markdown",
   "id": "ranging-amplifier",
   "metadata": {},
   "source": [
    "# MATH 3350 Course Notes - Module S5 (Part II)\n",
    "\n",
    "## Matched Pairs versus Independent Samples\n",
    "\n",
    "\n",
    "First, we examine how comparing two independent samples is different than a matched pairs scenario.\n",
    "\n",
    "### Example 1. Base Running Strategies  \n",
    "Studies about baseball players' running strategies (e.g., Hollander and Wolfe, 1999) investigated whether taking a wide angle around first base was faster than taking a narrow angle.  A study had 22 runners run from home to second base once using each strategy (with randomized order and a rest between runs.)  Each runner was timed between two fixed points as they traveled around first base.  \n",
    "\n",
    "The data set contains each runner's time in seconds on both the 'narrow' and the 'wide' path. We have a look at the data set below."
   ]
  },
  {
   "cell_type": "code",
   "execution_count": null,
   "id": "different-powder",
   "metadata": {},
   "outputs": [],
   "source": [
    "#Runners' data for narrow and wide base-running path\n",
    "\n",
    "runners <- read.csv(\"BaseRunning.csv\")\n",
    "head(runners)\n",
    "\n",
    "summary(runners$narrow)\n",
    "summary(runners$wide)\n"
   ]
  },
  {
   "cell_type": "markdown",
   "id": "relative-fifteen",
   "metadata": {},
   "source": [
    "#### Independent Samples?\n",
    "Suppose we treat the narrow times and the wide times as two independent samples (they are NOT independent!) Then we might run a 2-sample t-test with these hypotheses:  \n",
    "\n",
    "Hypotheses are as follows.\n",
    "<center>\n",
    "$H_{0}: \\mu_N = \\mu_W$  \n",
    "</center>\n",
    "<center>\n",
    "$H_{a}: \\mu_N > \\mu_W$\n",
    "</center>\n",
    "\n",
    "(Notice that a _larger_ mean indicates a _slower_ average time.  The hypothesis is that the times to run the narrow path are longer, on average.)  \n",
    "\n",
    "A t-test is shown below for these hypotheses."
   ]
  },
  {
   "cell_type": "code",
   "execution_count": null,
   "id": "dominant-colombia",
   "metadata": {},
   "outputs": [],
   "source": [
    "#Treat base running data as 2 independent samples:\n",
    "#Independent Samples t-test (NOT ACTUALLY APPROPRIATE FOR THESE DATA)\n",
    "\n",
    "t.test(runners$narrow,runners$wide, alternative=\"greater\")"
   ]
  },
  {
   "cell_type": "markdown",
   "id": "primary-means",
   "metadata": {},
   "source": [
    "The test above has a non-significant result, suggesting no statistically significant difference the two mean running times.  \n",
    "\n",
    "#### Dependent Samples \n",
    "The narrow and wide path data are not independent.  One data point in each sample is related to a data point in the other sample because the two data points are times from the same runner. This scenario is known as **Matched Pairs**.    \n",
    "\n",
    "Instead of examining the times, we are really interested in _each runner's **time difference** between the two paths_.  \n",
    "\n",
    "Now our hypotheses are as follows:  \n",
    "\n",
    "<center>\n",
    "$H_{0}: \\mu_\\delta = 0$  \n",
    "</center>\n",
    "<center>\n",
    "$H_{a}: \\mu_\\delta > 0$\n",
    "</center>\n",
    "\n",
    "where $\\delta = Narrow - Wide$  \n",
    "\n",
    "Instead of hypothesizing about a difference between two mean running times, we are hypothesizing about a single mean difference in running times.  This turns the test back into a \"1 sample\" test, where the sample contains the difference in run time for each runner.  The matched pairs test is performed below."
   ]
  },
  {
   "cell_type": "code",
   "execution_count": null,
   "id": "plastic-georgia",
   "metadata": {},
   "outputs": [],
   "source": [
    "#Treat data as matched pairs (dependent samples)\n",
    "\n",
    "diffs <- runners$narrow - runners$wide\n",
    "t.test(diffs, alternative = \"greater\")"
   ]
  },
  {
   "cell_type": "code",
   "execution_count": null,
   "id": "posted-cycle",
   "metadata": {},
   "outputs": [],
   "source": [
    "#A second method for matched pairs in R\n",
    "t.test(runners$narrow,runners$wide, paired=TRUE, alternative=\"greater\")"
   ]
  },
  {
   "cell_type": "markdown",
   "id": "crude-reconstruction",
   "metadata": {},
   "source": [
    "This time, the test result is highly significant.  We have strong evidence that on average, runners clock faster times when they take the wide route.  \n",
    "\n",
    "#### Why did the results change so much?\n",
    "\n",
    "The matched pairs design is powerful because it reduces variability that results from the runners' individual speeds by focusing only on the differences. Look at the standard deviations of the run times, compared to the standard deviation of the time differences by route (narrow vs wide). "
   ]
  },
  {
   "cell_type": "code",
   "execution_count": null,
   "id": "assigned-integrity",
   "metadata": {},
   "outputs": [],
   "source": [
    "#Examine standard deviations of runners' times versus standard deviations of differences.\n",
    "sd(runners$narrow)\n",
    "sd(runners$wide)\n",
    "sd(diffs)"
   ]
  },
  {
   "cell_type": "markdown",
   "id": "extra-hudson",
   "metadata": {},
   "source": [
    "Most of the variability in the running times can be attributed to the differences _in runners' speeds_, not the path they ran.  By eliminating the variability of individual runners' speeds, the test allows us to focus on the remaining variability, which is easier to detect without all the \"noise\" in the original data.  \n",
    "\n",
    "#### Matched Pairs Designs\n",
    "The ability to control for individual differences makes the Matched Pairs design very powerful for certain types of studies.  Here are some examples:  \n",
    "* Pre-test and post-test designs: take a \"before\" and \"after\" measurement from each individual to determine the effect of some treatment\n",
    "* Taking data from each individual under two different conditions (e.g., attempting a task with music playing and without music playing)\n",
    "* Comparing skin reactions by applying different creams on each participant's left and right arm\n",
    "* Comparing some aspect of each participant's dominant and non-dominant hand (strength, speed, coordination, etc.)"
   ]
  },
  {
   "cell_type": "markdown",
   "id": "lonely-wallet",
   "metadata": {},
   "source": [
    "## Comparing Means of More than 2 Groups\n",
    "\n",
    "We will use the R dataset 'ChickWeight' which provides data from a study where newborn chicks were fed one of four different diets; their weights (in grams) were measured throughout the study, including at the end of the study. Below we see the format of the data set. "
   ]
  },
  {
   "cell_type": "code",
   "execution_count": null,
   "id": "labeled-spirituality",
   "metadata": {},
   "outputs": [],
   "source": [
    "head(ChickWeight)"
   ]
  },
  {
   "cell_type": "markdown",
   "id": "civilian-oakland",
   "metadata": {},
   "source": [
    "The Time variable tells the chick's age in days at the time a measurement was taken.  We are only interested in the chick weights at the end of the 3 week period, so we will create a smaller data set containing only those records where Time is 21 (days)."
   ]
  },
  {
   "cell_type": "code",
   "execution_count": null,
   "id": "extended-guest",
   "metadata": {},
   "outputs": [],
   "source": [
    "GrownChicks <- ChickWeight[ChickWeight$Time==21,]\n",
    "head(GrownChicks)"
   ]
  },
  {
   "cell_type": "markdown",
   "id": "patient-thing",
   "metadata": {},
   "source": [
    "We are interested in whether mean chick weight (in general, not just in this sample) may vary depending on the diet it is given. The box plots below provide exploratory analysis; the dotted vertical line shows the mean weight across the chicks in all 4 samples combined (the \"Grand Mean\")."
   ]
  },
  {
   "cell_type": "code",
   "execution_count": null,
   "id": "framed-arrow",
   "metadata": {},
   "outputs": [],
   "source": [
    "boxplot(GrownChicks$weight ~ GrownChicks$Diet, horizontal=TRUE, xlab=\"Chick Weight\", ylab=\"Diet\")\n",
    "abline(v=mean(GrownChicks$weight), lty=4, lwd=3, col=\"red\")\n",
    "legend(\"topleft\", lty=4, lwd=3, col=\"red\", legend = \"Grand Mean\")"
   ]
  },
  {
   "cell_type": "markdown",
   "id": "internal-jurisdiction",
   "metadata": {},
   "source": [
    "The plots give us reason to suspect that the differences in chick weights based on diet may be statistically significant (they reflect more than just random variation).  Because there are 4 groups, a t-test will not suffice.  \n",
    "\n",
    "### ANOVA: ANalysis Of VAriance \n",
    "\n",
    "The one-way ANOVA statistical test is used to detect whether ANY statistically significant difference exist among means of multiple groups.  The hypotheses for this test are formatted as follows:  \n",
    "\n",
    "<center>\n",
    "$H_{0}: \\mu_1 = \\mu_2 = ... = \\mu_k$  \n",
    "</center>\n",
    "<center>\n",
    "$H_{a}: $ At least one $\\mu_i$ is different\n",
    "</center>\n",
    "\n",
    "The test statistic for this test is calculated using the following **RATIO**:  \n",
    "\n",
    "<center>\n",
    "$\\frac{MSG}{MSE}$\n",
    "</center>\n",
    "\n",
    "where $MSG$ represents the mean square variation **_between_** groups, and $MSE$ represents the mean square error **_within_** all groups combined.  \n",
    "\n",
    "The distribution of possible values for this ratio is the **_F_** distribution (named for statistician Ronald Fischer).  The **_F_** distribution is defined using 2 values: a _numerator_ degrees of freedom (**df1**) and a _denominator_ degrees of freedom (**df2**).  These are defined as follows:  \n",
    "\n",
    "<center>\n",
    "$df1 = k - 1$  \n",
    "</center>\n",
    "<center>\n",
    "$df2 = N - k$\n",
    "</center>\n",
    "\n",
    "where $k$ represents the number of **_groups_** and $N$ represents the _total combined sample size_.  \n",
    "\n",
    "The $MSG$ and $MSE$ are calculated by dividing the associated _Sum of Squares_ (**SS**) by the corresponding degrees of freedom:  \n",
    "\n",
    "\n",
    "<center>\n",
    "$MSG = \\frac{SSG}{df1}$  \n",
    "</center>\n",
    "<center>\n",
    "$MSE = \\frac{SSE}{df2}$\n",
    "</center>\n",
    "\n",
    "The Sum of Squares values are computed as follows.\n",
    "\n",
    "##### TOTAL Sum of Squares (SST)\n",
    "\n",
    "<center>\n",
    "$SST = \\left [  \\sum_{1}^{N}{({x}_i - \\overline{X}_G)^{2}} \\right ] = SSG + SSE$\n",
    "</center> \n",
    "\n",
    "##### Sum of Squares BETWEEN Groups (SSG)\n",
    "<center>\n",
    "$SSG = \\sum_{1}^{k}{n_i(\\overline{x}_i - \\overline{X}_G)^{2}}$  \n",
    "</center>\n",
    "\n",
    "##### Sum  of Squares WITHIN Groups (SSE)\n",
    "<center>\n",
    "$SSE = SST - SSG$\n",
    "</center>  \n",
    "\n",
    "where $n_i$ and $\\overline{x}_i$ represent the sample size and mean of each _subgroup_, and $\\overline{X}_G$ represents the \"_grand mean_\" of the combined data set.  \n",
    "\n",
    "\n",
    "We show below how these values are computed for our sample. "
   ]
  },
  {
   "cell_type": "code",
   "execution_count": null,
   "id": "raising-interference",
   "metadata": {},
   "outputs": [],
   "source": [
    "#Start with overall statistics (all samples combined) and degrees of freedom\n",
    "k <- 4  #number of subgroups\n",
    "df1 <- k-1\n",
    "\n",
    "grandMean <- mean(GrownChicks$weight)\n",
    "groupSD <- sd(GrownChicks$weight)\n",
    "groupN <- length(GrownChicks$weight)\n",
    "df2 <- groupN - k\n",
    "\n",
    "cat(\"Sample size N =\", groupN, \"with k =\", k, \"subgroups\\n\")\n",
    "cat(\"Degrees of Freedom: \", df1, \"and\", df2, \"\\n\")\n",
    "cat(\"Whole group: mean =\", grandMean, \"sd =\", groupSD, \"N =\",groupN, \"\\n\")"
   ]
  },
  {
   "cell_type": "code",
   "execution_count": null,
   "id": "included-source",
   "metadata": {},
   "outputs": [],
   "source": [
    "#Get mean, standard deviation, and sample size of all subgroups\n",
    "m <- c()   #Vector of means\n",
    "s <- c()   #Vector of standard deviations\n",
    "n <- c()   #Vector of sample sizes\n",
    "\n",
    "m[1] <- mean(GrownChicks$weight[GrownChicks$Diet == 1])\n",
    "m[2] <- mean(GrownChicks$weight[GrownChicks$Diet == 2])\n",
    "m[3] <- mean(GrownChicks$weight[GrownChicks$Diet == 3])\n",
    "m[4] <- mean(GrownChicks$weight[GrownChicks$Diet == 4])\n",
    "\n",
    "s[1] <- sd(GrownChicks$weight[GrownChicks$Diet == 1])\n",
    "s[2] <- sd(GrownChicks$weight[GrownChicks$Diet == 2])\n",
    "s[3] <- sd(GrownChicks$weight[GrownChicks$Diet == 3])\n",
    "s[4] <- sd(GrownChicks$weight[GrownChicks$Diet == 4])\n",
    "\n",
    "n[1] <- length(GrownChicks$weight[GrownChicks$Diet == 1])\n",
    "n[2] <- length(GrownChicks$weight[GrownChicks$Diet == 2])\n",
    "n[3] <- length(GrownChicks$weight[GrownChicks$Diet == 3])\n",
    "n[4] <- length(GrownChicks$weight[GrownChicks$Diet == 4])\n",
    "\n",
    "cat(\"Subgroup means:\", m, \"\\n\")\n",
    "cat(\"Subgroup std deviations:\",s, \"\\n\")\n",
    "cat(\"Subgroup sample sizes:\",n, \"\\n\")\n"
   ]
  },
  {
   "cell_type": "markdown",
   "id": "acting-qatar",
   "metadata": {},
   "source": [
    "#### Conditions for ANOVA\n",
    "The conditions for ANOVA are essentially the same as those for the 2-sample t-test, but we have different rules of thumb checking these conditions:  \n",
    "\n",
    "##### 1. Normality: Sampling distributions should be close to normal. \n",
    "* Avoid conducting the ANOVA procedure when overall sample size is less than 20  \n",
    "\n",
    "##### 2. Independence: All observations in the sample should be independent.  \n",
    "\n",
    "##### 3. Homogeneity of Variance: Variance of sub-populations should be equal or close to equal.\n",
    "* Ensure that the ratio of largest to smallest subgroup standard deviation is LESS than 2:1\n",
    "* Ensure that the ration of largest to smallest subgroup sample size is LESS than 2:1  \n",
    "\n",
    "From the data above, we can see that: \n",
    "* Overall sample size is 45\n",
    "* Ratio of largest to smallest standard deviation = $78.1:43.3 \\approx 1.8:1$\n",
    "* Ratio of largest to smallest sample size = $16:9 \\approx 1.8:1$  \n",
    "\n",
    "Therefore, we will proceed with the test.\n",
    "\n",
    "#### Hypotheses\n",
    "\n",
    "<center>\n",
    "$H_{0}: \\mu_1 = \\mu_2 = \\mu_3 = \\mu_4$  \n",
    "</center>\n",
    "<center>\n",
    "$H_{a}: $ At least one $\\mu_i$ is different\n",
    "</center>  \n",
    "\n",
    "We calculate the test statistic below, using formulas given above."
   ]
  },
  {
   "cell_type": "code",
   "execution_count": null,
   "id": "organizational-distance",
   "metadata": {},
   "outputs": [],
   "source": [
    "#Calculate MSG, MSE, and F statistic\n",
    "\n",
    "SST <- sum((GrownChicks$weight - grandMean)^2)\n",
    "cat(\"Sum of Squares Total (SST):\", SST, \"\\n\")\n",
    "\n",
    "SSG <- 0\n",
    "for (i in 1 : 4)\n",
    "    SSG = SSG + n[i]*(m[i]-grandMean)^2\n",
    "\n",
    "cat(\"Between group Sum of Squares (SSG):\",SSG,\"\\n\")\n",
    "\n",
    "MSG <- SSG/df1\n",
    "cat (\"Mean Square variation between Groups (MSG):\", MSG,\"\\n\")\n",
    "\n",
    "SSE <- SST - SSG\n",
    "cat(\"Sum of Squared Error within groups (SSE):\", SSE, \"\\n\")\n",
    "\n",
    "MSE <- SSE/df2\n",
    "cat (\"Mean Square Error within groups (MSE):\", MSE,\"\\n\")\n",
    "\n",
    "F_stat <- MSG/MSE\n",
    "cat (\"F statistic: \", F_stat)"
   ]
  },
  {
   "cell_type": "code",
   "execution_count": null,
   "id": "romantic-cinema",
   "metadata": {},
   "outputs": [],
   "source": [
    "#Visualize where our statistic falls on this F distribution\n",
    "\n",
    "xvalues <- seq(0,5,0.05)     # Generate x-values\n",
    "Fvalues <- df(xvalues, df1=df1, df2=df2)\n",
    "\n",
    "title <- paste(\"F Distribution with df1=\",df1,\", df2=\",df2)\n",
    "plot (xvalues,Fvalues, main=title, ylab=\"Density\", xlab=\"F Statistic\", type=\"l\", lwd=4)\n",
    "abline(v=F_stat, col=\"red\", lty=2)"
   ]
  },
  {
   "cell_type": "code",
   "execution_count": null,
   "id": "collaborative-expert",
   "metadata": {},
   "outputs": [],
   "source": [
    "#Find p-value for above statistic with designated degrees of freedom\n",
    "#NOTE: p-value is always area in upper tail for F distribution\n",
    "\n",
    "p_val <- pf(F_stat, df1=df1, df2=df2, lower.tail=FALSE)\n",
    "cat(\"p value: \", p_val)"
   ]
  },
  {
   "cell_type": "markdown",
   "id": "educated-bacteria",
   "metadata": {},
   "source": [
    "#### Interpretation\n",
    "The p-value is very small, leading us to reject the null hypothesis and conclude that at least one of the diets will lead to a significantly different mean weight in newborn chicks. Followup studies would be needed to identify which diet(s) lead to significantly different weight(s).\n",
    "\n",
    "### ANOVA Using R's Packaged Functions\n",
    "**SURPRISE!!**  R has functions that will do the heavy lifting for you.  An example is shown below."
   ]
  },
  {
   "cell_type": "code",
   "execution_count": null,
   "id": "advisory-advisory",
   "metadata": {},
   "outputs": [],
   "source": [
    "#Conduct ANOVA using functions in R Library\n",
    "modelA <- lm(weight ~ Diet, data=GrownChicks)\n",
    "anova(modelA)"
   ]
  }
 ],
 "metadata": {
  "kernelspec": {
   "display_name": "R",
   "language": "R",
   "name": "ir"
  },
  "language_info": {
   "codemirror_mode": "r",
   "file_extension": ".r",
   "mimetype": "text/x-r-source",
   "name": "R",
   "pygments_lexer": "r",
   "version": "4.0.3"
  }
 },
 "nbformat": 4,
 "nbformat_minor": 5
}
