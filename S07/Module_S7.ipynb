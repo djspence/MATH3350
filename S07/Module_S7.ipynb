{
 "cells": [
  {
   "cell_type": "markdown",
   "id": "middle-worker",
   "metadata": {},
   "source": [
    "# MATH 3350 Course Notes - Module S7\n",
    "\n",
    "## Type I & Type II Errors\n",
    "\n",
    "Statistical conclusions are based on _probability_ and _strength of evidence_.  For instance, a p-value of 0.06 will be considered significant at $\\alpha = 0.1$ but not at $\\alpha = 0.05$, leading to different conclusions depending on the strength of evidence required.  \n",
    "\n",
    "The table below shows the four possible outcomes of a statistical test.\n",
    "\n",
    "<span style=\"color:blue\">Decision</span> | $H_0$ is TRUE | $H_0$ is FALSE\n",
    "---------|---------------|---------------\n",
    "<span style=\"color:blue\">Reject $H_0$</span> |**<span style=\"color:red\">NOT INTENDED</span>** | **<span style=\"color:green\">Desired Outcome</span>**\n",
    "<span style=\"color:blue\">Fail to reject $H_0$</span> | **<span style=\"color:green\">Desired Outcome</span>** | **<span style=\"color:red\">NOT INTENDED</span>**\n",
    "\n",
    "Outcomes that are not intended are called \"Errors\", not because the test was conducted or interpreted incorrectly, but because the inherent uncertainty of probability will sometimes lead to the wrong conclusion, even when the procedure is followed correctly.  These errors are called Type I and Type II Errors, as identified below.  \n",
    "\n",
    "<span style=\"color:blue\">Decision</span> | $H_0$ is TRUE | $H_0$ is FALSE\n",
    "---------|---------------|---------------\n",
    "<span style=\"color:blue\">Reject $H_0$</span> |**<span style=\"color:red\">Type I Error</span>** | \n",
    "<span style=\"color:blue\">Fail to reject $H_0$</span> |  | **<span style=\"color:red\">Type II Error</span>**\n",
    "\n",
    "We reject $H_0$ when $p < \\alpha$ because $p$ represents the probability that a result as extreme as our sample could occur _when the null hypothesis is true_.  Therefore, $\\alpha$ represents the probability that we could obtain such a sample and reject $H_0$ even though $H_0$ is actually true.  This means $\\alpha$ is the probability of a Type I Error.  \n",
    "\n",
    "We use $\\beta$ to represent the probability of a Type II Error.  When $H_0$ is true, the possible outcomes have probabilities $\\alpha$ and its complement, $1-\\alpha$. When $H_0$ is false, the possible outcomes have probabilities $\\beta$ and its complement, $1-\\beta$.  These probabilities are given in the table below.  \n",
    "\n",
    "| PROBABILITIES |\n",
    "|---------------|\n",
    "\n",
    "<span style=\"color:blue\">Decision</span> | $H_0$ is TRUE | $H_0$ is FALSE\n",
    "---------|---------------|---------------\n",
    "<span style=\"color:blue\">Reject $H_0$</span> |**<span style=\"color:red\">$\\alpha$</span>** | **<span style=\"color:green\">$1-\\beta$</span>**\n",
    "<span style=\"color:blue\">Fail to reject $H_0$</span> | **<span style=\"color:green\">$1-\\alpha$</span>** | **<span style=\"color:red\">$\\beta$</span>**\n",
    "\n",
    "### Selecting $\\alpha$\n",
    "\n",
    "The value we select for $\\alpha$ governs how likely we are to reject $H_0$.  The following table identifies several consequences of lowering or raising $\\alpha$ values.\n",
    "\n",
    "DECREASE $\\alpha$ values | INCREASE $\\alpha$ values\n",
    "----------------------|-----------------------\n",
    "Harder to reject $H_0$ | Easier to reject $H_0$\n",
    "Type I Error less likely | Type I Error more likely\n",
    "Type II Error more likely | Type II Error less likely\n",
    "$\\beta$ _increases_ | $\\beta$ _decreases_\n"
   ]
  },
  {
   "cell_type": "markdown",
   "id": "suspected-student",
   "metadata": {},
   "source": [
    "## Power of a Statistical Test\n",
    "\n",
    "Power of a test refers to the likelihood that if the null hypothesis is false, that the test will result in correctly rejecting $H_0$.  \n",
    "\n",
    "As we can see in the probabilities given above:\n",
    "\n",
    "<center>\n",
    "POWER = $1-\\beta$\n",
    "</center>\n",
    "\n",
    "The following table gives historically accepted thresholds for power, as established by Cohen (1969). \n",
    "    \n",
    "Power | Rating\n",
    "------|--------\n",
    "0.6 | Poor\n",
    "0.7 | Adequate\n",
    "0.8 | Good\n",
    "0.9 | Excellent\n",
    "\n",
    "However, recent researchers (_e.g., Correll et al., 2020_) have suggested that fixed levels for power are arbitrary and not meaningful, and that the desired power chosen should be contextual (as the choice for $\\alpha$ is contextual).\n",
    "\n",
    "\n",
    "### Effect Size \n",
    "The calculation of power depends on an important construct known as **_effect size_**, most commonly defined by Cohen's $d$.  In general, if we calculate the gap (or \"gain\" in some contexts) $G$ between the sample statistic and the null hypothesis, Cohen's $d$ is computed as:\n",
    "\n",
    "<center>\n",
    "$d=\\frac{G}{s}$\n",
    "</center>\n",
    "    \n",
    "where s represents the standard deviation of the sample (pooled in 2-sample scenarios). \n",
    "\n",
    "Again, Cohen proposed the following thresholds for effect size. These thresholds are still treated as convention.\n",
    "\n",
    "$d$ | Effect Size \n",
    "------|--------\n",
    "0.2 | Small\n",
    "0.5 | Medium\n",
    "0.8 | Large\n",
    "\n",
    "\n",
    "#### Example 1. Pre-Test and Post-Test Scores\n",
    "Suppose a teacher gives students a pre-test before a lesson and a post-test after the lesson. A hypothesis test to determine the average learning gains associated with this lesson would be a **_matched pairs_** scenario with these hypotheses:\n",
    "\n",
    "<center>\n",
    "$H_{0}: \\mu_\\delta = 0$  \n",
    "</center>\n",
    "<center>\n",
    "$H_{a}: \\mu_\\delta > 0$\n",
    "</center>\n",
    "\n",
    "where $\\delta = post - pre$ \n",
    "\n",
    "Suppose our sample resulted in the following statistics:\n",
    "\n",
    "Sample statistic | Value\n",
    "---------------|-----\n",
    "$\\overline{x}_\\delta$ | 12.4\n",
    "$s_\\delta$ | 10.7\n",
    "\n",
    "This would result in the following effect size:\n",
    "\n",
    "<center>\n",
    "$d=\\frac{12.4}{10.7} \\approx 1.16 $\n",
    "</center>\n",
    "\n"
   ]
  },
  {
   "cell_type": "markdown",
   "id": "directed-current",
   "metadata": {},
   "source": [
    "\n",
    "The following 4 values are all part of the equation when conducting a power analysis:\n",
    "* Sample size\n",
    "* Significance level\n",
    "* Effect size\n",
    "* Power\n",
    "\n",
    "R has a library \"pwr\" that will conduct analyses by providing any one of the above variables if the other 3 are given.\n",
    "\n",
    "#### Example 2. Car Speeds (2 Independent Samples)\n",
    "We will illustrate with the mtcars data set, comparing the quarter-mile time between manual and automatic vehicles."
   ]
  },
  {
   "cell_type": "code",
   "execution_count": null,
   "id": "bronze-composition",
   "metadata": {},
   "outputs": [],
   "source": [
    "# Examine quarter mile time in seconds (qsec) by transmission type\n",
    "boxplot(qsec~am, data=mtcars, horizontal=TRUE)\n"
   ]
  },
  {
   "cell_type": "code",
   "execution_count": null,
   "id": "legendary-department",
   "metadata": {},
   "outputs": [],
   "source": [
    "#Examine spread of each group and spread overall\n",
    "sd(mtcars$qsec[mtcars$am==0])\n",
    "sd(mtcars$qsec[mtcars$am==1])\n",
    "sd(mtcars$qsec)"
   ]
  },
  {
   "cell_type": "code",
   "execution_count": null,
   "id": "aggressive-taste",
   "metadata": {},
   "outputs": [],
   "source": [
    "#Compare Student and Welch t-test results\n",
    "t.test(qsec ~ factor(am), data=mtcars, var.equal=TRUE)\n",
    "t.test(qsec ~ factor(am), data=mtcars)\n"
   ]
  },
  {
   "cell_type": "markdown",
   "id": "automatic-dance",
   "metadata": {},
   "source": [
    "We have established that pooled variance is reasonable in this scenario, which will make effect size more straightforward to compute."
   ]
  },
  {
   "cell_type": "code",
   "execution_count": null,
   "id": "exotic-vegetable",
   "metadata": {},
   "outputs": [],
   "source": [
    "# Run t test and store the results for future reference\n",
    "tt <- t.test(qsec ~ factor(am), data=mtcars, var.equal=TRUE)\n",
    "\n",
    "# View summary of the t.test object we just created (we named the result tt)\n",
    "tt\n",
    "\n"
   ]
  },
  {
   "cell_type": "code",
   "execution_count": null,
   "id": "persistent-litigation",
   "metadata": {},
   "outputs": [],
   "source": [
    "# Show elements of the t.test object called tt\n",
    "str(tt)"
   ]
  },
  {
   "cell_type": "markdown",
   "id": "atmospheric-ceremony",
   "metadata": {},
   "source": [
    "First, we will load the 'pwr' package.  You *may* need to install it first; if so, temporarily un-comment the 'install' line."
   ]
  },
  {
   "cell_type": "code",
   "execution_count": null,
   "id": "destroyed-tanzania",
   "metadata": {},
   "outputs": [],
   "source": [
    "#install.packages(\"pwr\")   #Run this command AT MOST one time, IF command below fails to load \"pwr\" package\n",
    "library (pwr)"
   ]
  },
  {
   "cell_type": "markdown",
   "id": "periodic-prophet",
   "metadata": {},
   "source": [
    "Below we collect the information needed for a power analysis and use _**pwr**_ to determine the power of the t-test we have been looking at. Remember that the power is the probability of rejecting $H_0$ if it should be rejected."
   ]
  },
  {
   "cell_type": "code",
   "execution_count": null,
   "id": "minute-seventh",
   "metadata": {},
   "outputs": [],
   "source": [
    "n1 <- length(mtcars$qsec[mtcars$am==0])\n",
    "n2 <- length(mtcars$qsec[mtcars$am==1])\n",
    "cat(\"Sample sizes: \", n1, n2, \"\\n\")\n",
    "\n",
    "diff <- tt$est[1] - tt$est[2]\n",
    "cat(\"Difference in Means: \", diff, \"\\n\")\n",
    "\n",
    "effect <- diff/sd(mtcars$qsec)\n",
    "cat(\"Effect size: \", effect, \"\\n\")\n",
    "\n",
    "#pwr.t2n.test(n1, n2, d, sig.level = 0.05, power, alternative = \"two.sided\") \n",
    "# n1, n2: sizes of samples\n",
    "# d: effect size (Cohen's d)\n",
    "# sig.level: significance level (default 0.05)\n",
    "# alternative: direction of Ha (less, greater, or two.sided; default is two.sided)\n",
    "pwr.t2n.test(n1 = n1, n2 = n2, d = effect)"
   ]
  },
  {
   "cell_type": "markdown",
   "id": "enormous-trail",
   "metadata": {},
   "source": [
    "Below are some additional ways to use the **_pwr_** function."
   ]
  },
  {
   "cell_type": "code",
   "execution_count": null,
   "id": "eight-treat",
   "metadata": {},
   "outputs": [],
   "source": [
    "#How large should samples be to detect an effect size this large?\n",
    "\n",
    "#pwr.t.test(n, d, sig.level = 0.05, power, type, alternative = \"two.sided\")\n",
    "# n: size of EACH sample (assumes equal sample sizes for 2-sample tests)\n",
    "# d: effect size (Cohen's d)\n",
    "# sig.level: significance level (default 0.05)\n",
    "# type: type of test (one.sample, two.sample, or paired)\n",
    "# alternative: direction of Ha (less, greater, or two.sided; default is two.sided)\n",
    "\n",
    "#Target: power of 0.7 (Looking for sample size)\n",
    "pwr.t.test(d=effect, power=0.7, type=\"two.sample\")"
   ]
  },
  {
   "cell_type": "code",
   "execution_count": null,
   "id": "criminal-briefing",
   "metadata": {},
   "outputs": [],
   "source": [
    "#Target: power of 0.8 (Looking for sample size)\n",
    "pwr.t.test(d=effect, power=0.8, type=\"two.sample\")"
   ]
  },
  {
   "cell_type": "code",
   "execution_count": null,
   "id": "abroad-productivity",
   "metadata": {},
   "outputs": [],
   "source": [
    "#Target: power of 0.8 at significance level of 0.01 (Looking for sample size)\n",
    "pwr.t.test(d=effect, sig.level = 0.01, power=0.8, type=\"two.sample\")"
   ]
  },
  {
   "cell_type": "code",
   "execution_count": null,
   "id": "considered-cornwall",
   "metadata": {},
   "outputs": [],
   "source": [
    "#Target: power of 0.8 with sample size of 100 (Looking for significance level)\n",
    "pwr.t.test(n=100, d=effect, sig.level=NULL, power=0.8, type=\"two.sample\")"
   ]
  },
  {
   "cell_type": "code",
   "execution_count": null,
   "id": "moderate-fireplace",
   "metadata": {},
   "outputs": [],
   "source": [
    "#Target: power of 0.8 with sample size of 50 and significance level 0.01 (Looking for effect size needed)\n",
    "pwr.t.test(n=50, sig.level=0.01, power=0.8, type=\"two.sample\")"
   ]
  }
 ],
 "metadata": {
  "kernelspec": {
   "display_name": "R",
   "language": "R",
   "name": "ir"
  },
  "language_info": {
   "codemirror_mode": "r",
   "file_extension": ".r",
   "mimetype": "text/x-r-source",
   "name": "R",
   "pygments_lexer": "r",
   "version": "4.0.3"
  }
 },
 "nbformat": 4,
 "nbformat_minor": 5
}
