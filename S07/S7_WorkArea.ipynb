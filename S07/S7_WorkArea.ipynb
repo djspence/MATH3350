{
 "cells": [
  {
   "cell_type": "markdown",
   "id": "middle-worker",
   "metadata": {},
   "source": [
    "# MATH 3350 Module S10 Quiz Work Area\n",
    "\n",
    "\n",
    "<span style=\"color:red\">You are <b>NOT REQUIRED</b> to submit this file.</span> It is only provided to give you a workspace to use for power analysis calculations.\n",
    "\n",
    "### Installing pwr Package\n",
    "Run the cell below before you get started. If the pwr library fails to load, **UN-COMMENT** the top line and run the cell again.\n"
   ]
  },
  {
   "cell_type": "code",
   "execution_count": null,
   "id": "minute-seventh",
   "metadata": {},
   "outputs": [],
   "source": [
    "#install.packages(\"pwr\")   \n",
    "library (pwr)"
   ]
  },
  {
   "cell_type": "markdown",
   "id": "ecological-socket",
   "metadata": {},
   "source": [
    "### Work Area\n",
    "Once the cell above runs without error, use the code cell(s) below for any R commands you need to execute. "
   ]
  },
  {
   "cell_type": "code",
   "execution_count": null,
   "id": "criminal-briefing",
   "metadata": {},
   "outputs": [],
   "source": []
  },
  {
   "cell_type": "code",
   "execution_count": null,
   "id": "laden-slide",
   "metadata": {},
   "outputs": [],
   "source": []
  },
  {
   "cell_type": "code",
   "execution_count": null,
   "id": "gross-threshold",
   "metadata": {},
   "outputs": [],
   "source": []
  }
 ],
 "metadata": {
  "kernelspec": {
   "display_name": "R",
   "language": "R",
   "name": "ir"
  },
  "language_info": {
   "codemirror_mode": "r",
   "file_extension": ".r",
   "mimetype": "text/x-r-source",
   "name": "R",
   "pygments_lexer": "r",
   "version": "4.0.3"
  }
 },
 "nbformat": 4,
 "nbformat_minor": 5
}
