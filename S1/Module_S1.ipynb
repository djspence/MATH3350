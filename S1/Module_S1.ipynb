{
 "cells": [
  {
   "cell_type": "markdown",
   "id": "ranging-amplifier",
   "metadata": {},
   "source": [
    "# MATH 3350 Course Notes - Module S1\n",
    "# Exploratory Data Analysis: The Basics\n",
    "\n",
    "R has several built-in data sets that can be used to explore and demonstrate different concepts.  \n",
    "\n",
    "We'll examine one below.\n"
   ]
  },
  {
   "cell_type": "code",
   "execution_count": null,
   "id": "after-henry",
   "metadata": {},
   "outputs": [],
   "source": [
    "head(ToothGrowth)   # See the first few rows of ToothGrowth data set\n",
    "?ToothGrowth        # Bring up R documentation that explains this data set"
   ]
  },
  {
   "cell_type": "markdown",
   "id": "atlantic-uncle",
   "metadata": {},
   "source": [
    "## What to explore...\n",
    "### 1. Types of Variables\n",
    "Quantitative vs. Categorical  \n",
    "_Note: In R, categorical variables are called 'factors'_  \n"
   ]
  },
  {
   "cell_type": "markdown",
   "id": "facial-patent",
   "metadata": {},
   "source": [
    "\n",
    "### 2. Size of Data Set\n",
    "How many rows?  How many columns?"
   ]
  },
  {
   "cell_type": "code",
   "execution_count": null,
   "id": "associate-elevation",
   "metadata": {},
   "outputs": [],
   "source": [
    "nrow(ToothGrowth)\n",
    "ncol(ToothGrowth)"
   ]
  },
  {
   "cell_type": "markdown",
   "id": "compliant-anxiety",
   "metadata": {},
   "source": [
    "### 3. Variable Summaries\n",
    "\n",
    "The type of summary will depend on the type of variable"
   ]
  },
  {
   "cell_type": "code",
   "execution_count": null,
   "id": "decimal-prime",
   "metadata": {},
   "outputs": [],
   "source": [
    "summary(ToothGrowth$len)"
   ]
  },
  {
   "cell_type": "code",
   "execution_count": null,
   "id": "catholic-provider",
   "metadata": {},
   "outputs": [],
   "source": [
    "summary(ToothGrowth$supp)"
   ]
  },
  {
   "cell_type": "code",
   "execution_count": null,
   "id": "binary-coordination",
   "metadata": {},
   "outputs": [],
   "source": [
    "summary(ToothGrowth$dose)"
   ]
  },
  {
   "cell_type": "markdown",
   "id": "crazy-silver",
   "metadata": {},
   "source": [
    "#### Let's examine a different data set\n",
    "What type of variables do you see?"
   ]
  },
  {
   "cell_type": "code",
   "execution_count": null,
   "id": "thick-cathedral",
   "metadata": {},
   "outputs": [],
   "source": [
    "head(mtcars)\n",
    "?mtcars"
   ]
  },
  {
   "cell_type": "markdown",
   "id": "selected-classification",
   "metadata": {},
   "source": [
    "Notice that variables vs and am have data type 'double' but the documentation describes them as categorical variables."
   ]
  },
  {
   "cell_type": "code",
   "execution_count": null,
   "id": "close-disposition",
   "metadata": {},
   "outputs": [],
   "source": [
    "summary(mtcars$am)"
   ]
  },
  {
   "cell_type": "code",
   "execution_count": null,
   "id": "accomplished-grade",
   "metadata": {},
   "outputs": [],
   "source": [
    "summary(as.factor(mtcars$am))"
   ]
  },
  {
   "cell_type": "markdown",
   "id": "sticky-reality",
   "metadata": {},
   "source": [
    "### Numeric Descriptions of a Quantitative Variable\n",
    "* 5-number summary\n",
    "* Mean and standard deviation"
   ]
  },
  {
   "cell_type": "code",
   "execution_count": null,
   "id": "banner-architect",
   "metadata": {},
   "outputs": [],
   "source": [
    "summary(mtcars$wt)\n",
    "mean(mtcars$wt)\n",
    "sd(mtcars$wt)"
   ]
  },
  {
   "cell_type": "markdown",
   "id": "offshore-voice",
   "metadata": {},
   "source": [
    "#### Important Distinction: Population Parameters vs. Sample Statistics\n",
    "\n",
    "These data are for a particular group of cars; the mean and standard deviation above are _sample statistics_, which are sometimes used as **_estimates_** of population parameters. The true values of population parameters are often unknown.\n",
    "\n",
    "### Describing the Distribution of a Quantitative Variable\n",
    "* Shape: Symmetry or Skew\n",
    "* Shape: Uniform, Peaks - unimodal, bimodal, others\n",
    "* Center: Mean and Median\n",
    "* Spread: Range, IQR, standard deviation\n",
    "* Outliers"
   ]
  },
  {
   "cell_type": "code",
   "execution_count": null,
   "id": "described-mirror",
   "metadata": {},
   "outputs": [],
   "source": [
    "# Try this histogram with different numbers of breaks (use break=)\n",
    "\n",
    "hist(mtcars$wt, main=\"Distribution of Car Weights (1000 lbs)\")\n"
   ]
  },
  {
   "cell_type": "markdown",
   "id": "final-mississippi",
   "metadata": {},
   "source": [
    "### Box plots"
   ]
  },
  {
   "cell_type": "code",
   "execution_count": null,
   "id": "standard-reaction",
   "metadata": {},
   "outputs": [],
   "source": [
    "boxplot(mtcars$wt, main=\"Car Weights (1000 lbs)\")"
   ]
  },
  {
   "cell_type": "markdown",
   "id": "collectible-processing",
   "metadata": {},
   "source": [
    "By default, box plots in R are vertical. It can often be useful to display them horizontally."
   ]
  },
  {
   "cell_type": "code",
   "execution_count": null,
   "id": "organizational-baseline",
   "metadata": {},
   "outputs": [],
   "source": [
    "boxplot(mtcars$wt, main=\"Car Weights (1000 lbs)\", horizontal=TRUE)"
   ]
  },
  {
   "cell_type": "markdown",
   "id": "subject-tuition",
   "metadata": {},
   "source": [
    "### What you can (and cannot) learn from a boxplot\n",
    "A box plot is a visual representation of the 5-number summary.  It does not show the mean or standard deviation.\n",
    "\n",
    "#### Outliers\n",
    "Box plots can show outliers, as the plot above does (see points to the right of the plot.)  \n",
    "\n",
    "We can also verify mathematically whether the data set contains outliers, using the 1.5 IQR rule (also called 'fencing').\n",
    "\n",
    "### Stacking box plots\n",
    "\n",
    "Box plots are useful for comparing how a variable is distributed when grouped by another variable."
   ]
  },
  {
   "cell_type": "code",
   "execution_count": null,
   "id": "printable-prague",
   "metadata": {},
   "outputs": [],
   "source": [
    "boxplot(mtcars$wt ~ mtcars$am, main=\"Car Weights by Transmission Type\", \n",
    "        xlab=\"Weight (1000 lbs)\", ylab=\"Transmission: Automatic(0) or Manual(1)\", \n",
    "        horizontal=TRUE)\n"
   ]
  },
  {
   "cell_type": "markdown",
   "id": "surgical-designation",
   "metadata": {},
   "source": [
    "### Density Plot\n",
    "The distribution can also be viewed as a density plot."
   ]
  },
  {
   "cell_type": "code",
   "execution_count": null,
   "id": "unusual-butter",
   "metadata": {},
   "outputs": [],
   "source": [
    "plot(density(mtcars$wt), main=\"Density Plot of Car Weights\", xlab=\"Weight (1000 lbs)\")"
   ]
  },
  {
   "cell_type": "markdown",
   "id": "prescription-fossil",
   "metadata": {},
   "source": [
    "### Scatter Plot of 2 Quantitative Variables\n",
    "A scatter plot can help visualize possible relationships between 2 quantitative variables.  "
   ]
  },
  {
   "cell_type": "code",
   "execution_count": null,
   "id": "twelve-active",
   "metadata": {},
   "outputs": [],
   "source": [
    "plot(mtcars$wt,mtcars$mpg,main=\"Mileage vs Car Weight\", xlab=\"Weight (1000 lbs)\", ylab=\"Miles per Gallon\")"
   ]
  },
  {
   "cell_type": "markdown",
   "id": "coated-morocco",
   "metadata": {},
   "source": [
    "Again, a third variable may be part of any relationship that exists. We can visualize that by grouping."
   ]
  },
  {
   "cell_type": "code",
   "execution_count": null,
   "id": "responsible-identification",
   "metadata": {},
   "outputs": [],
   "source": [
    "plot(mtcars$wt,mtcars$mpg,col=factor(mtcars$am),main=\"Mileage vs Car Weight by Transmission Type\", \n",
    "     xlab=\"Weight (1000 lbs)\", ylab=\"Miles per Gallon\", pch=mtcars$am+1)\n",
    "\n",
    "# Add legend to plot\n",
    "legend(\"topright\", pch = c(1,2), legend = c('Automatic','Manual'), col = factor(levels(factor(mtcars$am))))"
   ]
  }
 ],
 "metadata": {
  "kernelspec": {
   "display_name": "R",
   "language": "R",
   "name": "ir"
  },
  "language_info": {
   "codemirror_mode": "r",
   "file_extension": ".r",
   "mimetype": "text/x-r-source",
   "name": "R",
   "pygments_lexer": "r",
   "version": "4.0.3"
  }
 },
 "nbformat": 4,
 "nbformat_minor": 5
}
