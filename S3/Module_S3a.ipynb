{
 "cells": [
  {
   "cell_type": "markdown",
   "id": "ranging-amplifier",
   "metadata": {},
   "source": [
    "# MATH 3350 Course Notes - Module S3\n",
    "\n",
    "## The Normal Distribution\n",
    "\n",
    "A Normal distribution with mean $ \\mu $ and standard deviation $ \\sigma $ is denoted by $ N(\\mu , \\sigma)$  \n",
    "\n",
    "$ f(x) = \\frac{1}{\\sigma\\sqrt{2\\pi}}e^{\\left ( -\\frac{x-\\mu}{\\sigma}\\right )^2}$\n",
    "\n",
    "The distribution is centered at $ \\mu $ and the spread of the distribution is proportional to $ \\sigma $.\n",
    " "
   ]
  },
  {
   "cell_type": "markdown",
   "id": "unavailable-publisher",
   "metadata": {},
   "source": [
    "#### ACT Scores are approximately normally distributed $ N(21,6) $"
   ]
  },
  {
   "cell_type": "code",
   "execution_count": null,
   "id": "different-powder",
   "metadata": {},
   "outputs": [],
   "source": [
    "mu <- 21\n",
    "sigma <- 6\n",
    "x <- seq(mu-3*sigma, mu+3*sigma,length.out = 100) # empirical rule 3 sigma rule\n",
    "d <- dnorm(x, mean = mu, sd = sigma)\n",
    "# \n",
    "plot(x,d, ylab = \"density\", type = 'l')\n",
    "title('Distribution of ACT Scores', xlab = 'Score')"
   ]
  },
  {
   "cell_type": "markdown",
   "id": "spare-profit",
   "metadata": {},
   "source": [
    "#### If you scored a 27 on the ACT, what is your percentile ? (what percentage of scores are at or below your score?)\n"
   ]
  },
  {
   "cell_type": "code",
   "execution_count": null,
   "id": "difficult-genesis",
   "metadata": {},
   "outputs": [],
   "source": [
    "100*pnorm(27,21,6)   # pnorm(score, mu, sigma)\n"
   ]
  },
  {
   "cell_type": "markdown",
   "id": "objective-insight",
   "metadata": {},
   "source": [
    "#### SAT scores are approximately normally distributed $ N(1060 , 217) $\n",
    "#### If you are at the 70th percentile on the SAT, what is your score?"
   ]
  },
  {
   "cell_type": "code",
   "execution_count": null,
   "id": "roman-estonia",
   "metadata": {},
   "outputs": [],
   "source": [
    "SAT_mu <- 1060\n",
    "SAT_sigma <- 217\n",
    "\n",
    "round(qnorm(.70, mean = SAT_mu,  sd = SAT_sigma))"
   ]
  },
  {
   "cell_type": "markdown",
   "id": "under-editing",
   "metadata": {},
   "source": [
    "#### Comparing Scores\n",
    "\n",
    "Which is the better score?  A 27 on the ACT -- $ N(21 , 6) $\n",
    "\n",
    "or \n",
    "\n",
    "a 1300 on the SAT -- $ N(1060 , 217) $ ?"
   ]
  },
  {
   "cell_type": "code",
   "execution_count": null,
   "id": "official-mention",
   "metadata": {},
   "outputs": [],
   "source": [
    "ACT_mu <- 21\n",
    "ACT_sigma <- 6\n",
    "\n",
    "ACT_score <- 27\n",
    "SAT_score <- 1300\n",
    "\n",
    "ptileACT <- pnorm(ACT_score, ACT_mu, ACT_sigma)\n",
    "cat('The ACT Score is at the ', ptileACT *100, ' percentile \\n')\n",
    "\n",
    "ptileSAT <- pnorm(SAT_score, SAT_mu, SAT_sigma)\n",
    "cat('The SAT Score is at the ', ptileSAT *100, ' percentile')"
   ]
  },
  {
   "cell_type": "markdown",
   "id": "worth-climb",
   "metadata": {},
   "source": [
    "####   How many standard deviations above the mean is an ACT score of 27? \n",
    "\n",
    "\n",
    " \n",
    "####   How many standard deviations above the mean is an SAT score of  1300?\n",
    "\n"
   ]
  },
  {
   "cell_type": "code",
   "execution_count": null,
   "id": "peaceful-millennium",
   "metadata": {
    "scrolled": true
   },
   "outputs": [],
   "source": [
    "ACT_stds <- (ACT_score - ACT_mu)/ACT_sigma\n",
    "SAT_stds <- (SAT_score - SAT_mu)/SAT_sigma\n",
    "cat('The ACT score is ', ACT_stds,' deviations away from the mean \\n')\n",
    "cat('The SAT score is ', SAT_stds,' deviations away from the mean \\n')"
   ]
  },
  {
   "cell_type": "markdown",
   "id": "optimum-binding",
   "metadata": {},
   "source": [
    " ACT standard deviations above mean $ =  \\frac{27-21}{6} = 1 $  \n",
    "   \n",
    " SAT standard deviations above mean $ =  \\frac{1300-1060}{217} \\approx{1.11} $"
   ]
  },
  {
   "cell_type": "markdown",
   "id": "coupled-family",
   "metadata": {},
   "source": [
    "#### The Standard Normal Distribution $ N(0,1)$\n"
   ]
  }
 ],
 "metadata": {
  "kernelspec": {
   "display_name": "R",
   "language": "R",
   "name": "ir"
  },
  "language_info": {
   "codemirror_mode": "r",
   "file_extension": ".r",
   "mimetype": "text/x-r-source",
   "name": "R",
   "pygments_lexer": "r",
   "version": "4.0.3"
  }
 },
 "nbformat": 4,
 "nbformat_minor": 5
}
